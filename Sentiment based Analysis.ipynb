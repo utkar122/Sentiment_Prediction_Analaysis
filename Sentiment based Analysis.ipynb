{
 "cells": [
  {
   "cell_type": "markdown",
   "id": "9407c7af",
   "metadata": {},
   "source": [
    "# Sentiment based Analysis"
   ]
  },
  {
   "cell_type": "code",
   "execution_count": 1,
   "id": "45259914",
   "metadata": {},
   "outputs": [
    {
     "name": "stderr",
     "output_type": "stream",
     "text": [
      "[nltk_data] Downloading package punkt to\n",
      "[nltk_data]     C:\\Users\\udixit\\AppData\\Roaming\\nltk_data...\n",
      "[nltk_data]   Package punkt is already up-to-date!\n",
      "[nltk_data] Downloading package averaged_perceptron_tagger to\n",
      "[nltk_data]     C:\\Users\\udixit\\AppData\\Roaming\\nltk_data...\n",
      "[nltk_data]   Package averaged_perceptron_tagger is already up-to-\n",
      "[nltk_data]       date!\n"
     ]
    }
   ],
   "source": [
    "import json \n",
    "import numpy as np\n",
    "import pandas as pd\n",
    "\n",
    "import re, nltk, string\n",
    "import spacy\n",
    "import en_core_web_sm\n",
    "nlp = spacy.load('en_core_web_sm',  disable=[\"parser\", \"ner\"])\n",
    "import seaborn as sns\n",
    "import matplotlib.pyplot as plt\n",
    "%matplotlib inline\n",
    "\n",
    "from plotly.offline import plot\n",
    "import plotly.graph_objects as go\n",
    "import plotly.express as px\n",
    "\n",
    "import nltk\n",
    "nltk.download('punkt')\n",
    "nltk.download('averaged_perceptron_tagger')\n",
    "\n",
    "from nltk.tokenize import word_tokenize\n",
    "from collections import Counter\n",
    "import string\n",
    "from nltk.stem.porter import PorterStemmer\n",
    "from nltk.stem import WordNetLemmatizer\n",
    "\n",
    "# import spellchecker\n",
    "# from spellchecker import SpellChecker\n",
    "\n",
    "from textblob import TextBlob\n",
    "from wordcloud import WordCloud, STOPWORDS, ImageColorGenerator\n",
    "from imblearn.over_sampling import SMOTE\n",
    "\n",
    "# Import pickle to save and load the model\n",
    "import pickle\n",
    "\n",
    "from sklearn.feature_extraction.text import CountVectorizer, TfidfVectorizer, TfidfTransformer\n",
    "from sklearn.metrics import accuracy_score\n",
    "from sklearn.model_selection import train_test_split, cross_val_score\n",
    "from sklearn.model_selection import RandomizedSearchCV, GridSearchCV\n",
    "from sklearn.metrics import confusion_matrix, classification_report, roc_auc_score\n",
    "from sklearn.metrics import precision_score, recall_score, f1_score\n",
    "# from sklearn.metrics import plot_roc_curve\n",
    "# Importing LogisticRegression from sklearn\n",
    "from sklearn.linear_model import LogisticRegression\n",
    "\n",
    "# Importing Random Forest Classifier from sklearn\n",
    "from sklearn.ensemble import RandomForestClassifier\n",
    "\n",
    "# importing libraries for XGBoost classifier\n",
    "import xgboost as xgb\n",
    "from xgboost import XGBClassifier\n",
    "\n",
    "from sklearn.metrics.pairwise import pairwise_distances\n",
    "\n",
    "from pprint import pprint\n",
    "# Ignore warnings\n",
    "import warnings\n",
    "warnings.filterwarnings(\"ignore\")"
   ]
  },
  {
   "cell_type": "markdown",
   "id": "f619b30d",
   "metadata": {},
   "source": [
    "## Reading Data"
   ]
  },
  {
   "cell_type": "code",
   "execution_count": 2,
   "id": "3ac4c4d5",
   "metadata": {},
   "outputs": [
    {
     "data": {
      "text/html": [
       "<div>\n",
       "<style scoped>\n",
       "    .dataframe tbody tr th:only-of-type {\n",
       "        vertical-align: middle;\n",
       "    }\n",
       "\n",
       "    .dataframe tbody tr th {\n",
       "        vertical-align: top;\n",
       "    }\n",
       "\n",
       "    .dataframe thead th {\n",
       "        text-align: right;\n",
       "    }\n",
       "</style>\n",
       "<table border=\"1\" class=\"dataframe\">\n",
       "  <thead>\n",
       "    <tr style=\"text-align: right;\">\n",
       "      <th></th>\n",
       "      <th>id</th>\n",
       "      <th>brand</th>\n",
       "      <th>categories</th>\n",
       "      <th>manufacturer</th>\n",
       "      <th>name</th>\n",
       "      <th>reviews_date</th>\n",
       "      <th>reviews_didPurchase</th>\n",
       "      <th>reviews_doRecommend</th>\n",
       "      <th>reviews_rating</th>\n",
       "      <th>reviews_text</th>\n",
       "      <th>reviews_title</th>\n",
       "      <th>reviews_userCity</th>\n",
       "      <th>reviews_userProvince</th>\n",
       "      <th>reviews_username</th>\n",
       "      <th>user_sentiment</th>\n",
       "    </tr>\n",
       "  </thead>\n",
       "  <tbody>\n",
       "    <tr>\n",
       "      <th>0</th>\n",
       "      <td>AV13O1A8GV-KLJ3akUyj</td>\n",
       "      <td>Universal Music</td>\n",
       "      <td>Movies, Music &amp; Books,Music,R&amp;b,Movies &amp; TV,Mo...</td>\n",
       "      <td>Universal Music Group / Cash Money</td>\n",
       "      <td>Pink Friday: Roman Reloaded Re-Up (w/dvd)</td>\n",
       "      <td>2012-11-30T06:21:45.000Z</td>\n",
       "      <td>NaN</td>\n",
       "      <td>NaN</td>\n",
       "      <td>5</td>\n",
       "      <td>i love this album. it's very good. more to the...</td>\n",
       "      <td>Just Awesome</td>\n",
       "      <td>Los Angeles</td>\n",
       "      <td>NaN</td>\n",
       "      <td>joshua</td>\n",
       "      <td>Positive</td>\n",
       "    </tr>\n",
       "    <tr>\n",
       "      <th>1</th>\n",
       "      <td>AV14LG0R-jtxr-f38QfS</td>\n",
       "      <td>Lundberg</td>\n",
       "      <td>Food,Packaged Foods,Snacks,Crackers,Snacks, Co...</td>\n",
       "      <td>Lundberg</td>\n",
       "      <td>Lundberg Organic Cinnamon Toast Rice Cakes</td>\n",
       "      <td>2017-07-09T00:00:00.000Z</td>\n",
       "      <td>True</td>\n",
       "      <td>NaN</td>\n",
       "      <td>5</td>\n",
       "      <td>Good flavor. This review was collected as part...</td>\n",
       "      <td>Good</td>\n",
       "      <td>NaN</td>\n",
       "      <td>NaN</td>\n",
       "      <td>dorothy w</td>\n",
       "      <td>Positive</td>\n",
       "    </tr>\n",
       "    <tr>\n",
       "      <th>2</th>\n",
       "      <td>AV14LG0R-jtxr-f38QfS</td>\n",
       "      <td>Lundberg</td>\n",
       "      <td>Food,Packaged Foods,Snacks,Crackers,Snacks, Co...</td>\n",
       "      <td>Lundberg</td>\n",
       "      <td>Lundberg Organic Cinnamon Toast Rice Cakes</td>\n",
       "      <td>2017-07-09T00:00:00.000Z</td>\n",
       "      <td>True</td>\n",
       "      <td>NaN</td>\n",
       "      <td>5</td>\n",
       "      <td>Good flavor.</td>\n",
       "      <td>Good</td>\n",
       "      <td>NaN</td>\n",
       "      <td>NaN</td>\n",
       "      <td>dorothy w</td>\n",
       "      <td>Positive</td>\n",
       "    </tr>\n",
       "    <tr>\n",
       "      <th>3</th>\n",
       "      <td>AV16khLE-jtxr-f38VFn</td>\n",
       "      <td>K-Y</td>\n",
       "      <td>Personal Care,Medicine Cabinet,Lubricant/Sperm...</td>\n",
       "      <td>K-Y</td>\n",
       "      <td>K-Y Love Sensuality Pleasure Gel</td>\n",
       "      <td>2016-01-06T00:00:00.000Z</td>\n",
       "      <td>False</td>\n",
       "      <td>False</td>\n",
       "      <td>1</td>\n",
       "      <td>I read through the reviews on here before look...</td>\n",
       "      <td>Disappointed</td>\n",
       "      <td>NaN</td>\n",
       "      <td>NaN</td>\n",
       "      <td>rebecca</td>\n",
       "      <td>Negative</td>\n",
       "    </tr>\n",
       "    <tr>\n",
       "      <th>4</th>\n",
       "      <td>AV16khLE-jtxr-f38VFn</td>\n",
       "      <td>K-Y</td>\n",
       "      <td>Personal Care,Medicine Cabinet,Lubricant/Sperm...</td>\n",
       "      <td>K-Y</td>\n",
       "      <td>K-Y Love Sensuality Pleasure Gel</td>\n",
       "      <td>2016-12-21T00:00:00.000Z</td>\n",
       "      <td>False</td>\n",
       "      <td>False</td>\n",
       "      <td>1</td>\n",
       "      <td>My husband bought this gel for us. The gel cau...</td>\n",
       "      <td>Irritation</td>\n",
       "      <td>NaN</td>\n",
       "      <td>NaN</td>\n",
       "      <td>walker557</td>\n",
       "      <td>Negative</td>\n",
       "    </tr>\n",
       "  </tbody>\n",
       "</table>\n",
       "</div>"
      ],
      "text/plain": [
       "                     id            brand  \\\n",
       "0  AV13O1A8GV-KLJ3akUyj  Universal Music   \n",
       "1  AV14LG0R-jtxr-f38QfS         Lundberg   \n",
       "2  AV14LG0R-jtxr-f38QfS         Lundberg   \n",
       "3  AV16khLE-jtxr-f38VFn              K-Y   \n",
       "4  AV16khLE-jtxr-f38VFn              K-Y   \n",
       "\n",
       "                                          categories  \\\n",
       "0  Movies, Music & Books,Music,R&b,Movies & TV,Mo...   \n",
       "1  Food,Packaged Foods,Snacks,Crackers,Snacks, Co...   \n",
       "2  Food,Packaged Foods,Snacks,Crackers,Snacks, Co...   \n",
       "3  Personal Care,Medicine Cabinet,Lubricant/Sperm...   \n",
       "4  Personal Care,Medicine Cabinet,Lubricant/Sperm...   \n",
       "\n",
       "                         manufacturer  \\\n",
       "0  Universal Music Group / Cash Money   \n",
       "1                            Lundberg   \n",
       "2                            Lundberg   \n",
       "3                                 K-Y   \n",
       "4                                 K-Y   \n",
       "\n",
       "                                         name              reviews_date  \\\n",
       "0   Pink Friday: Roman Reloaded Re-Up (w/dvd)  2012-11-30T06:21:45.000Z   \n",
       "1  Lundberg Organic Cinnamon Toast Rice Cakes  2017-07-09T00:00:00.000Z   \n",
       "2  Lundberg Organic Cinnamon Toast Rice Cakes  2017-07-09T00:00:00.000Z   \n",
       "3            K-Y Love Sensuality Pleasure Gel  2016-01-06T00:00:00.000Z   \n",
       "4            K-Y Love Sensuality Pleasure Gel  2016-12-21T00:00:00.000Z   \n",
       "\n",
       "  reviews_didPurchase reviews_doRecommend  reviews_rating  \\\n",
       "0                 NaN                 NaN               5   \n",
       "1                True                 NaN               5   \n",
       "2                True                 NaN               5   \n",
       "3               False               False               1   \n",
       "4               False               False               1   \n",
       "\n",
       "                                        reviews_text reviews_title  \\\n",
       "0  i love this album. it's very good. more to the...  Just Awesome   \n",
       "1  Good flavor. This review was collected as part...          Good   \n",
       "2                                       Good flavor.          Good   \n",
       "3  I read through the reviews on here before look...  Disappointed   \n",
       "4  My husband bought this gel for us. The gel cau...    Irritation   \n",
       "\n",
       "  reviews_userCity reviews_userProvince reviews_username user_sentiment  \n",
       "0      Los Angeles                  NaN           joshua       Positive  \n",
       "1              NaN                  NaN        dorothy w       Positive  \n",
       "2              NaN                  NaN        dorothy w       Positive  \n",
       "3              NaN                  NaN          rebecca       Negative  \n",
       "4              NaN                  NaN        walker557       Negative  "
      ]
     },
     "execution_count": 2,
     "metadata": {},
     "output_type": "execute_result"
    }
   ],
   "source": [
    "df = pd.read_csv(\"sample30.csv\")\n",
    "df.head(5)"
   ]
  },
  {
   "cell_type": "code",
   "execution_count": 3,
   "id": "95545f1e",
   "metadata": {},
   "outputs": [
    {
     "data": {
      "text/plain": [
       "(30000, 15)"
      ]
     },
     "execution_count": 3,
     "metadata": {},
     "output_type": "execute_result"
    }
   ],
   "source": [
    "# shape of data\n",
    "df.shape"
   ]
  },
  {
   "cell_type": "code",
   "execution_count": 4,
   "id": "a5f88405",
   "metadata": {},
   "outputs": [
    {
     "data": {
      "text/plain": [
       "450000"
      ]
     },
     "execution_count": 4,
     "metadata": {},
     "output_type": "execute_result"
    }
   ],
   "source": [
    "#size of data\n",
    "df.size"
   ]
  },
  {
   "cell_type": "code",
   "execution_count": 5,
   "id": "677c44e4",
   "metadata": {},
   "outputs": [
    {
     "data": {
      "text/plain": [
       "Index(['id', 'brand', 'categories', 'manufacturer', 'name', 'reviews_date',\n",
       "       'reviews_didPurchase', 'reviews_doRecommend', 'reviews_rating',\n",
       "       'reviews_text', 'reviews_title', 'reviews_userCity',\n",
       "       'reviews_userProvince', 'reviews_username', 'user_sentiment'],\n",
       "      dtype='object')"
      ]
     },
     "execution_count": 5,
     "metadata": {},
     "output_type": "execute_result"
    }
   ],
   "source": [
    "#columns names\n",
    "df.columns"
   ]
  },
  {
   "cell_type": "code",
   "execution_count": 6,
   "id": "6025e7ee",
   "metadata": {},
   "outputs": [
    {
     "name": "stdout",
     "output_type": "stream",
     "text": [
      "<class 'pandas.core.frame.DataFrame'>\n",
      "RangeIndex: 30000 entries, 0 to 29999\n",
      "Data columns (total 15 columns):\n",
      " #   Column                Non-Null Count  Dtype \n",
      "---  ------                --------------  ----- \n",
      " 0   id                    30000 non-null  object\n",
      " 1   brand                 30000 non-null  object\n",
      " 2   categories            30000 non-null  object\n",
      " 3   manufacturer          29859 non-null  object\n",
      " 4   name                  30000 non-null  object\n",
      " 5   reviews_date          29954 non-null  object\n",
      " 6   reviews_didPurchase   15932 non-null  object\n",
      " 7   reviews_doRecommend   27430 non-null  object\n",
      " 8   reviews_rating        30000 non-null  int64 \n",
      " 9   reviews_text          30000 non-null  object\n",
      " 10  reviews_title         29810 non-null  object\n",
      " 11  reviews_userCity      1929 non-null   object\n",
      " 12  reviews_userProvince  170 non-null    object\n",
      " 13  reviews_username      29937 non-null  object\n",
      " 14  user_sentiment        29999 non-null  object\n",
      "dtypes: int64(1), object(14)\n",
      "memory usage: 3.4+ MB\n"
     ]
    }
   ],
   "source": [
    "#info about datatype\n",
    "df.info()"
   ]
  },
  {
   "cell_type": "markdown",
   "id": "ceb6698f",
   "metadata": {},
   "source": [
    "## Step2: Data Cleaing and EDA"
   ]
  },
  {
   "cell_type": "code",
   "execution_count": 7,
   "id": "19fd43ad",
   "metadata": {},
   "outputs": [
    {
     "name": "stdout",
     "output_type": "stream",
     "text": [
      "manufacturer \t 0.47000000000000003\n",
      "reviews_date \t 0.15333333333333335\n",
      "reviews_didPurchase \t 46.89333333333333\n",
      "reviews_doRecommend \t 8.566666666666666\n",
      "reviews_title \t 0.6333333333333333\n",
      "reviews_userCity \t 93.57\n",
      "reviews_userProvince \t 99.43333333333332\n",
      "reviews_username \t 0.21\n",
      "user_sentiment \t 0.0033333333333333335\n"
     ]
    }
   ],
   "source": [
    "p = df.columns[(df.isnull().any())].tolist()\n",
    "## To check the percentgae of null values present in each column of our dataset\n",
    "for i in p:\n",
    "    print(i,\"\\t\",df[i].isnull().sum()/int(df.shape[0]) *100.0)    "
   ]
  },
  {
   "cell_type": "code",
   "execution_count": 8,
   "id": "e2aa228b",
   "metadata": {},
   "outputs": [],
   "source": [
    "# creating 2 list 1 more than 40% null value and 2 less than 40%\n",
    "# we will drop for more than 40%\n",
    "# we will check for null value less than 40% ,using fillna method we will substitute value.\n",
    "col_to_drop=[]\n",
    "col_to_fill=[]\n",
    "for i in p:\n",
    "     val = df[i].isnull().sum()/int(df.shape[0]) *100.0\n",
    "     if val > 40  :\n",
    "        col_to_drop.append(i)\n",
    "     elif val <= 40 :\n",
    "        col_to_fill.append(i)   "
   ]
  },
  {
   "cell_type": "code",
   "execution_count": 9,
   "id": "e77be3f9",
   "metadata": {},
   "outputs": [
    {
     "data": {
      "text/plain": [
       "['reviews_didPurchase', 'reviews_userCity', 'reviews_userProvince']"
      ]
     },
     "execution_count": 9,
     "metadata": {},
     "output_type": "execute_result"
    }
   ],
   "source": [
    "col_to_drop"
   ]
  },
  {
   "cell_type": "code",
   "execution_count": 10,
   "id": "f5eab0c7",
   "metadata": {},
   "outputs": [],
   "source": [
    "## Dropping those columns which have null values > 40%\n",
    "df.drop(col_to_drop,inplace=True,axis=1)"
   ]
  },
  {
   "cell_type": "code",
   "execution_count": 11,
   "id": "2f168107",
   "metadata": {},
   "outputs": [
    {
     "data": {
      "text/plain": [
       "(30000, 12)"
      ]
     },
     "execution_count": 11,
     "metadata": {},
     "output_type": "execute_result"
    }
   ],
   "source": [
    "df.shape"
   ]
  },
  {
   "cell_type": "code",
   "execution_count": 12,
   "id": "7422c9d1",
   "metadata": {},
   "outputs": [
    {
     "data": {
      "text/plain": [
       "id                        0\n",
       "brand                     0\n",
       "categories                0\n",
       "manufacturer            141\n",
       "name                      0\n",
       "reviews_date             46\n",
       "reviews_doRecommend    2570\n",
       "reviews_rating            0\n",
       "reviews_text              0\n",
       "reviews_title           190\n",
       "reviews_username         63\n",
       "user_sentiment            1\n",
       "dtype: int64"
      ]
     },
     "execution_count": 12,
     "metadata": {},
     "output_type": "execute_result"
    }
   ],
   "source": [
    "# after dropping checking for null values\n",
    "df.isnull().sum()"
   ]
  },
  {
   "cell_type": "code",
   "execution_count": 13,
   "id": "81bf79d2",
   "metadata": {},
   "outputs": [],
   "source": [
    "df=df[~df['manufacturer'].isna()]\n",
    "df=df[~df['reviews_date'].isna()]\n",
    "df=df[~df['reviews_title'].isna()]\n",
    "df=df[~df['user_sentiment'].isna()]\n",
    "df=df[~df['reviews_username'].isna()]"
   ]
  },
  {
   "cell_type": "code",
   "execution_count": 14,
   "id": "679fdd52",
   "metadata": {},
   "outputs": [
    {
     "data": {
      "text/plain": [
       "id                        0\n",
       "brand                     0\n",
       "categories                0\n",
       "manufacturer              0\n",
       "name                      0\n",
       "reviews_date              0\n",
       "reviews_doRecommend    2336\n",
       "reviews_rating            0\n",
       "reviews_text              0\n",
       "reviews_title             0\n",
       "reviews_username          0\n",
       "user_sentiment            0\n",
       "dtype: int64"
      ]
     },
     "execution_count": 14,
     "metadata": {},
     "output_type": "execute_result"
    }
   ],
   "source": [
    "df.isnull().sum()"
   ]
  },
  {
   "cell_type": "code",
   "execution_count": 15,
   "id": "b38507d1",
   "metadata": {},
   "outputs": [
    {
     "data": {
      "text/plain": [
       "(29566, 12)"
      ]
     },
     "execution_count": 15,
     "metadata": {},
     "output_type": "execute_result"
    }
   ],
   "source": [
    "df.shape"
   ]
  },
  {
   "cell_type": "markdown",
   "id": "27aa214c",
   "metadata": {},
   "source": [
    "#### As the columns reviews_doRecommend have max null values hence dropping it and not necessary for our modal building."
   ]
  },
  {
   "cell_type": "code",
   "execution_count": 16,
   "id": "be78c4a1",
   "metadata": {},
   "outputs": [],
   "source": [
    "df = df.drop(['reviews_doRecommend'],axis=1)"
   ]
  },
  {
   "cell_type": "code",
   "execution_count": 17,
   "id": "d8cf4ac8",
   "metadata": {},
   "outputs": [
    {
     "data": {
      "text/plain": [
       "(29566, 11)"
      ]
     },
     "execution_count": 17,
     "metadata": {},
     "output_type": "execute_result"
    }
   ],
   "source": [
    "df.shape"
   ]
  },
  {
   "cell_type": "code",
   "execution_count": 18,
   "id": "f81743dc",
   "metadata": {},
   "outputs": [
    {
     "data": {
      "text/html": [
       "<div>\n",
       "<style scoped>\n",
       "    .dataframe tbody tr th:only-of-type {\n",
       "        vertical-align: middle;\n",
       "    }\n",
       "\n",
       "    .dataframe tbody tr th {\n",
       "        vertical-align: top;\n",
       "    }\n",
       "\n",
       "    .dataframe thead th {\n",
       "        text-align: right;\n",
       "    }\n",
       "</style>\n",
       "<table border=\"1\" class=\"dataframe\">\n",
       "  <thead>\n",
       "    <tr style=\"text-align: right;\">\n",
       "      <th></th>\n",
       "      <th>id</th>\n",
       "      <th>brand</th>\n",
       "      <th>categories</th>\n",
       "      <th>manufacturer</th>\n",
       "      <th>name</th>\n",
       "      <th>reviews_date</th>\n",
       "      <th>reviews_rating</th>\n",
       "      <th>reviews_text</th>\n",
       "      <th>reviews_title</th>\n",
       "      <th>reviews_username</th>\n",
       "      <th>user_sentiment</th>\n",
       "    </tr>\n",
       "  </thead>\n",
       "  <tbody>\n",
       "    <tr>\n",
       "      <th>0</th>\n",
       "      <td>AV13O1A8GV-KLJ3akUyj</td>\n",
       "      <td>Universal Music</td>\n",
       "      <td>Movies, Music &amp; Books,Music,R&amp;b,Movies &amp; TV,Mo...</td>\n",
       "      <td>Universal Music Group / Cash Money</td>\n",
       "      <td>Pink Friday: Roman Reloaded Re-Up (w/dvd)</td>\n",
       "      <td>2012-11-30T06:21:45.000Z</td>\n",
       "      <td>5</td>\n",
       "      <td>i love this album. it's very good. more to the...</td>\n",
       "      <td>Just Awesome</td>\n",
       "      <td>joshua</td>\n",
       "      <td>Positive</td>\n",
       "    </tr>\n",
       "    <tr>\n",
       "      <th>1</th>\n",
       "      <td>AV14LG0R-jtxr-f38QfS</td>\n",
       "      <td>Lundberg</td>\n",
       "      <td>Food,Packaged Foods,Snacks,Crackers,Snacks, Co...</td>\n",
       "      <td>Lundberg</td>\n",
       "      <td>Lundberg Organic Cinnamon Toast Rice Cakes</td>\n",
       "      <td>2017-07-09T00:00:00.000Z</td>\n",
       "      <td>5</td>\n",
       "      <td>Good flavor. This review was collected as part...</td>\n",
       "      <td>Good</td>\n",
       "      <td>dorothy w</td>\n",
       "      <td>Positive</td>\n",
       "    </tr>\n",
       "    <tr>\n",
       "      <th>2</th>\n",
       "      <td>AV14LG0R-jtxr-f38QfS</td>\n",
       "      <td>Lundberg</td>\n",
       "      <td>Food,Packaged Foods,Snacks,Crackers,Snacks, Co...</td>\n",
       "      <td>Lundberg</td>\n",
       "      <td>Lundberg Organic Cinnamon Toast Rice Cakes</td>\n",
       "      <td>2017-07-09T00:00:00.000Z</td>\n",
       "      <td>5</td>\n",
       "      <td>Good flavor.</td>\n",
       "      <td>Good</td>\n",
       "      <td>dorothy w</td>\n",
       "      <td>Positive</td>\n",
       "    </tr>\n",
       "    <tr>\n",
       "      <th>3</th>\n",
       "      <td>AV16khLE-jtxr-f38VFn</td>\n",
       "      <td>K-Y</td>\n",
       "      <td>Personal Care,Medicine Cabinet,Lubricant/Sperm...</td>\n",
       "      <td>K-Y</td>\n",
       "      <td>K-Y Love Sensuality Pleasure Gel</td>\n",
       "      <td>2016-01-06T00:00:00.000Z</td>\n",
       "      <td>1</td>\n",
       "      <td>I read through the reviews on here before look...</td>\n",
       "      <td>Disappointed</td>\n",
       "      <td>rebecca</td>\n",
       "      <td>Negative</td>\n",
       "    </tr>\n",
       "    <tr>\n",
       "      <th>4</th>\n",
       "      <td>AV16khLE-jtxr-f38VFn</td>\n",
       "      <td>K-Y</td>\n",
       "      <td>Personal Care,Medicine Cabinet,Lubricant/Sperm...</td>\n",
       "      <td>K-Y</td>\n",
       "      <td>K-Y Love Sensuality Pleasure Gel</td>\n",
       "      <td>2016-12-21T00:00:00.000Z</td>\n",
       "      <td>1</td>\n",
       "      <td>My husband bought this gel for us. The gel cau...</td>\n",
       "      <td>Irritation</td>\n",
       "      <td>walker557</td>\n",
       "      <td>Negative</td>\n",
       "    </tr>\n",
       "  </tbody>\n",
       "</table>\n",
       "</div>"
      ],
      "text/plain": [
       "                     id            brand  \\\n",
       "0  AV13O1A8GV-KLJ3akUyj  Universal Music   \n",
       "1  AV14LG0R-jtxr-f38QfS         Lundberg   \n",
       "2  AV14LG0R-jtxr-f38QfS         Lundberg   \n",
       "3  AV16khLE-jtxr-f38VFn              K-Y   \n",
       "4  AV16khLE-jtxr-f38VFn              K-Y   \n",
       "\n",
       "                                          categories  \\\n",
       "0  Movies, Music & Books,Music,R&b,Movies & TV,Mo...   \n",
       "1  Food,Packaged Foods,Snacks,Crackers,Snacks, Co...   \n",
       "2  Food,Packaged Foods,Snacks,Crackers,Snacks, Co...   \n",
       "3  Personal Care,Medicine Cabinet,Lubricant/Sperm...   \n",
       "4  Personal Care,Medicine Cabinet,Lubricant/Sperm...   \n",
       "\n",
       "                         manufacturer  \\\n",
       "0  Universal Music Group / Cash Money   \n",
       "1                            Lundberg   \n",
       "2                            Lundberg   \n",
       "3                                 K-Y   \n",
       "4                                 K-Y   \n",
       "\n",
       "                                         name              reviews_date  \\\n",
       "0   Pink Friday: Roman Reloaded Re-Up (w/dvd)  2012-11-30T06:21:45.000Z   \n",
       "1  Lundberg Organic Cinnamon Toast Rice Cakes  2017-07-09T00:00:00.000Z   \n",
       "2  Lundberg Organic Cinnamon Toast Rice Cakes  2017-07-09T00:00:00.000Z   \n",
       "3            K-Y Love Sensuality Pleasure Gel  2016-01-06T00:00:00.000Z   \n",
       "4            K-Y Love Sensuality Pleasure Gel  2016-12-21T00:00:00.000Z   \n",
       "\n",
       "   reviews_rating                                       reviews_text  \\\n",
       "0               5  i love this album. it's very good. more to the...   \n",
       "1               5  Good flavor. This review was collected as part...   \n",
       "2               5                                       Good flavor.   \n",
       "3               1  I read through the reviews on here before look...   \n",
       "4               1  My husband bought this gel for us. The gel cau...   \n",
       "\n",
       "  reviews_title reviews_username user_sentiment  \n",
       "0  Just Awesome           joshua       Positive  \n",
       "1          Good        dorothy w       Positive  \n",
       "2          Good        dorothy w       Positive  \n",
       "3  Disappointed          rebecca       Negative  \n",
       "4    Irritation        walker557       Negative  "
      ]
     },
     "execution_count": 18,
     "metadata": {},
     "output_type": "execute_result"
    }
   ],
   "source": [
    "df.head(5)"
   ]
  },
  {
   "cell_type": "markdown",
   "id": "63fcc67d",
   "metadata": {},
   "source": [
    "## Exploratory Data Analysis"
   ]
  },
  {
   "cell_type": "markdown",
   "id": "865d049f",
   "metadata": {},
   "source": [
    "### Checking Distribution of `reviews_rating` column"
   ]
  },
  {
   "cell_type": "code",
   "execution_count": 19,
   "id": "2637bb99",
   "metadata": {},
   "outputs": [
    {
     "data": {
      "image/png": "[encoded data removed]",
      "text/plain": [
       "<Figure size 640x480 with 1 Axes>"
      ]
     },
     "metadata": {},
     "output_type": "display_data"
    }
   ],
   "source": [
    "sns.countplot(x = 'reviews_rating', data = df).set(title=\"Distribution of reviews rating by count\", xlabel=\"reviews rating\", ylabel=\"reviews count\")\n",
    "plt.show()"
   ]
  },
  {
   "cell_type": "markdown",
   "id": "88da65b0",
   "metadata": {},
   "source": [
    "#### Insights:<br/>\n",
    "Most of the ratings from the users have been on the higher side. Most of the review ratings have been 5. This would surely cause a data imbalance as user_sentiment should be in alignment with the ratings. We will check and handle data imbalance using smote technique lter on."
   ]
  },
  {
   "cell_type": "markdown",
   "id": "93b7d667",
   "metadata": {},
   "source": [
    "### Checking Top 5 Brands with negative reviews"
   ]
  },
  {
   "cell_type": "code",
   "execution_count": 20,
   "id": "6ccfe08c",
   "metadata": {},
   "outputs": [
    {
     "data": {
      "image/png": "[encoded data removed]",
      "text/plain": [
       "<Figure size 640x480 with 1 Axes>"
      ]
     },
     "metadata": {},
     "output_type": "display_data"
    }
   ],
   "source": [
    "df[ df.user_sentiment == 'Negative' ].brand.value_counts(normalize=True, ascending=False).head(5).plot(kind='bar')\n",
    "plt.title(\"Top 5 Brands with negative reviews\")\n",
    "plt.xlabel(\"Brands\")\n",
    "plt.ylabel(\"Percentage of negative reviews\")\n",
    "plt.show()"
   ]
  },
  {
   "cell_type": "markdown",
   "id": "77940c41",
   "metadata": {},
   "source": [
    "#### INSIGHTS:\n",
    "Clorox is the product that is rated the most negative and nearly 30% of the negative reviews have been towards Clorox."
   ]
  },
  {
   "cell_type": "code",
   "execution_count": 21,
   "id": "6a249227",
   "metadata": {},
   "outputs": [
    {
     "data": {
      "text/plain": [
       "brand\n",
       "Clorox                   0.357302\n",
       "Warner Home Video        0.112426\n",
       "Disney                   0.040452\n",
       "L'oreal Paris            0.040114\n",
       "FOX                      0.030001\n",
       "                           ...   \n",
       "Rizzy Home               0.000034\n",
       "Pacific Natural Foods    0.000034\n",
       "Noosa                    0.000034\n",
       "Southern Enterprises     0.000034\n",
       "Universal Music          0.000034\n",
       "Name: proportion, Length: 197, dtype: float64"
      ]
     },
     "execution_count": 21,
     "metadata": {},
     "output_type": "execute_result"
    }
   ],
   "source": [
    "#checking for data\n",
    "df['brand'].value_counts(normalize = True)"
   ]
  },
  {
   "cell_type": "markdown",
   "id": "40959b0f",
   "metadata": {},
   "source": [
    "#### INSIGHTS:\n",
    "* Surprisingly `Clorox` is the product that is rated the most positive as well and more than 35% of the positive reviews have been towards `Clorox`.\n",
    "* Checking the data, we realize that 35% of the brands for which we have the data is actually `Clorox` which is why it has the most reviews."
   ]
  },
  {
   "cell_type": "markdown",
   "id": "e914394b",
   "metadata": {},
   "source": [
    "### Checking review counts based on the review year"
   ]
  },
  {
   "cell_type": "code",
   "execution_count": 22,
   "id": "e7ea016a",
   "metadata": {},
   "outputs": [],
   "source": [
    "# Converting review_date to datetime before doing analysis\n",
    "df['reviews_date'] = pd.to_datetime(df['reviews_date'], errors='coerce')"
   ]
  },
  {
   "cell_type": "code",
   "execution_count": 23,
   "id": "c8c716c1",
   "metadata": {},
   "outputs": [],
   "source": [
    "# Getting year component from date\n",
    "year = df.reviews_date.dt.year\n",
    "month = df.reviews_date.dt.month"
   ]
  },
  {
   "cell_type": "code",
   "execution_count": 24,
   "id": "fbdb5c24",
   "metadata": {},
   "outputs": [
    {
     "data": {
      "text/plain": [
       "0        2012.0\n",
       "1        2017.0\n",
       "2        2017.0\n",
       "3        2016.0\n",
       "4        2016.0\n",
       "          ...  \n",
       "29995    2017.0\n",
       "29996    2017.0\n",
       "29997    2017.0\n",
       "29998    2017.0\n",
       "29999    2017.0\n",
       "Name: reviews_date, Length: 29566, dtype: float64"
      ]
     },
     "execution_count": 24,
     "metadata": {},
     "output_type": "execute_result"
    }
   ],
   "source": [
    "year"
   ]
  },
  {
   "cell_type": "code",
   "execution_count": 25,
   "id": "307bc9ff",
   "metadata": {},
   "outputs": [
    {
     "data": {
      "text/plain": [
       "0        11.0\n",
       "1         7.0\n",
       "2         7.0\n",
       "3         1.0\n",
       "4        12.0\n",
       "         ... \n",
       "29995     1.0\n",
       "29996     1.0\n",
       "29997     1.0\n",
       "29998     1.0\n",
       "29999     1.0\n",
       "Name: reviews_date, Length: 29566, dtype: float64"
      ]
     },
     "execution_count": 25,
     "metadata": {},
     "output_type": "execute_result"
    }
   ],
   "source": [
    "month"
   ]
  },
  {
   "cell_type": "code",
   "execution_count": 26,
   "id": "1c5752d1",
   "metadata": {},
   "outputs": [
    {
     "data": {
      "image/png": "[encoded data removed]",
      "text/plain": [
       "<Figure size 500x500 with 1 Axes>"
      ]
     },
     "metadata": {},
     "output_type": "display_data"
    }
   ],
   "source": [
    "# Creating a distribution plot based on reviews year \n",
    "sns.displot(data=df, x=df.reviews_date.dt.year).set(title=\"Distribution of reviews by year\", xlabel=\"reviews year\", ylabel=\"reviews count\")\n",
    "plt.show()"
   ]
  },
  {
   "cell_type": "code",
   "execution_count": 27,
   "id": "a916e251",
   "metadata": {},
   "outputs": [
    {
     "data": {
      "image/png": "[encoded data removed]",
      "text/plain": [
       "<Figure size 500x500 with 1 Axes>"
      ]
     },
     "metadata": {},
     "output_type": "display_data"
    }
   ],
   "source": [
    "# Creating a distribution plot based on reviews year \n",
    "sns.displot(data=df, x=df.reviews_date.dt.month).set(title=\"Distribution of reviews by month\", xlabel=\"reviews month\", ylabel=\"reviews count\")\n",
    "plt.show()"
   ]
  },
  {
   "cell_type": "markdown",
   "id": "b8012973",
   "metadata": {},
   "source": [
    "### Checking Movie categories by Rating"
   ]
  },
  {
   "cell_type": "code",
   "execution_count": 28,
   "id": "4ab666a6",
   "metadata": {},
   "outputs": [
    {
     "data": {
      "image/png": "[encoded data removed]",
      "text/plain": [
       "<Figure size 500x500 with 1 Axes>"
      ]
     },
     "metadata": {},
     "output_type": "display_data"
    }
   ],
   "source": [
    "plt.figure(figsize = [5,5])\n",
    "\n",
    "sns.boxplot(data=df, x='user_sentiment', y='reviews_rating', color='skyblue')\n",
    "plt.xticks(rotation = 45)\n",
    "\n",
    "plt.tight_layout(pad = 4)\n",
    "plt.show()"
   ]
  },
  {
   "cell_type": "code",
   "execution_count": 29,
   "id": "751f59c0",
   "metadata": {},
   "outputs": [
    {
     "data": {
      "image/png": "[encoded data removed]",
      "text/plain": [
       "<Figure size 500x500 with 1 Axes>"
      ]
     },
     "metadata": {},
     "output_type": "display_data"
    }
   ],
   "source": [
    "plt.figure(figsize = [5,5])\n",
    "sns.countplot(x = 'user_sentiment', data = df).set(title=\"Distribution of user sentiment by count\", xlabel=\"user_sentiment\", ylabel=\"user_sentiment\")\n",
    "plt.show()"
   ]
  },
  {
   "cell_type": "markdown",
   "id": "6e09e6f5",
   "metadata": {},
   "source": [
    "#### INSIGHTS:\n",
    "Positive user sentiments are much more than Negative sentiments.But we have to apply class imblance techniques before procceding."
   ]
  },
  {
   "cell_type": "code",
   "execution_count": 30,
   "id": "a7940bca",
   "metadata": {},
   "outputs": [
    {
     "data": {
      "text/plain": [
       "reviews_rating\n",
       "4     535\n",
       "5    1839\n",
       "Name: user_sentiment, dtype: int64"
      ]
     },
     "execution_count": 30,
     "metadata": {},
     "output_type": "execute_result"
    }
   ],
   "source": [
    "df[ (df.user_sentiment == 'Negative') & (df.reviews_rating >= 4) ].groupby(['reviews_rating']).count().user_sentiment"
   ]
  },
  {
   "cell_type": "markdown",
   "id": "d3637553",
   "metadata": {},
   "source": [
    "#### INSIGHTS:\n",
    "* It's surprising to note that there are brands which have Negative sentiments but much higher review ratings (4 or 5). There are 2396 such records.\n",
    "* It might be a data anomaly or there might be a data lag between when the rating was provided and user sentiment given later after use.\n",
    "* For the purpose of this specific business problem, we will treat this specific analysis as out of scope and move further with the pre-processing steps."
   ]
  },
  {
   "cell_type": "markdown",
   "id": "e4d8ce08",
   "metadata": {},
   "source": [
    "### DataType Conversion"
   ]
  },
  {
   "cell_type": "markdown",
   "id": "3d2e1bb8",
   "metadata": {},
   "source": [
    "Before we start the pre-processing steps, we need to make sure that all the text columns are converted to string type for future text operations."
   ]
  },
  {
   "cell_type": "code",
   "execution_count": 31,
   "id": "1753dcc6",
   "metadata": {},
   "outputs": [],
   "source": [
    "# Convert all the text columns to string for performing text operations\n",
    "df['brand'] = df['brand'].astype(str)\n",
    "df['categories'] = df['categories'].astype(str)\n",
    "df['manufacturer'] = df['manufacturer'].astype(str)\n",
    "df['name'] = df['name'].astype(str)\n",
    "df['reviews_text'] = df['reviews_text'].astype(str)\n",
    "df['reviews_title'] = df['reviews_title'].astype(str)\n",
    "df['reviews_username'] = df['reviews_username'].astype(str)"
   ]
  },
  {
   "cell_type": "markdown",
   "id": "e82b25ad",
   "metadata": {},
   "source": [
    "## Step 3 Data Pre-Processing"
   ]
  },
  {
   "cell_type": "markdown",
   "id": "083a5d5f",
   "metadata": {},
   "source": [
    "#### Combining reviews_text and reviews_title columns into reviews_combined and dropping the initial fields"
   ]
  },
  {
   "cell_type": "code",
   "execution_count": 32,
   "id": "bab59444",
   "metadata": {},
   "outputs": [],
   "source": [
    "df['reviews_combined'] = df['reviews_text'] + \" \" + df['reviews_title']\n",
    "df.drop(columns=['reviews_text', 'reviews_title'], inplace=True)"
   ]
  },
  {
   "cell_type": "code",
   "execution_count": 33,
   "id": "c52220e1",
   "metadata": {},
   "outputs": [
    {
     "data": {
      "text/plain": [
       "(29566, 10)"
      ]
     },
     "execution_count": 33,
     "metadata": {},
     "output_type": "execute_result"
    }
   ],
   "source": [
    "df.shape"
   ]
  },
  {
   "cell_type": "code",
   "execution_count": 34,
   "id": "2fd95e1d",
   "metadata": {},
   "outputs": [
    {
     "data": {
      "text/html": [
       "<div>\n",
       "<style scoped>\n",
       "    .dataframe tbody tr th:only-of-type {\n",
       "        vertical-align: middle;\n",
       "    }\n",
       "\n",
       "    .dataframe tbody tr th {\n",
       "        vertical-align: top;\n",
       "    }\n",
       "\n",
       "    .dataframe thead th {\n",
       "        text-align: right;\n",
       "    }\n",
       "</style>\n",
       "<table border=\"1\" class=\"dataframe\">\n",
       "  <thead>\n",
       "    <tr style=\"text-align: right;\">\n",
       "      <th></th>\n",
       "      <th>id</th>\n",
       "      <th>brand</th>\n",
       "      <th>categories</th>\n",
       "      <th>manufacturer</th>\n",
       "      <th>name</th>\n",
       "      <th>reviews_date</th>\n",
       "      <th>reviews_rating</th>\n",
       "      <th>reviews_username</th>\n",
       "      <th>user_sentiment</th>\n",
       "      <th>reviews_combined</th>\n",
       "    </tr>\n",
       "  </thead>\n",
       "  <tbody>\n",
       "    <tr>\n",
       "      <th>0</th>\n",
       "      <td>AV13O1A8GV-KLJ3akUyj</td>\n",
       "      <td>Universal Music</td>\n",
       "      <td>Movies, Music &amp; Books,Music,R&amp;b,Movies &amp; TV,Mo...</td>\n",
       "      <td>Universal Music Group / Cash Money</td>\n",
       "      <td>Pink Friday: Roman Reloaded Re-Up (w/dvd)</td>\n",
       "      <td>2012-11-30 06:21:45+00:00</td>\n",
       "      <td>5</td>\n",
       "      <td>joshua</td>\n",
       "      <td>Positive</td>\n",
       "      <td>i love this album. it's very good. more to the...</td>\n",
       "    </tr>\n",
       "  </tbody>\n",
       "</table>\n",
       "</div>"
      ],
      "text/plain": [
       "                     id            brand  \\\n",
       "0  AV13O1A8GV-KLJ3akUyj  Universal Music   \n",
       "\n",
       "                                          categories  \\\n",
       "0  Movies, Music & Books,Music,R&b,Movies & TV,Mo...   \n",
       "\n",
       "                         manufacturer  \\\n",
       "0  Universal Music Group / Cash Money   \n",
       "\n",
       "                                        name              reviews_date  \\\n",
       "0  Pink Friday: Roman Reloaded Re-Up (w/dvd) 2012-11-30 06:21:45+00:00   \n",
       "\n",
       "   reviews_rating reviews_username user_sentiment  \\\n",
       "0               5           joshua       Positive   \n",
       "\n",
       "                                    reviews_combined  \n",
       "0  i love this album. it's very good. more to the...  "
      ]
     },
     "execution_count": 34,
     "metadata": {},
     "output_type": "execute_result"
    }
   ],
   "source": [
    "df.head(1)"
   ]
  },
  {
   "cell_type": "markdown",
   "id": "f068ca0c",
   "metadata": {},
   "source": [
    "## Removing columns unneeded for analysis"
   ]
  },
  {
   "cell_type": "code",
   "execution_count": 35,
   "id": "939d0e3a",
   "metadata": {},
   "outputs": [
    {
     "data": {
      "text/html": [
       "<div>\n",
       "<style scoped>\n",
       "    .dataframe tbody tr th:only-of-type {\n",
       "        vertical-align: middle;\n",
       "    }\n",
       "\n",
       "    .dataframe tbody tr th {\n",
       "        vertical-align: top;\n",
       "    }\n",
       "\n",
       "    .dataframe thead th {\n",
       "        text-align: right;\n",
       "    }\n",
       "</style>\n",
       "<table border=\"1\" class=\"dataframe\">\n",
       "  <thead>\n",
       "    <tr style=\"text-align: right;\">\n",
       "      <th></th>\n",
       "      <th>id</th>\n",
       "      <th>brand</th>\n",
       "      <th>name</th>\n",
       "      <th>reviews_rating</th>\n",
       "      <th>reviews_username</th>\n",
       "      <th>user_sentiment</th>\n",
       "      <th>reviews_combined</th>\n",
       "    </tr>\n",
       "  </thead>\n",
       "  <tbody>\n",
       "    <tr>\n",
       "      <th>0</th>\n",
       "      <td>AV13O1A8GV-KLJ3akUyj</td>\n",
       "      <td>Universal Music</td>\n",
       "      <td>Pink Friday: Roman Reloaded Re-Up (w/dvd)</td>\n",
       "      <td>5</td>\n",
       "      <td>joshua</td>\n",
       "      <td>Positive</td>\n",
       "      <td>i love this album. it's very good. more to the...</td>\n",
       "    </tr>\n",
       "  </tbody>\n",
       "</table>\n",
       "</div>"
      ],
      "text/plain": [
       "                     id            brand  \\\n",
       "0  AV13O1A8GV-KLJ3akUyj  Universal Music   \n",
       "\n",
       "                                        name  reviews_rating reviews_username  \\\n",
       "0  Pink Friday: Roman Reloaded Re-Up (w/dvd)               5           joshua   \n",
       "\n",
       "  user_sentiment                                   reviews_combined  \n",
       "0       Positive  i love this album. it's very good. more to the...  "
      ]
     },
     "execution_count": 35,
     "metadata": {},
     "output_type": "execute_result"
    }
   ],
   "source": [
    "df.drop(columns=['categories', 'manufacturer', 'reviews_date'], inplace=True)\n",
    "df.head(1)"
   ]
  },
  {
   "cell_type": "code",
   "execution_count": 36,
   "id": "3589a175",
   "metadata": {},
   "outputs": [],
   "source": [
    "df_sent = df[['id','name','reviews_combined', 'user_sentiment']]"
   ]
  },
  {
   "cell_type": "code",
   "execution_count": 37,
   "id": "1f9f6724",
   "metadata": {},
   "outputs": [
    {
     "data": {
      "text/plain": [
       "(29566, 4)"
      ]
     },
     "execution_count": 37,
     "metadata": {},
     "output_type": "execute_result"
    }
   ],
   "source": [
    "df_sent.shape"
   ]
  },
  {
   "cell_type": "code",
   "execution_count": 38,
   "id": "0f053145",
   "metadata": {},
   "outputs": [
    {
     "data": {
      "text/html": [
       "<div>\n",
       "<style scoped>\n",
       "    .dataframe tbody tr th:only-of-type {\n",
       "        vertical-align: middle;\n",
       "    }\n",
       "\n",
       "    .dataframe tbody tr th {\n",
       "        vertical-align: top;\n",
       "    }\n",
       "\n",
       "    .dataframe thead th {\n",
       "        text-align: right;\n",
       "    }\n",
       "</style>\n",
       "<table border=\"1\" class=\"dataframe\">\n",
       "  <thead>\n",
       "    <tr style=\"text-align: right;\">\n",
       "      <th></th>\n",
       "      <th>id</th>\n",
       "      <th>name</th>\n",
       "      <th>reviews_combined</th>\n",
       "      <th>user_sentiment</th>\n",
       "    </tr>\n",
       "  </thead>\n",
       "  <tbody>\n",
       "    <tr>\n",
       "      <th>0</th>\n",
       "      <td>AV13O1A8GV-KLJ3akUyj</td>\n",
       "      <td>Pink Friday: Roman Reloaded Re-Up (w/dvd)</td>\n",
       "      <td>i love this album. it's very good. more to the...</td>\n",
       "      <td>Positive</td>\n",
       "    </tr>\n",
       "    <tr>\n",
       "      <th>1</th>\n",
       "      <td>AV14LG0R-jtxr-f38QfS</td>\n",
       "      <td>Lundberg Organic Cinnamon Toast Rice Cakes</td>\n",
       "      <td>Good flavor. This review was collected as part...</td>\n",
       "      <td>Positive</td>\n",
       "    </tr>\n",
       "  </tbody>\n",
       "</table>\n",
       "</div>"
      ],
      "text/plain": [
       "                     id                                        name  \\\n",
       "0  AV13O1A8GV-KLJ3akUyj   Pink Friday: Roman Reloaded Re-Up (w/dvd)   \n",
       "1  AV14LG0R-jtxr-f38QfS  Lundberg Organic Cinnamon Toast Rice Cakes   \n",
       "\n",
       "                                    reviews_combined user_sentiment  \n",
       "0  i love this album. it's very good. more to the...       Positive  \n",
       "1  Good flavor. This review was collected as part...       Positive  "
      ]
     },
     "execution_count": 38,
     "metadata": {},
     "output_type": "execute_result"
    }
   ],
   "source": [
    "df_sent.head(2)"
   ]
  },
  {
   "cell_type": "markdown",
   "id": "d6661a00",
   "metadata": {},
   "source": [
    "## Handling punctuations"
   ]
  },
  {
   "cell_type": "code",
   "execution_count": 39,
   "id": "830efd2b",
   "metadata": {},
   "outputs": [],
   "source": [
    "# Function to clean the text and remove all the unnecessary elements.\n",
    "def clean_punctuation(sent):\n",
    "    sent = sent.lower() # Text to lowercase\n",
    "    pattern = '[^\\w\\s]' # Removing punctuation\n",
    "    sent = re.sub(pattern, '', sent)\n",
    "    return sent"
   ]
  },
  {
   "cell_type": "code",
   "execution_count": 40,
   "id": "c1571a3a",
   "metadata": {},
   "outputs": [],
   "source": [
    "df_sent['reviews_cleaned'] = df_sent['reviews_combined'].apply(clean_punctuation)"
   ]
  },
  {
   "cell_type": "code",
   "execution_count": 41,
   "id": "85cea254",
   "metadata": {},
   "outputs": [
    {
     "data": {
      "text/html": [
       "<div>\n",
       "<style scoped>\n",
       "    .dataframe tbody tr th:only-of-type {\n",
       "        vertical-align: middle;\n",
       "    }\n",
       "\n",
       "    .dataframe tbody tr th {\n",
       "        vertical-align: top;\n",
       "    }\n",
       "\n",
       "    .dataframe thead th {\n",
       "        text-align: right;\n",
       "    }\n",
       "</style>\n",
       "<table border=\"1\" class=\"dataframe\">\n",
       "  <thead>\n",
       "    <tr style=\"text-align: right;\">\n",
       "      <th></th>\n",
       "      <th>id</th>\n",
       "      <th>name</th>\n",
       "      <th>reviews_combined</th>\n",
       "      <th>user_sentiment</th>\n",
       "      <th>reviews_cleaned</th>\n",
       "    </tr>\n",
       "  </thead>\n",
       "  <tbody>\n",
       "    <tr>\n",
       "      <th>0</th>\n",
       "      <td>AV13O1A8GV-KLJ3akUyj</td>\n",
       "      <td>Pink Friday: Roman Reloaded Re-Up (w/dvd)</td>\n",
       "      <td>i love this album. it's very good. more to the...</td>\n",
       "      <td>Positive</td>\n",
       "      <td>i love this album its very good more to the hi...</td>\n",
       "    </tr>\n",
       "    <tr>\n",
       "      <th>1</th>\n",
       "      <td>AV14LG0R-jtxr-f38QfS</td>\n",
       "      <td>Lundberg Organic Cinnamon Toast Rice Cakes</td>\n",
       "      <td>Good flavor. This review was collected as part...</td>\n",
       "      <td>Positive</td>\n",
       "      <td>good flavor this review was collected as part ...</td>\n",
       "    </tr>\n",
       "  </tbody>\n",
       "</table>\n",
       "</div>"
      ],
      "text/plain": [
       "                     id                                        name  \\\n",
       "0  AV13O1A8GV-KLJ3akUyj   Pink Friday: Roman Reloaded Re-Up (w/dvd)   \n",
       "1  AV14LG0R-jtxr-f38QfS  Lundberg Organic Cinnamon Toast Rice Cakes   \n",
       "\n",
       "                                    reviews_combined user_sentiment  \\\n",
       "0  i love this album. it's very good. more to the...       Positive   \n",
       "1  Good flavor. This review was collected as part...       Positive   \n",
       "\n",
       "                                     reviews_cleaned  \n",
       "0  i love this album its very good more to the hi...  \n",
       "1  good flavor this review was collected as part ...  "
      ]
     },
     "execution_count": 41,
     "metadata": {},
     "output_type": "execute_result"
    }
   ],
   "source": [
    "df_sent.head(2)"
   ]
  },
  {
   "cell_type": "markdown",
   "id": "bc307527",
   "metadata": {},
   "source": [
    "## Handling stopwords"
   ]
  },
  {
   "cell_type": "code",
   "execution_count": 42,
   "id": "81dfa667",
   "metadata": {},
   "outputs": [
    {
     "name": "stderr",
     "output_type": "stream",
     "text": [
      "[nltk_data] Downloading package stopwords to\n",
      "[nltk_data]     C:\\Users\\udixit\\AppData\\Roaming\\nltk_data...\n",
      "[nltk_data]   Unzipping corpora\\stopwords.zip.\n"
     ]
    },
    {
     "data": {
      "text/plain": [
       "True"
      ]
     },
     "execution_count": 42,
     "metadata": {},
     "output_type": "execute_result"
    }
   ],
   "source": [
    "nltk.download('stopwords')"
   ]
  },
  {
   "cell_type": "code",
   "execution_count": 43,
   "id": "73241fec",
   "metadata": {},
   "outputs": [
    {
     "name": "stdout",
     "output_type": "stream",
     "text": [
      "{'only', 'do', 'doing', \"hasn't\", 'that', 'until', 'not', \"mustn't\", 'their', 'there', 's', 'her', 'some', 'they', 'have', 'after', 'if', 'most', 'me', 'what', 'yours', 'because', 'where', 'won', 'does', 'other', \"should've\", 're', 'under', 'during', 'but', 'no', \"won't\", 't', \"she's\", 'same', 'too', 'why', 'or', 'further', 'off', 'herself', 'for', 'so', 'as', 'down', 'don', \"don't\", 'weren', 'be', 'in', 'mightn', \"hadn't\", 'now', 'against', 'between', 'mustn', 'above', 'of', \"needn't\", 'having', 'once', 'was', 'before', 'are', 'yourself', 'i', 'these', 'ourselves', 'hadn', 'himself', 'here', 'through', 'own', 'ain', 'is', \"weren't\", 'then', 'out', 'how', \"wouldn't\", 'into', \"shan't\", 'ours', 'had', 'both', 'shan', 'than', \"wasn't\", 've', 'ma', \"haven't\", 'theirs', 'again', 'she', 'hers', 'on', 'more', 'isn', 'when', 'an', 'were', 'we', 'them', 'has', 'needn', 'such', 'doesn', \"it's\", 'my', 'while', 'his', 'itself', 'who', 'any', 'haven', 'o', 'hasn', 'aren', 'themselves', 'few', 'm', 'its', 'shouldn', \"you're\", 'did', 'to', 'll', \"aren't\", 'and', 'should', 'by', 'wouldn', 'been', \"shouldn't\", 'with', 'which', 'each', 'your', 'the', 'whom', 'couldn', \"couldn't\", 'being', 'it', 'over', 'just', \"isn't\", 'you', 'will', 'this', 'all', 'about', 'can', \"mightn't\", 'up', 'at', 'him', \"that'll\", \"didn't\", 'yourselves', 'from', 'am', 'wasn', 'didn', 'below', \"doesn't\", 'very', \"you'd\", 'y', 'd', \"you've\", 'a', 'he', 'those', 'our', 'myself', 'nor', \"you'll\"}\n"
     ]
    }
   ],
   "source": [
    "from nltk.corpus import stopwords\n",
    "stopwords_set = set(stopwords.words(\"english\"))\n",
    "print(stopwords_set)"
   ]
  },
  {
   "cell_type": "code",
   "execution_count": 44,
   "id": "3ebeb441",
   "metadata": {},
   "outputs": [],
   "source": [
    "# Function to remove the stopwords\n",
    "def clean_stopwords(sent):\n",
    "    sent = sent.lower() # Text to lowercase\n",
    "    words = word_tokenize(sent) # Split sentences into words\n",
    "    text_nostopwords = \" \".join( [each_word for each_word in words if each_word not in stopwords_set] )\n",
    "    return sent"
   ]
  },
  {
   "cell_type": "code",
   "execution_count": 45,
   "id": "26466ec2",
   "metadata": {},
   "outputs": [],
   "source": [
    "df_sent['reviews_cleaned'] = df_sent['reviews_cleaned'].apply(clean_stopwords)"
   ]
  },
  {
   "cell_type": "code",
   "execution_count": 46,
   "id": "bb546f4c",
   "metadata": {},
   "outputs": [
    {
     "data": {
      "text/html": [
       "<div>\n",
       "<style scoped>\n",
       "    .dataframe tbody tr th:only-of-type {\n",
       "        vertical-align: middle;\n",
       "    }\n",
       "\n",
       "    .dataframe tbody tr th {\n",
       "        vertical-align: top;\n",
       "    }\n",
       "\n",
       "    .dataframe thead th {\n",
       "        text-align: right;\n",
       "    }\n",
       "</style>\n",
       "<table border=\"1\" class=\"dataframe\">\n",
       "  <thead>\n",
       "    <tr style=\"text-align: right;\">\n",
       "      <th></th>\n",
       "      <th>id</th>\n",
       "      <th>name</th>\n",
       "      <th>reviews_combined</th>\n",
       "      <th>user_sentiment</th>\n",
       "      <th>reviews_cleaned</th>\n",
       "    </tr>\n",
       "  </thead>\n",
       "  <tbody>\n",
       "    <tr>\n",
       "      <th>0</th>\n",
       "      <td>AV13O1A8GV-KLJ3akUyj</td>\n",
       "      <td>Pink Friday: Roman Reloaded Re-Up (w/dvd)</td>\n",
       "      <td>i love this album. it's very good. more to the...</td>\n",
       "      <td>Positive</td>\n",
       "      <td>i love this album its very good more to the hi...</td>\n",
       "    </tr>\n",
       "    <tr>\n",
       "      <th>1</th>\n",
       "      <td>AV14LG0R-jtxr-f38QfS</td>\n",
       "      <td>Lundberg Organic Cinnamon Toast Rice Cakes</td>\n",
       "      <td>Good flavor. This review was collected as part...</td>\n",
       "      <td>Positive</td>\n",
       "      <td>good flavor this review was collected as part ...</td>\n",
       "    </tr>\n",
       "  </tbody>\n",
       "</table>\n",
       "</div>"
      ],
      "text/plain": [
       "                     id                                        name  \\\n",
       "0  AV13O1A8GV-KLJ3akUyj   Pink Friday: Roman Reloaded Re-Up (w/dvd)   \n",
       "1  AV14LG0R-jtxr-f38QfS  Lundberg Organic Cinnamon Toast Rice Cakes   \n",
       "\n",
       "                                    reviews_combined user_sentiment  \\\n",
       "0  i love this album. it's very good. more to the...       Positive   \n",
       "1  Good flavor. This review was collected as part...       Positive   \n",
       "\n",
       "                                     reviews_cleaned  \n",
       "0  i love this album its very good more to the hi...  \n",
       "1  good flavor this review was collected as part ...  "
      ]
     },
     "execution_count": 46,
     "metadata": {},
     "output_type": "execute_result"
    }
   ],
   "source": [
    "df_sent.head(2)"
   ]
  },
  {
   "cell_type": "markdown",
   "id": "e229f5fc",
   "metadata": {},
   "source": [
    "## Handling lemmatization"
   ]
  },
  {
   "cell_type": "code",
   "execution_count": 47,
   "id": "bc5386ce",
   "metadata": {},
   "outputs": [],
   "source": [
    "#Function to lemmatize the text\n",
    "def clean_lemma(text):\n",
    "    sent = []\n",
    "    doc = nlp(text)\n",
    "    for token in doc:\n",
    "        sent.append(token.lemma_)\n",
    "    return \" \".join(sent)"
   ]
  },
  {
   "cell_type": "code",
   "execution_count": 48,
   "id": "ae587607",
   "metadata": {},
   "outputs": [],
   "source": [
    "df_sent['reviews_lemmatized'] = df_sent['reviews_cleaned'].apply(clean_lemma)"
   ]
  },
  {
   "cell_type": "code",
   "execution_count": 49,
   "id": "1aabad61",
   "metadata": {},
   "outputs": [
    {
     "data": {
      "text/html": [
       "<div>\n",
       "<style scoped>\n",
       "    .dataframe tbody tr th:only-of-type {\n",
       "        vertical-align: middle;\n",
       "    }\n",
       "\n",
       "    .dataframe tbody tr th {\n",
       "        vertical-align: top;\n",
       "    }\n",
       "\n",
       "    .dataframe thead th {\n",
       "        text-align: right;\n",
       "    }\n",
       "</style>\n",
       "<table border=\"1\" class=\"dataframe\">\n",
       "  <thead>\n",
       "    <tr style=\"text-align: right;\">\n",
       "      <th></th>\n",
       "      <th>id</th>\n",
       "      <th>name</th>\n",
       "      <th>reviews_combined</th>\n",
       "      <th>user_sentiment</th>\n",
       "      <th>reviews_cleaned</th>\n",
       "      <th>reviews_lemmatized</th>\n",
       "    </tr>\n",
       "  </thead>\n",
       "  <tbody>\n",
       "    <tr>\n",
       "      <th>0</th>\n",
       "      <td>AV13O1A8GV-KLJ3akUyj</td>\n",
       "      <td>Pink Friday: Roman Reloaded Re-Up (w/dvd)</td>\n",
       "      <td>i love this album. it's very good. more to the...</td>\n",
       "      <td>Positive</td>\n",
       "      <td>i love this album its very good more to the hi...</td>\n",
       "      <td>I love this album its very good more to the hi...</td>\n",
       "    </tr>\n",
       "    <tr>\n",
       "      <th>1</th>\n",
       "      <td>AV14LG0R-jtxr-f38QfS</td>\n",
       "      <td>Lundberg Organic Cinnamon Toast Rice Cakes</td>\n",
       "      <td>Good flavor. This review was collected as part...</td>\n",
       "      <td>Positive</td>\n",
       "      <td>good flavor this review was collected as part ...</td>\n",
       "      <td>good flavor this review be collect as part of ...</td>\n",
       "    </tr>\n",
       "  </tbody>\n",
       "</table>\n",
       "</div>"
      ],
      "text/plain": [
       "                     id                                        name  \\\n",
       "0  AV13O1A8GV-KLJ3akUyj   Pink Friday: Roman Reloaded Re-Up (w/dvd)   \n",
       "1  AV14LG0R-jtxr-f38QfS  Lundberg Organic Cinnamon Toast Rice Cakes   \n",
       "\n",
       "                                    reviews_combined user_sentiment  \\\n",
       "0  i love this album. it's very good. more to the...       Positive   \n",
       "1  Good flavor. This review was collected as part...       Positive   \n",
       "\n",
       "                                     reviews_cleaned  \\\n",
       "0  i love this album its very good more to the hi...   \n",
       "1  good flavor this review was collected as part ...   \n",
       "\n",
       "                                  reviews_lemmatized  \n",
       "0  I love this album its very good more to the hi...  \n",
       "1  good flavor this review be collect as part of ...  "
      ]
     },
     "execution_count": 49,
     "metadata": {},
     "output_type": "execute_result"
    }
   ],
   "source": [
    "df_sent.head(2)"
   ]
  },
  {
   "cell_type": "code",
   "execution_count": 50,
   "id": "b9471cab",
   "metadata": {},
   "outputs": [],
   "source": [
    "df_sent = df_sent[['id','name','reviews_lemmatized', 'user_sentiment']]"
   ]
  },
  {
   "cell_type": "code",
   "execution_count": 51,
   "id": "23bf9e26",
   "metadata": {},
   "outputs": [
    {
     "data": {
      "text/html": [
       "<div>\n",
       "<style scoped>\n",
       "    .dataframe tbody tr th:only-of-type {\n",
       "        vertical-align: middle;\n",
       "    }\n",
       "\n",
       "    .dataframe tbody tr th {\n",
       "        vertical-align: top;\n",
       "    }\n",
       "\n",
       "    .dataframe thead th {\n",
       "        text-align: right;\n",
       "    }\n",
       "</style>\n",
       "<table border=\"1\" class=\"dataframe\">\n",
       "  <thead>\n",
       "    <tr style=\"text-align: right;\">\n",
       "      <th></th>\n",
       "      <th>id</th>\n",
       "      <th>name</th>\n",
       "      <th>reviews_lemmatized</th>\n",
       "      <th>user_sentiment</th>\n",
       "    </tr>\n",
       "  </thead>\n",
       "  <tbody>\n",
       "    <tr>\n",
       "      <th>0</th>\n",
       "      <td>AV13O1A8GV-KLJ3akUyj</td>\n",
       "      <td>Pink Friday: Roman Reloaded Re-Up (w/dvd)</td>\n",
       "      <td>I love this album its very good more to the hi...</td>\n",
       "      <td>Positive</td>\n",
       "    </tr>\n",
       "    <tr>\n",
       "      <th>1</th>\n",
       "      <td>AV14LG0R-jtxr-f38QfS</td>\n",
       "      <td>Lundberg Organic Cinnamon Toast Rice Cakes</td>\n",
       "      <td>good flavor this review be collect as part of ...</td>\n",
       "      <td>Positive</td>\n",
       "    </tr>\n",
       "  </tbody>\n",
       "</table>\n",
       "</div>"
      ],
      "text/plain": [
       "                     id                                        name  \\\n",
       "0  AV13O1A8GV-KLJ3akUyj   Pink Friday: Roman Reloaded Re-Up (w/dvd)   \n",
       "1  AV14LG0R-jtxr-f38QfS  Lundberg Organic Cinnamon Toast Rice Cakes   \n",
       "\n",
       "                                  reviews_lemmatized user_sentiment  \n",
       "0  I love this album its very good more to the hi...       Positive  \n",
       "1  good flavor this review be collect as part of ...       Positive  "
      ]
     },
     "execution_count": 51,
     "metadata": {},
     "output_type": "execute_result"
    }
   ],
   "source": [
    "df_sent.head(2)"
   ]
  },
  {
   "cell_type": "code",
   "execution_count": 52,
   "id": "f78f81d1",
   "metadata": {},
   "outputs": [],
   "source": [
    "# from textblob import SpellChecker\n",
    "# spell = SpellChecker()"
   ]
  },
  {
   "cell_type": "code",
   "execution_count": 53,
   "id": "41a802e1",
   "metadata": {},
   "outputs": [],
   "source": [
    "# def correct_spelling(text):\n",
    "#   spell_correctedlist = []\n",
    "#   words = word_tokenize(text) # Split sentences into words\n",
    "#   misspelled_words = spell.unknown(words)\n",
    "#   for each_word in words:\n",
    "#     # Ignore words which are greater than 13 characters\n",
    "#     if len(each_word) > 13:\n",
    "#       continue\n",
    "#     elif each_word in misspelled_words :\n",
    "#       # Spell correction \n",
    "#       corrected_word = spell.correction(each_word)\n",
    "#       spell_correctedlist.append(corrected_word)\n",
    "#     else:\n",
    "#       # If word is not part of misspelled words, then no alteration is required\n",
    "#       spell_correctedlist.append(each_word)\n",
    "#   return \" \".join(spell_correctedlist)"
   ]
  },
  {
   "cell_type": "code",
   "execution_count": 54,
   "id": "a555a769",
   "metadata": {},
   "outputs": [],
   "source": [
    "# df['reviews_corrected'] = df['reviews_lemmatized'].apply(correct_spelling)"
   ]
  },
  {
   "cell_type": "markdown",
   "id": "d56f1ec9",
   "metadata": {},
   "source": [
    "INSIGHTS:\n",
    "* The spell correction functionality ran for a very long time and did not produce results.\n",
    "* Even when optimized to correct words less than 13 characters, it is still taking longer.\n",
    "* For the purpose of this specific assignment, we will ignore the spell correction exercise."
   ]
  },
  {
   "cell_type": "code",
   "execution_count": 56,
   "id": "f8ed1b26",
   "metadata": {},
   "outputs": [],
   "source": [
    "import joblib\n",
    "joblib.dump(df_sent, open(\"models/clean_data.pkl\",\"wb\"))"
   ]
  },
  {
   "cell_type": "code",
   "execution_count": 57,
   "id": "db3404f0",
   "metadata": {},
   "outputs": [
    {
     "data": {
      "image/png": "[encoded data removed]",
      "text/plain": [
       "<Figure size 500x500 with 1 Axes>"
      ]
     },
     "metadata": {},
     "output_type": "display_data"
    }
   ],
   "source": [
    "# Visualizing 'reviews_lemmatized' character length\n",
    "character_length = [len(each_sent) for each_sent in df_sent['reviews_lemmatized']]\n",
    "\n",
    "sns.displot(character_length, kind='hist', bins=60)\n",
    "plt.xlabel(\"Reviews character length\")\n",
    "plt.ylabel(\"Total number of Reviews\")\n",
    "plt.title(\"Distribution of Reviews character length\")\n",
    "plt.show()"
   ]
  },
  {
   "cell_type": "code",
   "execution_count": 58,
   "id": "c49b8ea1",
   "metadata": {},
   "outputs": [
    {
     "data": {
      "image/png": "[encoded data removed]",
      "text/plain": [
       "<Figure size 1000x1000 with 1 Axes>"
      ]
     },
     "metadata": {},
     "output_type": "display_data"
    }
   ],
   "source": [
    "#Using a word cloud visualize the top 30 words in review by frequency\n",
    "stopwords_wordcloud = set(STOPWORDS)\n",
    "wordcloud = WordCloud(max_font_size=60, max_words=30, \n",
    "                      background_color=\"white\", random_state=42, \n",
    "                      stopwords=stopwords_wordcloud).generate(str(df_sent['reviews_lemmatized']))\n",
    "plt.figure(figsize=[10,10])\n",
    "plt.imshow(wordcloud, interpolation=\"bilinear\")\n",
    "plt.axis(\"off\")\n",
    "plt.show()"
   ]
  },
  {
   "cell_type": "markdown",
   "id": "968f7e4c",
   "metadata": {},
   "source": [
    "# Feature Extraction"
   ]
  },
  {
   "cell_type": "markdown",
   "id": "bdc2cceb",
   "metadata": {},
   "source": [
    "In this part, we will be performing\n",
    "1. Feature Extraction using TF-IDF\n",
    "2. Check for and handle Class imbalance\n",
    "3. Perform train, test split"
   ]
  },
  {
   "cell_type": "markdown",
   "id": "984b14a1",
   "metadata": {},
   "source": [
    "## TF-IDF Feature Extraction"
   ]
  },
  {
   "cell_type": "markdown",
   "id": "f35a657f",
   "metadata": {},
   "source": [
    "**Feature Extraction using TF-IDF**\n",
    "Convert the raw texts to a matrix of TF-IDF features\n",
    "\n",
    "**max_df** is used for removing terms that appear too frequently, also known as \"corpus-specific stop words\"\n",
    "max_df = 0.95 means \"ignore terms that appear in more than 95% of the complaints\"\n",
    "\n",
    "**min_df** is used for removing terms that appear too infrequently\n",
    "min_df = 5 means \"ignore terms that appear in less than 5 complaints\""
   ]
  },
  {
   "cell_type": "code",
   "execution_count": 59,
   "id": "633a532c",
   "metadata": {},
   "outputs": [],
   "source": [
    "# Initialize the TfidfVectorizer \n",
    "tfidf = TfidfVectorizer(min_df=5, max_df=0.95, stop_words='english', ngram_range=(1,2))"
   ]
  },
  {
   "cell_type": "code",
   "execution_count": 60,
   "id": "e22201e5",
   "metadata": {},
   "outputs": [],
   "source": [
    "X = tfidf.fit_transform(df_sent['reviews_lemmatized'])\n",
    "y= df_sent['user_sentiment']"
   ]
  },
  {
   "cell_type": "markdown",
   "id": "83f7e929",
   "metadata": {},
   "source": [
    "#### creating pickle file of tfidf"
   ]
  },
  {
   "cell_type": "code",
   "execution_count": 62,
   "id": "f8320636",
   "metadata": {},
   "outputs": [],
   "source": [
    "import joblib\n",
    "# Saving the the tfidf vectorizer model\n",
    "joblib.dump(tfidf, open(\"models/tfidf.pkl\",\"wb\"))"
   ]
  },
  {
   "cell_type": "markdown",
   "id": "ab492b5d",
   "metadata": {},
   "source": [
    "## Train, test split"
   ]
  },
  {
   "cell_type": "code",
   "execution_count": 63,
   "id": "892829b3",
   "metadata": {},
   "outputs": [],
   "source": [
    "X_train, X_test, y_train, y_test = train_test_split(X, y, random_state=42, test_size=0.25)"
   ]
  },
  {
   "cell_type": "code",
   "execution_count": 64,
   "id": "6768a23f",
   "metadata": {},
   "outputs": [
    {
     "name": "stdout",
     "output_type": "stream",
     "text": [
      "Train shapes: (22174, 15891) (22174,)\n",
      "Test shapes: (7392, 15891) (7392,)\n"
     ]
    }
   ],
   "source": [
    "print(\"Train shapes:\", X_train.shape, y_train.shape)\n",
    "print(\"Test shapes:\", X_test.shape, y_test.shape)"
   ]
  },
  {
   "cell_type": "markdown",
   "id": "320acdbc",
   "metadata": {},
   "source": [
    "## Class Imbalance"
   ]
  },
  {
   "cell_type": "code",
   "execution_count": 65,
   "id": "ee8c94dc",
   "metadata": {},
   "outputs": [
    {
     "data": {
      "text/plain": [
       "user_sentiment\n",
       "Positive    0.88825\n",
       "Negative    0.11175\n",
       "Name: proportion, dtype: float64"
      ]
     },
     "execution_count": 65,
     "metadata": {},
     "output_type": "execute_result"
    }
   ],
   "source": [
    "# Check the data to see if there is a class imbalance in the data\n",
    "df_sent['user_sentiment'].value_counts(normalize=True)"
   ]
  },
  {
   "cell_type": "code",
   "execution_count": 66,
   "id": "28b67215",
   "metadata": {},
   "outputs": [
    {
     "data": {
      "text/html": [
       "<div>\n",
       "<style scoped>\n",
       "    .dataframe tbody tr th:only-of-type {\n",
       "        vertical-align: middle;\n",
       "    }\n",
       "\n",
       "    .dataframe tbody tr th {\n",
       "        vertical-align: top;\n",
       "    }\n",
       "\n",
       "    .dataframe thead th {\n",
       "        text-align: right;\n",
       "    }\n",
       "</style>\n",
       "<table border=\"1\" class=\"dataframe\">\n",
       "  <thead>\n",
       "    <tr style=\"text-align: right;\">\n",
       "      <th></th>\n",
       "      <th>id</th>\n",
       "      <th>name</th>\n",
       "      <th>reviews_lemmatized</th>\n",
       "      <th>user_sentiment</th>\n",
       "    </tr>\n",
       "  </thead>\n",
       "  <tbody>\n",
       "    <tr>\n",
       "      <th>0</th>\n",
       "      <td>AV13O1A8GV-KLJ3akUyj</td>\n",
       "      <td>Pink Friday: Roman Reloaded Re-Up (w/dvd)</td>\n",
       "      <td>I love this album its very good more to the hi...</td>\n",
       "      <td>Positive</td>\n",
       "    </tr>\n",
       "    <tr>\n",
       "      <th>1</th>\n",
       "      <td>AV14LG0R-jtxr-f38QfS</td>\n",
       "      <td>Lundberg Organic Cinnamon Toast Rice Cakes</td>\n",
       "      <td>good flavor this review be collect as part of ...</td>\n",
       "      <td>Positive</td>\n",
       "    </tr>\n",
       "  </tbody>\n",
       "</table>\n",
       "</div>"
      ],
      "text/plain": [
       "                     id                                        name  \\\n",
       "0  AV13O1A8GV-KLJ3akUyj   Pink Friday: Roman Reloaded Re-Up (w/dvd)   \n",
       "1  AV14LG0R-jtxr-f38QfS  Lundberg Organic Cinnamon Toast Rice Cakes   \n",
       "\n",
       "                                  reviews_lemmatized user_sentiment  \n",
       "0  I love this album its very good more to the hi...       Positive  \n",
       "1  good flavor this review be collect as part of ...       Positive  "
      ]
     },
     "execution_count": 66,
     "metadata": {},
     "output_type": "execute_result"
    }
   ],
   "source": [
    "df_sent.head(2)"
   ]
  },
  {
   "cell_type": "markdown",
   "id": "e2427cd7",
   "metadata": {},
   "source": [
    "From the results above, we can concluded that there is a heavy class imbalance prevalent in the data.\n",
    "> Positive sentiments make up *89%* of the data and Negative sentiments make up only *11%*\n",
    "\n",
    "* We are going to handle the imbalance using a technique called SMOTE (Synthetic Minority Oversampling Technique)\n",
    "* This is an oversampling method that generates synthetic samples for the minority class"
   ]
  },
  {
   "cell_type": "code",
   "execution_count": 67,
   "id": "e2fbaf52",
   "metadata": {},
   "outputs": [
    {
     "name": "stdout",
     "output_type": "stream",
     "text": [
      "Before handling imbalance Counter({'Positive': 19686, 'Negative': 2488})\n",
      "After handling imbalance Counter({'Positive': 19686, 'Negative': 19686})\n"
     ]
    }
   ],
   "source": [
    "counter = Counter(y_train)\n",
    "print(\"Before handling imbalance\", counter)\n",
    "\n",
    "#oversampling using SMOTE\n",
    "smote = SMOTE(random_state=42)\n",
    "X_train_sm, y_train_sm = smote.fit_resample(X_train,y_train)\n",
    "\n",
    "counter = Counter(y_train_sm)\n",
    "print(\"After handling imbalance\", counter)"
   ]
  },
  {
   "cell_type": "markdown",
   "id": "29f656fa",
   "metadata": {},
   "source": [
    "Looking at the record count we can see that both Positive and Negative sentiments now have equal number of rows."
   ]
  },
  {
   "cell_type": "markdown",
   "id": "c8801dbf",
   "metadata": {},
   "source": [
    "# Model Building"
   ]
  },
  {
   "cell_type": "markdown",
   "id": "bf2747c8",
   "metadata": {},
   "source": [
    "We will be creating the following three ML models based on performance for predicting the sentiments based on the text and title of the reviews:\n",
    "1. Logistic Regression\n",
    "2. Random Forest\n",
    "3. XGBoost"
   ]
  },
  {
   "cell_type": "code",
   "execution_count": 68,
   "id": "61720fb6",
   "metadata": {},
   "outputs": [],
   "source": [
    "# Function to display scores\n",
    "def evaluation_scores(classifier, X_test, y_test):\n",
    "\n",
    "  # Calculating Predicted value\n",
    "  y_pred = classifier.predict(X_test)\n",
    "\n",
    "  # Create confusion matrix\n",
    "  conf_m = confusion_matrix(y_test, y_pred)\n",
    "\n",
    "  print(\"Visualizing the Confusion Matrix with a Heatmap\")\n",
    "  print(\"\\n\")\n",
    "  print(\"*\"*50)\n",
    "  # Visualize Confusion Matrix with heatmap\n",
    "  fig, ax = plt.subplots(figsize=(6, 6))\n",
    "  ax = sns.heatmap(confusion_matrix(y_test, y_pred),\n",
    "                  annot=True,\n",
    "                  cbar=False,\n",
    "                  cmap=\"RdYlGn\", fmt = '0.1f')\n",
    "  plt.xlabel(\"Actual label\")\n",
    "  plt.ylabel(\"Predicted label\")\n",
    "  plt.show()\n",
    "  print(\"*\"*50)\n",
    "  print(\"\\n\")\n",
    "\n",
    "  # Calculating the values of True Positives, True Negatives, False Positivies and False Negatives\n",
    "  TP = conf_m[1][1]\n",
    "  TN = conf_m[0][0]\n",
    "  FP = conf_m[0][1]\n",
    "  FN = conf_m[1][0]\n",
    "\n",
    "  print(\"Values of True Positives, True Negatives, False Positivies and False Negatives\")\n",
    "  print(\"~\"*50)\n",
    "  print('True Positives:', TP)\n",
    "  print('True Negatives:', TN)\n",
    "  print('False Positives:', FP)\n",
    "  print('False Negatives:', FN)\n",
    "  print(\"~\"*50)\n",
    "  print(\"\\n\")\n",
    "\n",
    "  # Calculating Accuracy\n",
    "  accuracy = accuracy_score(y_test, y_pred)\n",
    "  accuracy = round(accuracy,2)\n",
    "  \n",
    "  # Calculating Sensitivity/Recall\n",
    "  sensitivity_recall = (TP / float(TP + FN))\n",
    "  sensitivity_recall = round(sensitivity_recall,2)\n",
    "  \n",
    "  # Calculating Specificity\n",
    "  specificity = (TN / float(TN + FP))\n",
    "  specificity = round(specificity,2)  \n",
    "  \n",
    "  # Calculating Precision\n",
    "  precision = (TP / float(TP + FP))\n",
    "  precision = round(precision,2)  \n",
    "  \n",
    "  # Calculating F_1 score\n",
    "  F1_score = 2 * ((precision * sensitivity_recall) / (precision + sensitivity_recall))\n",
    "  F1_score = round(F1_score,2)  \n",
    "  \n",
    "  print(\"Evaluation Score Summary\")\n",
    "  print('-'*50)\n",
    "  print(f'Accuracy Score: {round(accuracy,2)}')\n",
    "  print(f'Sensitivity/Recall Score: {round(sensitivity_recall,2)}') \n",
    "  print(f'Specificity Score: {round(specificity,2)}') \n",
    "  print(f'Precision: {round(precision,2)}')\n",
    "  print(f'F1 Score: {round(F1_score,2)}')\n",
    "  print('-'*50)\n",
    "\n",
    "  # Returning evaluation results for comparison later\n",
    "  evaluation_metrics = []\n",
    "  evaluation_metrics.append(accuracy)\n",
    "  evaluation_metrics.append(sensitivity_recall)\n",
    "  evaluation_metrics.append(specificity)\n",
    "  evaluation_metrics.append(precision)\n",
    "  evaluation_metrics.append(F1_score)\n",
    "  \n",
    "  return evaluation_metrics"
   ]
  },
  {
   "cell_type": "markdown",
   "id": "d6dbaf4d",
   "metadata": {},
   "source": [
    "## Logistic Regression"
   ]
  },
  {
   "cell_type": "code",
   "execution_count": 69,
   "id": "baca4f79",
   "metadata": {},
   "outputs": [
    {
     "name": "stdout",
     "output_type": "stream",
     "text": [
      "Visualizing the Confusion Matrix with a Heatmap\n",
      "\n",
      "\n",
      "**************************************************\n"
     ]
    },
    {
     "data": {
      "image/png": "[encoded data removed]",
      "text/plain": [
       "<Figure size 600x600 with 1 Axes>"
      ]
     },
     "metadata": {},
     "output_type": "display_data"
    },
    {
     "name": "stdout",
     "output_type": "stream",
     "text": [
      "**************************************************\n",
      "\n",
      "\n",
      "Values of True Positives, True Negatives, False Positivies and False Negatives\n",
      "~~~~~~~~~~~~~~~~~~~~~~~~~~~~~~~~~~~~~~~~~~~~~~~~~~\n",
      "True Positives: 5908\n",
      "True Negatives: 609\n",
      "False Positives: 207\n",
      "False Negatives: 668\n",
      "~~~~~~~~~~~~~~~~~~~~~~~~~~~~~~~~~~~~~~~~~~~~~~~~~~\n",
      "\n",
      "\n",
      "Evaluation Score Summary\n",
      "--------------------------------------------------\n",
      "Accuracy Score: 0.88\n",
      "Sensitivity/Recall Score: 0.9\n",
      "Specificity Score: 0.75\n",
      "Precision: 0.97\n",
      "F1 Score: 0.93\n",
      "--------------------------------------------------\n"
     ]
    }
   ],
   "source": [
    "logreg = LogisticRegression(random_state=42, solver='liblinear').fit(X_train_sm, y_train_sm)\n",
    "# Getting the score of the base model\n",
    "lr_metrics = evaluation_scores(logreg, X_test, y_test)"
   ]
  },
  {
   "cell_type": "markdown",
   "id": "46bfea13",
   "metadata": {},
   "source": [
    "## HyperParameter Tuning"
   ]
  },
  {
   "cell_type": "code",
   "execution_count": 70,
   "id": "5889547f",
   "metadata": {},
   "outputs": [],
   "source": [
    "logreg_grid = {\"C\": [100, 10, 5, 4, 3, 2, 1, 1.0, 0.1, 0.01],\n",
    "                \"solver\": [\"liblinear\"]}"
   ]
  },
  {
   "cell_type": "code",
   "execution_count": 71,
   "id": "524f8b76",
   "metadata": {},
   "outputs": [
    {
     "name": "stdout",
     "output_type": "stream",
     "text": [
      "Fitting 5 folds for each of 10 candidates, totalling 50 fits\n"
     ]
    }
   ],
   "source": [
    "# Setup grid hyperparameter search for LogisticRegression\n",
    "logreg_hpt = GridSearchCV(LogisticRegression(random_state=42),\n",
    "                                param_grid=logreg_grid,\n",
    "                                cv=5,\n",
    "                                verbose=True,\n",
    "                                n_jobs=-1,\n",
    "                                scoring='f1')\n",
    "\n",
    "# Fit random hyperparameter search model\n",
    "logreg_hpt.fit(X_train_sm, y_train_sm);"
   ]
  },
  {
   "cell_type": "code",
   "execution_count": 72,
   "id": "a4f43655",
   "metadata": {},
   "outputs": [
    {
     "data": {
      "text/plain": [
       "{'C': 100, 'solver': 'liblinear'}"
      ]
     },
     "execution_count": 72,
     "metadata": {},
     "output_type": "execute_result"
    }
   ],
   "source": [
    "# Checking the best parameters\n",
    "logreg_hpt.best_params_"
   ]
  },
  {
   "cell_type": "code",
   "execution_count": 73,
   "id": "b2dda70e",
   "metadata": {},
   "outputs": [
    {
     "name": "stdout",
     "output_type": "stream",
     "text": [
      "Visualizing the Confusion Matrix with a Heatmap\n",
      "\n",
      "\n",
      "**************************************************\n"
     ]
    },
    {
     "data": {
      "image/png": "[encoded data removed]",
      "text/plain": [
       "<Figure size 600x600 with 1 Axes>"
      ]
     },
     "metadata": {},
     "output_type": "display_data"
    },
    {
     "name": "stdout",
     "output_type": "stream",
     "text": [
      "**************************************************\n",
      "\n",
      "\n",
      "Values of True Positives, True Negatives, False Positivies and False Negatives\n",
      "~~~~~~~~~~~~~~~~~~~~~~~~~~~~~~~~~~~~~~~~~~~~~~~~~~\n",
      "True Positives: 6130\n",
      "True Negatives: 449\n",
      "False Positives: 367\n",
      "False Negatives: 446\n",
      "~~~~~~~~~~~~~~~~~~~~~~~~~~~~~~~~~~~~~~~~~~~~~~~~~~\n",
      "\n",
      "\n",
      "Evaluation Score Summary\n",
      "--------------------------------------------------\n",
      "Accuracy Score: 0.89\n",
      "Sensitivity/Recall Score: 0.93\n",
      "Specificity Score: 0.55\n",
      "Precision: 0.94\n",
      "F1 Score: 0.93\n",
      "--------------------------------------------------\n"
     ]
    }
   ],
   "source": [
    "# Getting the scores of the tuned model\n",
    "lr_tuned_metrics = evaluation_scores(logreg_hpt, X_test, y_test)"
   ]
  },
  {
   "cell_type": "markdown",
   "id": "5d31a7ce",
   "metadata": {},
   "source": [
    "#### creating pickle of Logistic Model file"
   ]
  },
  {
   "cell_type": "code",
   "execution_count": 75,
   "id": "56d3547f",
   "metadata": {},
   "outputs": [],
   "source": [
    "lr_base_model = joblib.dump(logreg, open('models/lr_base_model.pkl', 'wb'))"
   ]
  },
  {
   "cell_type": "code",
   "execution_count": 78,
   "id": "f45a950c",
   "metadata": {},
   "outputs": [],
   "source": [
    "lr_tuned_model = joblib.dump(logreg_hpt, open('models/lr_tuned_model.pkl', 'wb'))"
   ]
  },
  {
   "cell_type": "markdown",
   "id": "4155ce34",
   "metadata": {},
   "source": [
    "## Random Forest Classifier"
   ]
  },
  {
   "cell_type": "code",
   "execution_count": 79,
   "id": "d221c938",
   "metadata": {},
   "outputs": [
    {
     "name": "stdout",
     "output_type": "stream",
     "text": [
      "Visualizing the Confusion Matrix with a Heatmap\n",
      "\n",
      "\n",
      "**************************************************\n"
     ]
    },
    {
     "data": {
      "image/png": "[encoded data removed]",
      "text/plain": [
       "<Figure size 600x600 with 1 Axes>"
      ]
     },
     "metadata": {},
     "output_type": "display_data"
    },
    {
     "name": "stdout",
     "output_type": "stream",
     "text": [
      "**************************************************\n",
      "\n",
      "\n",
      "Values of True Positives, True Negatives, False Positivies and False Negatives\n",
      "~~~~~~~~~~~~~~~~~~~~~~~~~~~~~~~~~~~~~~~~~~~~~~~~~~\n",
      "True Positives: 6354\n",
      "True Negatives: 376\n",
      "False Positives: 440\n",
      "False Negatives: 222\n",
      "~~~~~~~~~~~~~~~~~~~~~~~~~~~~~~~~~~~~~~~~~~~~~~~~~~\n",
      "\n",
      "\n",
      "Evaluation Score Summary\n",
      "--------------------------------------------------\n",
      "Accuracy Score: 0.91\n",
      "Sensitivity/Recall Score: 0.97\n",
      "Specificity Score: 0.46\n",
      "Precision: 0.94\n",
      "F1 Score: 0.95\n",
      "--------------------------------------------------\n"
     ]
    }
   ],
   "source": [
    "rf = RandomForestClassifier(random_state=42).fit(X_train_sm, y_train_sm)\n",
    "# Getting the score of the base model\n",
    "rf_metrics = evaluation_scores(rf, X_test, y_test)"
   ]
  },
  {
   "cell_type": "markdown",
   "id": "64e422d1",
   "metadata": {},
   "source": [
    "### HyperParameter Tuning"
   ]
  },
  {
   "cell_type": "code",
   "execution_count": 80,
   "id": "4bf0cf45",
   "metadata": {},
   "outputs": [],
   "source": [
    "rf_grid = {\"n_estimators\": np.arange(10, 1000, 50),\n",
    "           \"max_depth\": np.arange(10, 50, 5),\n",
    "           \"min_samples_split\": np.arange(15, 500, 15),\n",
    "           \"min_samples_leaf\": np.arange(5, 50, 5)}"
   ]
  },
  {
   "cell_type": "code",
   "execution_count": 81,
   "id": "19e51892",
   "metadata": {},
   "outputs": [
    {
     "name": "stdout",
     "output_type": "stream",
     "text": [
      "Fitting 5 folds for each of 10 candidates, totalling 50 fits\n"
     ]
    }
   ],
   "source": [
    "# Setup random hyperparameter search for Random Forest Classifier\n",
    "rf_hpt = RandomizedSearchCV(RandomForestClassifier(random_state=42),\n",
    "                                param_distributions=rf_grid,\n",
    "                                cv=5,\n",
    "                                verbose=True,\n",
    "                                n_jobs=-1,\n",
    "                                scoring='f1')\n",
    "\n",
    "# Fit random hyperparameter search model\n",
    "rf_hpt.fit(X_train_sm, y_train_sm);"
   ]
  },
  {
   "cell_type": "code",
   "execution_count": 82,
   "id": "d7633c12",
   "metadata": {},
   "outputs": [
    {
     "data": {
      "text/plain": [
       "{'n_estimators': 610,\n",
       " 'min_samples_split': 390,\n",
       " 'min_samples_leaf': 45,\n",
       " 'max_depth': 35}"
      ]
     },
     "execution_count": 82,
     "metadata": {},
     "output_type": "execute_result"
    }
   ],
   "source": [
    "# Check best parameters\n",
    "rf_hpt.best_params_"
   ]
  },
  {
   "cell_type": "code",
   "execution_count": 83,
   "id": "0345d3ac",
   "metadata": {},
   "outputs": [
    {
     "name": "stdout",
     "output_type": "stream",
     "text": [
      "Visualizing the Confusion Matrix with a Heatmap\n",
      "\n",
      "\n",
      "**************************************************\n"
     ]
    },
    {
     "data": {
      "image/png": "[encoded data removed]",
      "text/plain": [
       "<Figure size 600x600 with 1 Axes>"
      ]
     },
     "metadata": {},
     "output_type": "display_data"
    },
    {
     "name": "stdout",
     "output_type": "stream",
     "text": [
      "**************************************************\n",
      "\n",
      "\n",
      "Values of True Positives, True Negatives, False Positivies and False Negatives\n",
      "~~~~~~~~~~~~~~~~~~~~~~~~~~~~~~~~~~~~~~~~~~~~~~~~~~\n",
      "True Positives: 5685\n",
      "True Negatives: 486\n",
      "False Positives: 330\n",
      "False Negatives: 891\n",
      "~~~~~~~~~~~~~~~~~~~~~~~~~~~~~~~~~~~~~~~~~~~~~~~~~~\n",
      "\n",
      "\n",
      "Evaluation Score Summary\n",
      "--------------------------------------------------\n",
      "Accuracy Score: 0.83\n",
      "Sensitivity/Recall Score: 0.86\n",
      "Specificity Score: 0.6\n",
      "Precision: 0.95\n",
      "F1 Score: 0.9\n",
      "--------------------------------------------------\n"
     ]
    },
    {
     "data": {
      "text/plain": [
       "[0.83, 0.86, 0.6, 0.95, 0.9]"
      ]
     },
     "execution_count": 83,
     "metadata": {},
     "output_type": "execute_result"
    }
   ],
   "source": [
    "evaluation_scores(rf_hpt, X_test, y_test)"
   ]
  },
  {
   "cell_type": "markdown",
   "id": "60e69cdf",
   "metadata": {},
   "source": [
    "Sensitivity, Precision and F1 Score have improved a little bit with Random Search CV. We will strive to improve this further by doing fine hyperparameter tuning using Grid Search CV."
   ]
  },
  {
   "cell_type": "code",
   "execution_count": 84,
   "id": "74195e67",
   "metadata": {},
   "outputs": [],
   "source": [
    "# Fine tuning using Grid Search CV\n",
    "rf_grid = {\"n_estimators\": [510],\n",
    "           \"max_depth\": [20],\n",
    "           \"min_samples_split\": [350, 400],\n",
    "           \"min_samples_leaf\": [45, 50]}"
   ]
  },
  {
   "cell_type": "code",
   "execution_count": 85,
   "id": "35df83e8",
   "metadata": {},
   "outputs": [
    {
     "name": "stdout",
     "output_type": "stream",
     "text": [
      "Fitting 5 folds for each of 4 candidates, totalling 20 fits\n"
     ]
    }
   ],
   "source": [
    "# Setup random hyperparameter search for Random Forest Classifier\n",
    "rf_hpt = GridSearchCV(RandomForestClassifier(random_state=42),\n",
    "                                param_grid=rf_grid,\n",
    "                                cv=5,\n",
    "                                verbose=True,\n",
    "                                n_jobs=-1,\n",
    "                                scoring='f1')\n",
    "\n",
    "# Fit random hyperparameter search model\n",
    "rf_hpt.fit(X_train_sm, y_train_sm);"
   ]
  },
  {
   "cell_type": "markdown",
   "id": "98ba3d20",
   "metadata": {},
   "source": [
    "### HyperParameter tuned model"
   ]
  },
  {
   "cell_type": "code",
   "execution_count": 86,
   "id": "5dd47b5e",
   "metadata": {},
   "outputs": [
    {
     "name": "stdout",
     "output_type": "stream",
     "text": [
      "Visualizing the Confusion Matrix with a Heatmap\n",
      "\n",
      "\n",
      "**************************************************\n"
     ]
    },
    {
     "data": {
      "image/png": "[encoded data removed]",
      "text/plain": [
       "<Figure size 600x600 with 1 Axes>"
      ]
     },
     "metadata": {},
     "output_type": "display_data"
    },
    {
     "name": "stdout",
     "output_type": "stream",
     "text": [
      "**************************************************\n",
      "\n",
      "\n",
      "Values of True Positives, True Negatives, False Positivies and False Negatives\n",
      "~~~~~~~~~~~~~~~~~~~~~~~~~~~~~~~~~~~~~~~~~~~~~~~~~~\n",
      "True Positives: 5733\n",
      "True Negatives: 449\n",
      "False Positives: 367\n",
      "False Negatives: 843\n",
      "~~~~~~~~~~~~~~~~~~~~~~~~~~~~~~~~~~~~~~~~~~~~~~~~~~\n",
      "\n",
      "\n",
      "Evaluation Score Summary\n",
      "--------------------------------------------------\n",
      "Accuracy Score: 0.84\n",
      "Sensitivity/Recall Score: 0.87\n",
      "Specificity Score: 0.55\n",
      "Precision: 0.94\n",
      "F1 Score: 0.9\n",
      "--------------------------------------------------\n"
     ]
    }
   ],
   "source": [
    "# Getting the scores of the tuned model\n",
    "rf_tuned_metrics = evaluation_scores(rf_hpt, X_test, y_test)"
   ]
  },
  {
   "cell_type": "markdown",
   "id": "b2125746",
   "metadata": {},
   "source": [
    "#### Creating Pickle for Random Forest Modal"
   ]
  },
  {
   "cell_type": "code",
   "execution_count": 88,
   "id": "3cb529a6",
   "metadata": {},
   "outputs": [],
   "source": [
    "rf_base_model = joblib.dump(rf, open('models/rf_base_model.pkl', 'wb'))"
   ]
  },
  {
   "cell_type": "code",
   "execution_count": 90,
   "id": "f75b3eec",
   "metadata": {},
   "outputs": [],
   "source": [
    "rf_tuned_model = joblib.dump(rf_hpt, open('models/rf_tuned_model.pkl', 'wb'))"
   ]
  },
  {
   "cell_type": "markdown",
   "id": "5a5b8532",
   "metadata": {},
   "source": [
    "**Conclusion:**\n",
    "\n",
    "For Random Forest, Tuned Model is performing better than the base model as F1 Score is better.\n",
    "We will consider the Tuned Model for evaluation purpose when we are doing model comparison."
   ]
  },
  {
   "cell_type": "markdown",
   "id": "758df295",
   "metadata": {},
   "source": [
    "## XGBoost Classifier"
   ]
  },
  {
   "cell_type": "code",
   "execution_count": 91,
   "id": "84d02375",
   "metadata": {},
   "outputs": [
    {
     "data": {
      "text/plain": [
       "user_sentiment\n",
       "Positive    6576\n",
       "Negative     816\n",
       "Name: count, dtype: int64"
      ]
     },
     "execution_count": 91,
     "metadata": {},
     "output_type": "execute_result"
    }
   ],
   "source": [
    "y_test.value_counts()"
   ]
  },
  {
   "cell_type": "code",
   "execution_count": 92,
   "id": "6e3c5b1a",
   "metadata": {},
   "outputs": [],
   "source": [
    "y_train_sm = y_train_sm.replace({'Positive':0,'Negative': 1})\n",
    "y_test = y_test.replace({'Positive':0,'Negative': 1})"
   ]
  },
  {
   "cell_type": "code",
   "execution_count": 93,
   "id": "b33978c7",
   "metadata": {},
   "outputs": [
    {
     "name": "stdout",
     "output_type": "stream",
     "text": [
      "Visualizing the Confusion Matrix with a Heatmap\n",
      "\n",
      "\n",
      "**************************************************\n"
     ]
    },
    {
     "data": {
      "image/png": "[encoded data removed]",
      "text/plain": [
       "<Figure size 600x600 with 1 Axes>"
      ]
     },
     "metadata": {},
     "output_type": "display_data"
    },
    {
     "name": "stdout",
     "output_type": "stream",
     "text": [
      "**************************************************\n",
      "\n",
      "\n",
      "Values of True Positives, True Negatives, False Positivies and False Negatives\n",
      "~~~~~~~~~~~~~~~~~~~~~~~~~~~~~~~~~~~~~~~~~~~~~~~~~~\n",
      "True Positives: 489\n",
      "True Negatives: 6117\n",
      "False Positives: 459\n",
      "False Negatives: 327\n",
      "~~~~~~~~~~~~~~~~~~~~~~~~~~~~~~~~~~~~~~~~~~~~~~~~~~\n",
      "\n",
      "\n",
      "Evaluation Score Summary\n",
      "--------------------------------------------------\n",
      "Accuracy Score: 0.89\n",
      "Sensitivity/Recall Score: 0.6\n",
      "Specificity Score: 0.93\n",
      "Precision: 0.52\n",
      "F1 Score: 0.56\n",
      "--------------------------------------------------\n"
     ]
    }
   ],
   "source": [
    "xg = xgb.XGBClassifier(random_state=42).fit(X_train_sm, y_train_sm)\n",
    "# Getting the score of the base model\n",
    "xg_metrics = evaluation_scores(xg, X_test, y_test)"
   ]
  },
  {
   "cell_type": "markdown",
   "id": "52409306",
   "metadata": {},
   "source": [
    "### HyperParameter Tuning"
   ]
  },
  {
   "cell_type": "code",
   "execution_count": 94,
   "id": "fe4b3914",
   "metadata": {},
   "outputs": [],
   "source": [
    "xg_grid = {\"learning_rate\": np.arange(0.05, 1, 0.1),\n",
    "           \"max_depth\": np.arange(5, 20, 5)\n",
    "           }"
   ]
  },
  {
   "cell_type": "code",
   "execution_count": 95,
   "id": "f3c87f70",
   "metadata": {},
   "outputs": [
    {
     "name": "stdout",
     "output_type": "stream",
     "text": [
      "Fitting 4 folds for each of 10 candidates, totalling 40 fits\n"
     ]
    }
   ],
   "source": [
    "# Setup random hyperparameter search for Random Forest Classifier\n",
    "xg_hpt = RandomizedSearchCV(XGBClassifier(random_state=42),\n",
    "                                param_distributions=xg_grid,\n",
    "                                cv=4,\n",
    "                                verbose=True,\n",
    "                                n_jobs=-1,\n",
    "                                scoring='f1')\n",
    "\n",
    "# Fit random hyperparameter search model\n",
    "xg_hpt.fit(X_train_sm, y_train_sm);"
   ]
  },
  {
   "cell_type": "code",
   "execution_count": 96,
   "id": "6a370b21",
   "metadata": {},
   "outputs": [
    {
     "data": {
      "text/plain": [
       "{'max_depth': 5, 'learning_rate': 0.7500000000000002}"
      ]
     },
     "execution_count": 96,
     "metadata": {},
     "output_type": "execute_result"
    }
   ],
   "source": [
    "# Check best parameters\n",
    "xg_hpt.best_params_"
   ]
  },
  {
   "cell_type": "code",
   "execution_count": 97,
   "id": "1410b2ea",
   "metadata": {},
   "outputs": [
    {
     "name": "stdout",
     "output_type": "stream",
     "text": [
      "Visualizing the Confusion Matrix with a Heatmap\n",
      "\n",
      "\n",
      "**************************************************\n"
     ]
    },
    {
     "data": {
      "image/png": "[encoded data removed]",
      "text/plain": [
       "<Figure size 600x600 with 1 Axes>"
      ]
     },
     "metadata": {},
     "output_type": "display_data"
    },
    {
     "name": "stdout",
     "output_type": "stream",
     "text": [
      "**************************************************\n",
      "\n",
      "\n",
      "Values of True Positives, True Negatives, False Positivies and False Negatives\n",
      "~~~~~~~~~~~~~~~~~~~~~~~~~~~~~~~~~~~~~~~~~~~~~~~~~~\n",
      "True Positives: 481\n",
      "True Negatives: 6136\n",
      "False Positives: 440\n",
      "False Negatives: 335\n",
      "~~~~~~~~~~~~~~~~~~~~~~~~~~~~~~~~~~~~~~~~~~~~~~~~~~\n",
      "\n",
      "\n",
      "Evaluation Score Summary\n",
      "--------------------------------------------------\n",
      "Accuracy Score: 0.9\n",
      "Sensitivity/Recall Score: 0.59\n",
      "Specificity Score: 0.93\n",
      "Precision: 0.52\n",
      "F1 Score: 0.55\n",
      "--------------------------------------------------\n"
     ]
    },
    {
     "data": {
      "text/plain": [
       "[0.9, 0.59, 0.93, 0.52, 0.55]"
      ]
     },
     "execution_count": 97,
     "metadata": {},
     "output_type": "execute_result"
    }
   ],
   "source": [
    "evaluation_scores(xg_hpt, X_test, y_test)"
   ]
  },
  {
   "cell_type": "markdown",
   "id": "038003ee",
   "metadata": {},
   "source": [
    "We will perform further fine tuning with Grid Search CV"
   ]
  },
  {
   "cell_type": "code",
   "execution_count": 98,
   "id": "4a53f132",
   "metadata": {},
   "outputs": [],
   "source": [
    "# Fine tuning with Grid Search CV\n",
    "xg_grid = {\"learning_rate\": [0.45, 0.15],\n",
    "           \"max_depth\": [5, 10]\n",
    "           }"
   ]
  },
  {
   "cell_type": "code",
   "execution_count": 99,
   "id": "2d13ffbb",
   "metadata": {},
   "outputs": [
    {
     "name": "stdout",
     "output_type": "stream",
     "text": [
      "Fitting 5 folds for each of 4 candidates, totalling 20 fits\n"
     ]
    }
   ],
   "source": [
    "# Setup random hyperparameter search for Random Forest Classifier\n",
    "xg_hpt = GridSearchCV(XGBClassifier(random_state=42),\n",
    "                                param_grid=xg_grid,\n",
    "                                cv=5,\n",
    "                                verbose=True,\n",
    "                                n_jobs=-1,\n",
    "                                scoring='f1')\n",
    "\n",
    "# Fit random hyperparameter search model\n",
    "xg_hpt.fit(X_train_sm, y_train_sm);"
   ]
  },
  {
   "cell_type": "code",
   "execution_count": 100,
   "id": "f3e07f7e",
   "metadata": {},
   "outputs": [
    {
     "data": {
      "text/plain": [
       "{'learning_rate': 0.45, 'max_depth': 5}"
      ]
     },
     "execution_count": 100,
     "metadata": {},
     "output_type": "execute_result"
    }
   ],
   "source": [
    "# Check best parameters\n",
    "xg_hpt.best_params_"
   ]
  },
  {
   "cell_type": "code",
   "execution_count": 101,
   "id": "08bbe701",
   "metadata": {},
   "outputs": [
    {
     "name": "stdout",
     "output_type": "stream",
     "text": [
      "Visualizing the Confusion Matrix with a Heatmap\n",
      "\n",
      "\n",
      "**************************************************\n"
     ]
    },
    {
     "data": {
      "image/png": "[encoded data removed]",
      "text/plain": [
       "<Figure size 600x600 with 1 Axes>"
      ]
     },
     "metadata": {},
     "output_type": "display_data"
    },
    {
     "name": "stdout",
     "output_type": "stream",
     "text": [
      "**************************************************\n",
      "\n",
      "\n",
      "Values of True Positives, True Negatives, False Positivies and False Negatives\n",
      "~~~~~~~~~~~~~~~~~~~~~~~~~~~~~~~~~~~~~~~~~~~~~~~~~~\n",
      "True Positives: 492\n",
      "True Negatives: 6091\n",
      "False Positives: 485\n",
      "False Negatives: 324\n",
      "~~~~~~~~~~~~~~~~~~~~~~~~~~~~~~~~~~~~~~~~~~~~~~~~~~\n",
      "\n",
      "\n",
      "Evaluation Score Summary\n",
      "--------------------------------------------------\n",
      "Accuracy Score: 0.89\n",
      "Sensitivity/Recall Score: 0.6\n",
      "Specificity Score: 0.93\n",
      "Precision: 0.5\n",
      "F1 Score: 0.55\n",
      "--------------------------------------------------\n"
     ]
    }
   ],
   "source": [
    "# Getting the scores of the tuned model\n",
    "xg_tuned_metrics = evaluation_scores(xg_hpt, X_test, y_test)"
   ]
  },
  {
   "cell_type": "code",
   "execution_count": 102,
   "id": "3dd5cd28",
   "metadata": {},
   "outputs": [],
   "source": [
    "#### creating pickle for Xgboost Modal"
   ]
  },
  {
   "cell_type": "code",
   "execution_count": 104,
   "id": "a89aac76",
   "metadata": {},
   "outputs": [],
   "source": [
    "xg_base_model = joblib.dump(xg, open('models/xg_base_model.pkl', 'wb'))"
   ]
  },
  {
   "cell_type": "code",
   "execution_count": 106,
   "id": "0c5eb9c4",
   "metadata": {},
   "outputs": [],
   "source": [
    "xg_tuned_model = joblib.dump(xg_hpt, open('models/xg_tuned_model.pkl', 'wb'))"
   ]
  },
  {
   "cell_type": "markdown",
   "id": "9ae7363c",
   "metadata": {},
   "source": [
    "***Conclusion:***\n",
    "* For XG Boost model, Base Model is performing better than the tuned model.\n",
    "* We will consider the Base Model for evaluation purpose when we are doing model comparison."
   ]
  },
  {
   "cell_type": "markdown",
   "id": "e06f9bf7",
   "metadata": {},
   "source": [
    "# Model Evaluation"
   ]
  },
  {
   "cell_type": "code",
   "execution_count": 107,
   "id": "c737803a",
   "metadata": {},
   "outputs": [
    {
     "data": {
      "text/html": [
       "<div>\n",
       "<style scoped>\n",
       "    .dataframe tbody tr th:only-of-type {\n",
       "        vertical-align: middle;\n",
       "    }\n",
       "\n",
       "    .dataframe tbody tr th {\n",
       "        vertical-align: top;\n",
       "    }\n",
       "\n",
       "    .dataframe thead th {\n",
       "        text-align: right;\n",
       "    }\n",
       "</style>\n",
       "<table border=\"1\" class=\"dataframe\">\n",
       "  <thead>\n",
       "    <tr style=\"text-align: right;\">\n",
       "      <th></th>\n",
       "      <th>Metrics</th>\n",
       "      <th>LR Base Model</th>\n",
       "      <th>LR Tuned Model</th>\n",
       "      <th>RF Base Model</th>\n",
       "      <th>RF Tuned Model</th>\n",
       "      <th>XG Base Model</th>\n",
       "      <th>XG Tuned Model</th>\n",
       "    </tr>\n",
       "  </thead>\n",
       "  <tbody>\n",
       "    <tr>\n",
       "      <th>0</th>\n",
       "      <td>Accuracy</td>\n",
       "      <td>0.88</td>\n",
       "      <td>0.89</td>\n",
       "      <td>0.91</td>\n",
       "      <td>0.84</td>\n",
       "      <td>0.89</td>\n",
       "      <td>0.89</td>\n",
       "    </tr>\n",
       "    <tr>\n",
       "      <th>1</th>\n",
       "      <td>Sensitivity/Recall</td>\n",
       "      <td>0.90</td>\n",
       "      <td>0.93</td>\n",
       "      <td>0.97</td>\n",
       "      <td>0.87</td>\n",
       "      <td>0.60</td>\n",
       "      <td>0.60</td>\n",
       "    </tr>\n",
       "    <tr>\n",
       "      <th>2</th>\n",
       "      <td>Specificity</td>\n",
       "      <td>0.75</td>\n",
       "      <td>0.55</td>\n",
       "      <td>0.46</td>\n",
       "      <td>0.55</td>\n",
       "      <td>0.93</td>\n",
       "      <td>0.93</td>\n",
       "    </tr>\n",
       "    <tr>\n",
       "      <th>3</th>\n",
       "      <td>Precision</td>\n",
       "      <td>0.97</td>\n",
       "      <td>0.94</td>\n",
       "      <td>0.94</td>\n",
       "      <td>0.94</td>\n",
       "      <td>0.52</td>\n",
       "      <td>0.50</td>\n",
       "    </tr>\n",
       "    <tr>\n",
       "      <th>4</th>\n",
       "      <td>F1 Score</td>\n",
       "      <td>0.93</td>\n",
       "      <td>0.93</td>\n",
       "      <td>0.95</td>\n",
       "      <td>0.90</td>\n",
       "      <td>0.56</td>\n",
       "      <td>0.55</td>\n",
       "    </tr>\n",
       "  </tbody>\n",
       "</table>\n",
       "</div>"
      ],
      "text/plain": [
       "              Metrics  LR Base Model  LR Tuned Model  RF Base Model  \\\n",
       "0            Accuracy           0.88            0.89           0.91   \n",
       "1  Sensitivity/Recall           0.90            0.93           0.97   \n",
       "2         Specificity           0.75            0.55           0.46   \n",
       "3           Precision           0.97            0.94           0.94   \n",
       "4            F1 Score           0.93            0.93           0.95   \n",
       "\n",
       "   RF Tuned Model  XG Base Model  XG Tuned Model  \n",
       "0            0.84           0.89            0.89  \n",
       "1            0.87           0.60            0.60  \n",
       "2            0.55           0.93            0.93  \n",
       "3            0.94           0.52            0.50  \n",
       "4            0.90           0.56            0.55  "
      ]
     },
     "execution_count": 107,
     "metadata": {},
     "output_type": "execute_result"
    }
   ],
   "source": [
    "# Printing the scores of all the 3 Models (Base and Tuned)\n",
    "dict_bt_metrics = {'Metrics': ['Accuracy','Sensitivity/Recall','Specificity','Precision','F1 Score'],\n",
    "                              'LR Base Model': lr_metrics, 'LR Tuned Model': lr_tuned_metrics,\n",
    "                              'RF Base Model': rf_metrics, 'RF Tuned Model': rf_tuned_metrics,\n",
    "                              'XG Base Model': xg_metrics, 'XG Tuned Model': xg_tuned_metrics}\n",
    "\n",
    "df_bt_metrics = pd.DataFrame(dict_bt_metrics, columns = ['Metrics', 'LR Base Model', 'LR Tuned Model', 'RF Base Model', 'RF Tuned Model', 'XG Base Model', 'XG Tuned Model'])\n",
    "df_bt_metrics"
   ]
  },
  {
   "cell_type": "code",
   "execution_count": 109,
   "id": "26c67b9c",
   "metadata": {},
   "outputs": [],
   "source": [
    "# Saving the base Random Forest model as the best sentiment model for future use \n",
    "best_sentiment_model = joblib.dump(rf_base_model, open('models/best_sentiment_model.pkl', 'wb'))"
   ]
  },
  {
   "cell_type": "markdown",
   "id": "17b9d45b",
   "metadata": {},
   "source": [
    "Looking at the model evaluation metrics and focusing on Sensitivity, Specificity and F1 Score, we can conclude that the base Random Forest Model is the best model out of all of them."
   ]
  },
  {
   "cell_type": "markdown",
   "id": "f0ba8921",
   "metadata": {},
   "source": [
    "# Building a Recommendation System\n",
    "\n",
    "We will build the below two recommendation systems\n",
    "1. User-based recommendation system\n",
    "2. Item-based recommendation system\n",
    "\n",
    "Once built, we will analyze the recommendation systems and select the one that is best suited in this case. \n",
    "Once we get the best-suited recommendation system, the next task will be to recommend 20 products that a user is most likely to purchase based on the ratings."
   ]
  },
  {
   "cell_type": "markdown",
   "id": "fd3db868",
   "metadata": {},
   "source": [
    "## Reading Data"
   ]
  },
  {
   "cell_type": "code",
   "execution_count": 110,
   "id": "3a055515",
   "metadata": {},
   "outputs": [
    {
     "data": {
      "text/html": [
       "<div>\n",
       "<style scoped>\n",
       "    .dataframe tbody tr th:only-of-type {\n",
       "        vertical-align: middle;\n",
       "    }\n",
       "\n",
       "    .dataframe tbody tr th {\n",
       "        vertical-align: top;\n",
       "    }\n",
       "\n",
       "    .dataframe thead th {\n",
       "        text-align: right;\n",
       "    }\n",
       "</style>\n",
       "<table border=\"1\" class=\"dataframe\">\n",
       "  <thead>\n",
       "    <tr style=\"text-align: right;\">\n",
       "      <th></th>\n",
       "      <th>id</th>\n",
       "      <th>brand</th>\n",
       "      <th>categories</th>\n",
       "      <th>manufacturer</th>\n",
       "      <th>name</th>\n",
       "      <th>reviews_date</th>\n",
       "      <th>reviews_didPurchase</th>\n",
       "      <th>reviews_doRecommend</th>\n",
       "      <th>reviews_rating</th>\n",
       "      <th>reviews_text</th>\n",
       "      <th>reviews_title</th>\n",
       "      <th>reviews_userCity</th>\n",
       "      <th>reviews_userProvince</th>\n",
       "      <th>reviews_username</th>\n",
       "      <th>user_sentiment</th>\n",
       "    </tr>\n",
       "  </thead>\n",
       "  <tbody>\n",
       "    <tr>\n",
       "      <th>0</th>\n",
       "      <td>AV13O1A8GV-KLJ3akUyj</td>\n",
       "      <td>Universal Music</td>\n",
       "      <td>Movies, Music &amp; Books,Music,R&amp;b,Movies &amp; TV,Mo...</td>\n",
       "      <td>Universal Music Group / Cash Money</td>\n",
       "      <td>Pink Friday: Roman Reloaded Re-Up (w/dvd)</td>\n",
       "      <td>2012-11-30T06:21:45.000Z</td>\n",
       "      <td>NaN</td>\n",
       "      <td>NaN</td>\n",
       "      <td>5</td>\n",
       "      <td>i love this album. it's very good. more to the...</td>\n",
       "      <td>Just Awesome</td>\n",
       "      <td>Los Angeles</td>\n",
       "      <td>NaN</td>\n",
       "      <td>joshua</td>\n",
       "      <td>Positive</td>\n",
       "    </tr>\n",
       "    <tr>\n",
       "      <th>1</th>\n",
       "      <td>AV14LG0R-jtxr-f38QfS</td>\n",
       "      <td>Lundberg</td>\n",
       "      <td>Food,Packaged Foods,Snacks,Crackers,Snacks, Co...</td>\n",
       "      <td>Lundberg</td>\n",
       "      <td>Lundberg Organic Cinnamon Toast Rice Cakes</td>\n",
       "      <td>2017-07-09T00:00:00.000Z</td>\n",
       "      <td>True</td>\n",
       "      <td>NaN</td>\n",
       "      <td>5</td>\n",
       "      <td>Good flavor. This review was collected as part...</td>\n",
       "      <td>Good</td>\n",
       "      <td>NaN</td>\n",
       "      <td>NaN</td>\n",
       "      <td>dorothy w</td>\n",
       "      <td>Positive</td>\n",
       "    </tr>\n",
       "  </tbody>\n",
       "</table>\n",
       "</div>"
      ],
      "text/plain": [
       "                     id            brand  \\\n",
       "0  AV13O1A8GV-KLJ3akUyj  Universal Music   \n",
       "1  AV14LG0R-jtxr-f38QfS         Lundberg   \n",
       "\n",
       "                                          categories  \\\n",
       "0  Movies, Music & Books,Music,R&b,Movies & TV,Mo...   \n",
       "1  Food,Packaged Foods,Snacks,Crackers,Snacks, Co...   \n",
       "\n",
       "                         manufacturer  \\\n",
       "0  Universal Music Group / Cash Money   \n",
       "1                            Lundberg   \n",
       "\n",
       "                                         name              reviews_date  \\\n",
       "0   Pink Friday: Roman Reloaded Re-Up (w/dvd)  2012-11-30T06:21:45.000Z   \n",
       "1  Lundberg Organic Cinnamon Toast Rice Cakes  2017-07-09T00:00:00.000Z   \n",
       "\n",
       "  reviews_didPurchase reviews_doRecommend  reviews_rating  \\\n",
       "0                 NaN                 NaN               5   \n",
       "1                True                 NaN               5   \n",
       "\n",
       "                                        reviews_text reviews_title  \\\n",
       "0  i love this album. it's very good. more to the...  Just Awesome   \n",
       "1  Good flavor. This review was collected as part...          Good   \n",
       "\n",
       "  reviews_userCity reviews_userProvince reviews_username user_sentiment  \n",
       "0      Los Angeles                  NaN           joshua       Positive  \n",
       "1              NaN                  NaN        dorothy w       Positive  "
      ]
     },
     "execution_count": 110,
     "metadata": {},
     "output_type": "execute_result"
    }
   ],
   "source": [
    "df_recom = pd.read_csv(\"sample30.csv\")\n",
    "df_recom.head(2)"
   ]
  },
  {
   "cell_type": "code",
   "execution_count": 111,
   "id": "26242159",
   "metadata": {},
   "outputs": [
    {
     "data": {
      "text/plain": [
       "(30000, 15)"
      ]
     },
     "execution_count": 111,
     "metadata": {},
     "output_type": "execute_result"
    }
   ],
   "source": [
    "# analysing shape\n",
    "df_recom.shape"
   ]
  },
  {
   "cell_type": "code",
   "execution_count": 112,
   "id": "4f66e093",
   "metadata": {},
   "outputs": [],
   "source": [
    "# We need only the below columns for building a recommendation system\n",
    "df_recom = df_recom[[\"id\", \"name\", \"reviews_rating\", \"reviews_username\"]]"
   ]
  },
  {
   "cell_type": "code",
   "execution_count": 113,
   "id": "d81dd45d",
   "metadata": {},
   "outputs": [
    {
     "data": {
      "text/plain": [
       "(30000, 4)"
      ]
     },
     "execution_count": 113,
     "metadata": {},
     "output_type": "execute_result"
    }
   ],
   "source": [
    "# analysing shape\n",
    "df_recom.shape"
   ]
  },
  {
   "cell_type": "markdown",
   "id": "ab91aaa3",
   "metadata": {},
   "source": [
    "## Handling NULL values"
   ]
  },
  {
   "cell_type": "code",
   "execution_count": 114,
   "id": "628dbb4d",
   "metadata": {},
   "outputs": [],
   "source": [
    "df_recom=df_recom[~df_recom['reviews_username'].isna()]"
   ]
  },
  {
   "cell_type": "code",
   "execution_count": 115,
   "id": "ed7130a5",
   "metadata": {},
   "outputs": [
    {
     "data": {
      "text/plain": [
       "id                  0\n",
       "name                0\n",
       "reviews_rating      0\n",
       "reviews_username    0\n",
       "dtype: int64"
      ]
     },
     "execution_count": 115,
     "metadata": {},
     "output_type": "execute_result"
    }
   ],
   "source": [
    "df_recom.isnull().sum()"
   ]
  },
  {
   "cell_type": "code",
   "execution_count": 116,
   "id": "d03ea5c9",
   "metadata": {},
   "outputs": [
    {
     "data": {
      "text/plain": [
       "(29937, 4)"
      ]
     },
     "execution_count": 116,
     "metadata": {},
     "output_type": "execute_result"
    }
   ],
   "source": [
    "df_recom.shape"
   ]
  },
  {
   "cell_type": "markdown",
   "id": "f0515b81",
   "metadata": {},
   "source": [
    "## Train, Test Split"
   ]
  },
  {
   "cell_type": "code",
   "execution_count": 117,
   "id": "9c90e257",
   "metadata": {},
   "outputs": [
    {
     "name": "stdout",
     "output_type": "stream",
     "text": [
      "(20955, 4)\n",
      "(8982, 4)\n"
     ]
    }
   ],
   "source": [
    "train, test = train_test_split(df_recom, test_size=0.30, random_state=42)\n",
    "print(train.shape)\n",
    "print(test.shape)"
   ]
  },
  {
   "cell_type": "code",
   "execution_count": 118,
   "id": "2280537d",
   "metadata": {},
   "outputs": [
    {
     "data": {
      "text/html": [
       "<div>\n",
       "<style scoped>\n",
       "    .dataframe tbody tr th:only-of-type {\n",
       "        vertical-align: middle;\n",
       "    }\n",
       "\n",
       "    .dataframe tbody tr th {\n",
       "        vertical-align: top;\n",
       "    }\n",
       "\n",
       "    .dataframe thead th {\n",
       "        text-align: right;\n",
       "    }\n",
       "</style>\n",
       "<table border=\"1\" class=\"dataframe\">\n",
       "  <thead>\n",
       "    <tr style=\"text-align: right;\">\n",
       "      <th>id</th>\n",
       "      <th>AV13O1A8GV-KLJ3akUyj</th>\n",
       "      <th>AV14LG0R-jtxr-f38QfS</th>\n",
       "      <th>AV16khLE-jtxr-f38VFn</th>\n",
       "      <th>AV1YGDqsGV-KLJ3adc-O</th>\n",
       "      <th>AV1YIch7GV-KLJ3addeG</th>\n",
       "      <th>AV1YlENIglJLPUi8IHsX</th>\n",
       "      <th>AV1YmBrdGV-KLJ3adewb</th>\n",
       "      <th>AV1YmDL9vKc47QAVgr7_</th>\n",
       "      <th>AV1Ymf_rglJLPUi8II2v</th>\n",
       "      <th>AV1Yn94nvKc47QAVgtst</th>\n",
       "      <th>...</th>\n",
       "      <th>AVpfrFDZLJeJML43Bmv0</th>\n",
       "      <th>AVpfrTyiLJeJML43BrSI</th>\n",
       "      <th>AVpfrfHF1cnluZ0-pRai</th>\n",
       "      <th>AVpfrgjFLJeJML43BvCc</th>\n",
       "      <th>AVpfsQoeilAPnD_xgfx5</th>\n",
       "      <th>AVpfshNsLJeJML43CB8q</th>\n",
       "      <th>AVpfthSailAPnD_xg3ON</th>\n",
       "      <th>AVpftikC1cnluZ0-p31V</th>\n",
       "      <th>AVpfv4TlilAPnD_xhjNS</th>\n",
       "      <th>AVpfvieo1cnluZ0-qdnu</th>\n",
       "    </tr>\n",
       "    <tr>\n",
       "      <th>reviews_username</th>\n",
       "      <th></th>\n",
       "      <th></th>\n",
       "      <th></th>\n",
       "      <th></th>\n",
       "      <th></th>\n",
       "      <th></th>\n",
       "      <th></th>\n",
       "      <th></th>\n",
       "      <th></th>\n",
       "      <th></th>\n",
       "      <th></th>\n",
       "      <th></th>\n",
       "      <th></th>\n",
       "      <th></th>\n",
       "      <th></th>\n",
       "      <th></th>\n",
       "      <th></th>\n",
       "      <th></th>\n",
       "      <th></th>\n",
       "      <th></th>\n",
       "      <th></th>\n",
       "    </tr>\n",
       "  </thead>\n",
       "  <tbody>\n",
       "    <tr>\n",
       "      <th>00sab00</th>\n",
       "      <td>0.0</td>\n",
       "      <td>0.0</td>\n",
       "      <td>0.0</td>\n",
       "      <td>0.0</td>\n",
       "      <td>0.0</td>\n",
       "      <td>0.0</td>\n",
       "      <td>0.0</td>\n",
       "      <td>0.0</td>\n",
       "      <td>0.0</td>\n",
       "      <td>0.0</td>\n",
       "      <td>...</td>\n",
       "      <td>0.0</td>\n",
       "      <td>0.0</td>\n",
       "      <td>0.0</td>\n",
       "      <td>0.0</td>\n",
       "      <td>0.0</td>\n",
       "      <td>0.0</td>\n",
       "      <td>0.0</td>\n",
       "      <td>0.0</td>\n",
       "      <td>0.0</td>\n",
       "      <td>0.0</td>\n",
       "    </tr>\n",
       "    <tr>\n",
       "      <th>01impala</th>\n",
       "      <td>0.0</td>\n",
       "      <td>0.0</td>\n",
       "      <td>0.0</td>\n",
       "      <td>0.0</td>\n",
       "      <td>0.0</td>\n",
       "      <td>0.0</td>\n",
       "      <td>0.0</td>\n",
       "      <td>0.0</td>\n",
       "      <td>0.0</td>\n",
       "      <td>0.0</td>\n",
       "      <td>...</td>\n",
       "      <td>0.0</td>\n",
       "      <td>0.0</td>\n",
       "      <td>0.0</td>\n",
       "      <td>0.0</td>\n",
       "      <td>0.0</td>\n",
       "      <td>0.0</td>\n",
       "      <td>0.0</td>\n",
       "      <td>0.0</td>\n",
       "      <td>0.0</td>\n",
       "      <td>0.0</td>\n",
       "    </tr>\n",
       "    <tr>\n",
       "      <th>02dakota</th>\n",
       "      <td>0.0</td>\n",
       "      <td>0.0</td>\n",
       "      <td>0.0</td>\n",
       "      <td>0.0</td>\n",
       "      <td>0.0</td>\n",
       "      <td>0.0</td>\n",
       "      <td>0.0</td>\n",
       "      <td>0.0</td>\n",
       "      <td>0.0</td>\n",
       "      <td>0.0</td>\n",
       "      <td>...</td>\n",
       "      <td>0.0</td>\n",
       "      <td>0.0</td>\n",
       "      <td>0.0</td>\n",
       "      <td>0.0</td>\n",
       "      <td>0.0</td>\n",
       "      <td>0.0</td>\n",
       "      <td>0.0</td>\n",
       "      <td>0.0</td>\n",
       "      <td>0.0</td>\n",
       "      <td>0.0</td>\n",
       "    </tr>\n",
       "  </tbody>\n",
       "</table>\n",
       "<p>3 rows × 256 columns</p>\n",
       "</div>"
      ],
      "text/plain": [
       "id                AV13O1A8GV-KLJ3akUyj  AV14LG0R-jtxr-f38QfS  \\\n",
       "reviews_username                                               \n",
       "00sab00                            0.0                   0.0   \n",
       "01impala                           0.0                   0.0   \n",
       "02dakota                           0.0                   0.0   \n",
       "\n",
       "id                AV16khLE-jtxr-f38VFn  AV1YGDqsGV-KLJ3adc-O  \\\n",
       "reviews_username                                               \n",
       "00sab00                            0.0                   0.0   \n",
       "01impala                           0.0                   0.0   \n",
       "02dakota                           0.0                   0.0   \n",
       "\n",
       "id                AV1YIch7GV-KLJ3addeG  AV1YlENIglJLPUi8IHsX  \\\n",
       "reviews_username                                               \n",
       "00sab00                            0.0                   0.0   \n",
       "01impala                           0.0                   0.0   \n",
       "02dakota                           0.0                   0.0   \n",
       "\n",
       "id                AV1YmBrdGV-KLJ3adewb  AV1YmDL9vKc47QAVgr7_  \\\n",
       "reviews_username                                               \n",
       "00sab00                            0.0                   0.0   \n",
       "01impala                           0.0                   0.0   \n",
       "02dakota                           0.0                   0.0   \n",
       "\n",
       "id                AV1Ymf_rglJLPUi8II2v  AV1Yn94nvKc47QAVgtst  ...  \\\n",
       "reviews_username                                              ...   \n",
       "00sab00                            0.0                   0.0  ...   \n",
       "01impala                           0.0                   0.0  ...   \n",
       "02dakota                           0.0                   0.0  ...   \n",
       "\n",
       "id                AVpfrFDZLJeJML43Bmv0  AVpfrTyiLJeJML43BrSI  \\\n",
       "reviews_username                                               \n",
       "00sab00                            0.0                   0.0   \n",
       "01impala                           0.0                   0.0   \n",
       "02dakota                           0.0                   0.0   \n",
       "\n",
       "id                AVpfrfHF1cnluZ0-pRai  AVpfrgjFLJeJML43BvCc  \\\n",
       "reviews_username                                               \n",
       "00sab00                            0.0                   0.0   \n",
       "01impala                           0.0                   0.0   \n",
       "02dakota                           0.0                   0.0   \n",
       "\n",
       "id                AVpfsQoeilAPnD_xgfx5  AVpfshNsLJeJML43CB8q  \\\n",
       "reviews_username                                               \n",
       "00sab00                            0.0                   0.0   \n",
       "01impala                           0.0                   0.0   \n",
       "02dakota                           0.0                   0.0   \n",
       "\n",
       "id                AVpfthSailAPnD_xg3ON  AVpftikC1cnluZ0-p31V  \\\n",
       "reviews_username                                               \n",
       "00sab00                            0.0                   0.0   \n",
       "01impala                           0.0                   0.0   \n",
       "02dakota                           0.0                   0.0   \n",
       "\n",
       "id                AVpfv4TlilAPnD_xhjNS  AVpfvieo1cnluZ0-qdnu  \n",
       "reviews_username                                              \n",
       "00sab00                            0.0                   0.0  \n",
       "01impala                           0.0                   0.0  \n",
       "02dakota                           0.0                   0.0  \n",
       "\n",
       "[3 rows x 256 columns]"
      ]
     },
     "execution_count": 118,
     "metadata": {},
     "output_type": "execute_result"
    }
   ],
   "source": [
    "# Pivot the train ratings' dataset into matrix format in which columns are Products and the rows are usernames.\n",
    "df_pivot = train.pivot_table(\n",
    "    index='reviews_username',\n",
    "    columns='id',\n",
    "    values='reviews_rating'\n",
    ").fillna(0)\n",
    "\n",
    "df_pivot.head(3)"
   ]
  },
  {
   "cell_type": "markdown",
   "id": "958c259f",
   "metadata": {},
   "source": [
    "## Creating dummy train & dummy test dataset\n",
    "\n",
    "- Dummy train will be used later for prediction of the movies which has not been rated by the user. To ignore the movies rated by the user, we will mark it as 0 during prediction. The movies not rated by user is marked as 1 for prediction in dummy train dataset. \n",
    "- Dummy test will be used for evaluation. To evaluate, we will only make prediction on the movies rated by the user. So, this is marked as 1. This is just opposite of dummy_train."
   ]
  },
  {
   "cell_type": "code",
   "execution_count": 119,
   "id": "9609eb57",
   "metadata": {},
   "outputs": [],
   "source": [
    "# Copy the train dataset into dummy_train\n",
    "dummy_train = train.copy()"
   ]
  },
  {
   "cell_type": "code",
   "execution_count": 120,
   "id": "9b9d339f",
   "metadata": {},
   "outputs": [],
   "source": [
    "# The products not rated by user is marked as 1 for prediction. \n",
    "dummy_train['reviews_rating'] = dummy_train['reviews_rating'].apply(lambda x: 0 if x>=1 else 1)"
   ]
  },
  {
   "cell_type": "code",
   "execution_count": 121,
   "id": "f3d5893f",
   "metadata": {},
   "outputs": [
    {
     "data": {
      "text/html": [
       "<div>\n",
       "<style scoped>\n",
       "    .dataframe tbody tr th:only-of-type {\n",
       "        vertical-align: middle;\n",
       "    }\n",
       "\n",
       "    .dataframe tbody tr th {\n",
       "        vertical-align: top;\n",
       "    }\n",
       "\n",
       "    .dataframe thead th {\n",
       "        text-align: right;\n",
       "    }\n",
       "</style>\n",
       "<table border=\"1\" class=\"dataframe\">\n",
       "  <thead>\n",
       "    <tr style=\"text-align: right;\">\n",
       "      <th>id</th>\n",
       "      <th>AV13O1A8GV-KLJ3akUyj</th>\n",
       "      <th>AV14LG0R-jtxr-f38QfS</th>\n",
       "      <th>AV16khLE-jtxr-f38VFn</th>\n",
       "      <th>AV1YGDqsGV-KLJ3adc-O</th>\n",
       "      <th>AV1YIch7GV-KLJ3addeG</th>\n",
       "      <th>AV1YlENIglJLPUi8IHsX</th>\n",
       "      <th>AV1YmBrdGV-KLJ3adewb</th>\n",
       "      <th>AV1YmDL9vKc47QAVgr7_</th>\n",
       "      <th>AV1Ymf_rglJLPUi8II2v</th>\n",
       "      <th>AV1Yn94nvKc47QAVgtst</th>\n",
       "      <th>...</th>\n",
       "      <th>AVpfrFDZLJeJML43Bmv0</th>\n",
       "      <th>AVpfrTyiLJeJML43BrSI</th>\n",
       "      <th>AVpfrfHF1cnluZ0-pRai</th>\n",
       "      <th>AVpfrgjFLJeJML43BvCc</th>\n",
       "      <th>AVpfsQoeilAPnD_xgfx5</th>\n",
       "      <th>AVpfshNsLJeJML43CB8q</th>\n",
       "      <th>AVpfthSailAPnD_xg3ON</th>\n",
       "      <th>AVpftikC1cnluZ0-p31V</th>\n",
       "      <th>AVpfv4TlilAPnD_xhjNS</th>\n",
       "      <th>AVpfvieo1cnluZ0-qdnu</th>\n",
       "    </tr>\n",
       "    <tr>\n",
       "      <th>reviews_username</th>\n",
       "      <th></th>\n",
       "      <th></th>\n",
       "      <th></th>\n",
       "      <th></th>\n",
       "      <th></th>\n",
       "      <th></th>\n",
       "      <th></th>\n",
       "      <th></th>\n",
       "      <th></th>\n",
       "      <th></th>\n",
       "      <th></th>\n",
       "      <th></th>\n",
       "      <th></th>\n",
       "      <th></th>\n",
       "      <th></th>\n",
       "      <th></th>\n",
       "      <th></th>\n",
       "      <th></th>\n",
       "      <th></th>\n",
       "      <th></th>\n",
       "      <th></th>\n",
       "    </tr>\n",
       "  </thead>\n",
       "  <tbody>\n",
       "    <tr>\n",
       "      <th>00sab00</th>\n",
       "      <td>1.0</td>\n",
       "      <td>1.0</td>\n",
       "      <td>1.0</td>\n",
       "      <td>1.0</td>\n",
       "      <td>1.0</td>\n",
       "      <td>1.0</td>\n",
       "      <td>1.0</td>\n",
       "      <td>1.0</td>\n",
       "      <td>1.0</td>\n",
       "      <td>1.0</td>\n",
       "      <td>...</td>\n",
       "      <td>1.0</td>\n",
       "      <td>1.0</td>\n",
       "      <td>1.0</td>\n",
       "      <td>1.0</td>\n",
       "      <td>1.0</td>\n",
       "      <td>1.0</td>\n",
       "      <td>1.0</td>\n",
       "      <td>1.0</td>\n",
       "      <td>1.0</td>\n",
       "      <td>1.0</td>\n",
       "    </tr>\n",
       "    <tr>\n",
       "      <th>01impala</th>\n",
       "      <td>1.0</td>\n",
       "      <td>1.0</td>\n",
       "      <td>1.0</td>\n",
       "      <td>1.0</td>\n",
       "      <td>1.0</td>\n",
       "      <td>1.0</td>\n",
       "      <td>1.0</td>\n",
       "      <td>1.0</td>\n",
       "      <td>1.0</td>\n",
       "      <td>1.0</td>\n",
       "      <td>...</td>\n",
       "      <td>1.0</td>\n",
       "      <td>1.0</td>\n",
       "      <td>1.0</td>\n",
       "      <td>1.0</td>\n",
       "      <td>1.0</td>\n",
       "      <td>1.0</td>\n",
       "      <td>1.0</td>\n",
       "      <td>1.0</td>\n",
       "      <td>1.0</td>\n",
       "      <td>1.0</td>\n",
       "    </tr>\n",
       "    <tr>\n",
       "      <th>02dakota</th>\n",
       "      <td>1.0</td>\n",
       "      <td>1.0</td>\n",
       "      <td>1.0</td>\n",
       "      <td>1.0</td>\n",
       "      <td>1.0</td>\n",
       "      <td>1.0</td>\n",
       "      <td>1.0</td>\n",
       "      <td>1.0</td>\n",
       "      <td>1.0</td>\n",
       "      <td>1.0</td>\n",
       "      <td>...</td>\n",
       "      <td>1.0</td>\n",
       "      <td>1.0</td>\n",
       "      <td>1.0</td>\n",
       "      <td>1.0</td>\n",
       "      <td>1.0</td>\n",
       "      <td>1.0</td>\n",
       "      <td>1.0</td>\n",
       "      <td>1.0</td>\n",
       "      <td>1.0</td>\n",
       "      <td>1.0</td>\n",
       "    </tr>\n",
       "  </tbody>\n",
       "</table>\n",
       "<p>3 rows × 256 columns</p>\n",
       "</div>"
      ],
      "text/plain": [
       "id                AV13O1A8GV-KLJ3akUyj  AV14LG0R-jtxr-f38QfS  \\\n",
       "reviews_username                                               \n",
       "00sab00                            1.0                   1.0   \n",
       "01impala                           1.0                   1.0   \n",
       "02dakota                           1.0                   1.0   \n",
       "\n",
       "id                AV16khLE-jtxr-f38VFn  AV1YGDqsGV-KLJ3adc-O  \\\n",
       "reviews_username                                               \n",
       "00sab00                            1.0                   1.0   \n",
       "01impala                           1.0                   1.0   \n",
       "02dakota                           1.0                   1.0   \n",
       "\n",
       "id                AV1YIch7GV-KLJ3addeG  AV1YlENIglJLPUi8IHsX  \\\n",
       "reviews_username                                               \n",
       "00sab00                            1.0                   1.0   \n",
       "01impala                           1.0                   1.0   \n",
       "02dakota                           1.0                   1.0   \n",
       "\n",
       "id                AV1YmBrdGV-KLJ3adewb  AV1YmDL9vKc47QAVgr7_  \\\n",
       "reviews_username                                               \n",
       "00sab00                            1.0                   1.0   \n",
       "01impala                           1.0                   1.0   \n",
       "02dakota                           1.0                   1.0   \n",
       "\n",
       "id                AV1Ymf_rglJLPUi8II2v  AV1Yn94nvKc47QAVgtst  ...  \\\n",
       "reviews_username                                              ...   \n",
       "00sab00                            1.0                   1.0  ...   \n",
       "01impala                           1.0                   1.0  ...   \n",
       "02dakota                           1.0                   1.0  ...   \n",
       "\n",
       "id                AVpfrFDZLJeJML43Bmv0  AVpfrTyiLJeJML43BrSI  \\\n",
       "reviews_username                                               \n",
       "00sab00                            1.0                   1.0   \n",
       "01impala                           1.0                   1.0   \n",
       "02dakota                           1.0                   1.0   \n",
       "\n",
       "id                AVpfrfHF1cnluZ0-pRai  AVpfrgjFLJeJML43BvCc  \\\n",
       "reviews_username                                               \n",
       "00sab00                            1.0                   1.0   \n",
       "01impala                           1.0                   1.0   \n",
       "02dakota                           1.0                   1.0   \n",
       "\n",
       "id                AVpfsQoeilAPnD_xgfx5  AVpfshNsLJeJML43CB8q  \\\n",
       "reviews_username                                               \n",
       "00sab00                            1.0                   1.0   \n",
       "01impala                           1.0                   1.0   \n",
       "02dakota                           1.0                   1.0   \n",
       "\n",
       "id                AVpfthSailAPnD_xg3ON  AVpftikC1cnluZ0-p31V  \\\n",
       "reviews_username                                               \n",
       "00sab00                            1.0                   1.0   \n",
       "01impala                           1.0                   1.0   \n",
       "02dakota                           1.0                   1.0   \n",
       "\n",
       "id                AVpfv4TlilAPnD_xhjNS  AVpfvieo1cnluZ0-qdnu  \n",
       "reviews_username                                              \n",
       "00sab00                            1.0                   1.0  \n",
       "01impala                           1.0                   1.0  \n",
       "02dakota                           1.0                   1.0  \n",
       "\n",
       "[3 rows x 256 columns]"
      ]
     },
     "execution_count": 121,
     "metadata": {},
     "output_type": "execute_result"
    }
   ],
   "source": [
    "# Convert the dummy train dataset into matrix format\n",
    "dummy_train = dummy_train.pivot_table(\n",
    "    index='reviews_username',\n",
    "    columns='id',\n",
    "    values='reviews_rating'\n",
    ").fillna(1)\n",
    "\n",
    "dummy_train.head(3)"
   ]
  },
  {
   "cell_type": "markdown",
   "id": "ef9edff9",
   "metadata": {},
   "source": [
    "**Cosine Similarity**\n",
    "\n",
    "Cosine Similarity is a measurement that quantifies the similarity between two vectors [Which is `reviews_rating` in this case] \n",
    "\n",
    "**Adjusted Cosine**\n",
    "\n",
    "Adjusted cosine similarity is a modified version of vector-based similarity where we incorporate the fact that different users have different ratings schemes. In other words, some users might rate items highly in general, and others might give items lower ratings as a preference. To handle this nature from rating given by user , we subtract average ratings for each user from each user's rating for different products.\n",
    "\n"
   ]
  },
  {
   "cell_type": "markdown",
   "id": "084a58f0",
   "metadata": {},
   "source": [
    "## User Similarity Matrix (Using Adjusted Cosine)"
   ]
  },
  {
   "cell_type": "markdown",
   "id": "180b9d65",
   "metadata": {},
   "source": [
    "### Here, we are not removing the NaN values and calculating the mean only for the products rated by the user"
   ]
  },
  {
   "cell_type": "code",
   "execution_count": 122,
   "id": "8c796483",
   "metadata": {},
   "outputs": [],
   "source": [
    "# Pivot the train ratings' dataset into matrix format in which columns are Products and the rows are usernames.\n",
    "df_pivot = train.pivot_table(\n",
    "    index='reviews_username',\n",
    "    columns='id',\n",
    "    values='reviews_rating'\n",
    ")"
   ]
  },
  {
   "cell_type": "code",
   "execution_count": 123,
   "id": "09e362b6",
   "metadata": {},
   "outputs": [
    {
     "data": {
      "text/html": [
       "<div>\n",
       "<style scoped>\n",
       "    .dataframe tbody tr th:only-of-type {\n",
       "        vertical-align: middle;\n",
       "    }\n",
       "\n",
       "    .dataframe tbody tr th {\n",
       "        vertical-align: top;\n",
       "    }\n",
       "\n",
       "    .dataframe thead th {\n",
       "        text-align: right;\n",
       "    }\n",
       "</style>\n",
       "<table border=\"1\" class=\"dataframe\">\n",
       "  <thead>\n",
       "    <tr style=\"text-align: right;\">\n",
       "      <th>id</th>\n",
       "      <th>AV13O1A8GV-KLJ3akUyj</th>\n",
       "      <th>AV14LG0R-jtxr-f38QfS</th>\n",
       "      <th>AV16khLE-jtxr-f38VFn</th>\n",
       "      <th>AV1YGDqsGV-KLJ3adc-O</th>\n",
       "      <th>AV1YIch7GV-KLJ3addeG</th>\n",
       "      <th>AV1YlENIglJLPUi8IHsX</th>\n",
       "      <th>AV1YmBrdGV-KLJ3adewb</th>\n",
       "      <th>AV1YmDL9vKc47QAVgr7_</th>\n",
       "      <th>AV1Ymf_rglJLPUi8II2v</th>\n",
       "      <th>AV1Yn94nvKc47QAVgtst</th>\n",
       "      <th>...</th>\n",
       "      <th>AVpfrFDZLJeJML43Bmv0</th>\n",
       "      <th>AVpfrTyiLJeJML43BrSI</th>\n",
       "      <th>AVpfrfHF1cnluZ0-pRai</th>\n",
       "      <th>AVpfrgjFLJeJML43BvCc</th>\n",
       "      <th>AVpfsQoeilAPnD_xgfx5</th>\n",
       "      <th>AVpfshNsLJeJML43CB8q</th>\n",
       "      <th>AVpfthSailAPnD_xg3ON</th>\n",
       "      <th>AVpftikC1cnluZ0-p31V</th>\n",
       "      <th>AVpfv4TlilAPnD_xhjNS</th>\n",
       "      <th>AVpfvieo1cnluZ0-qdnu</th>\n",
       "    </tr>\n",
       "    <tr>\n",
       "      <th>reviews_username</th>\n",
       "      <th></th>\n",
       "      <th></th>\n",
       "      <th></th>\n",
       "      <th></th>\n",
       "      <th></th>\n",
       "      <th></th>\n",
       "      <th></th>\n",
       "      <th></th>\n",
       "      <th></th>\n",
       "      <th></th>\n",
       "      <th></th>\n",
       "      <th></th>\n",
       "      <th></th>\n",
       "      <th></th>\n",
       "      <th></th>\n",
       "      <th></th>\n",
       "      <th></th>\n",
       "      <th></th>\n",
       "      <th></th>\n",
       "      <th></th>\n",
       "      <th></th>\n",
       "    </tr>\n",
       "  </thead>\n",
       "  <tbody>\n",
       "    <tr>\n",
       "      <th>joshua</th>\n",
       "      <td>5.0</td>\n",
       "      <td>NaN</td>\n",
       "      <td>NaN</td>\n",
       "      <td>NaN</td>\n",
       "      <td>NaN</td>\n",
       "      <td>NaN</td>\n",
       "      <td>NaN</td>\n",
       "      <td>NaN</td>\n",
       "      <td>NaN</td>\n",
       "      <td>NaN</td>\n",
       "      <td>...</td>\n",
       "      <td>NaN</td>\n",
       "      <td>NaN</td>\n",
       "      <td>NaN</td>\n",
       "      <td>NaN</td>\n",
       "      <td>NaN</td>\n",
       "      <td>NaN</td>\n",
       "      <td>NaN</td>\n",
       "      <td>NaN</td>\n",
       "      <td>NaN</td>\n",
       "      <td>NaN</td>\n",
       "    </tr>\n",
       "  </tbody>\n",
       "</table>\n",
       "<p>1 rows × 256 columns</p>\n",
       "</div>"
      ],
      "text/plain": [
       "id                AV13O1A8GV-KLJ3akUyj  AV14LG0R-jtxr-f38QfS  \\\n",
       "reviews_username                                               \n",
       "joshua                             5.0                   NaN   \n",
       "\n",
       "id                AV16khLE-jtxr-f38VFn  AV1YGDqsGV-KLJ3adc-O  \\\n",
       "reviews_username                                               \n",
       "joshua                             NaN                   NaN   \n",
       "\n",
       "id                AV1YIch7GV-KLJ3addeG  AV1YlENIglJLPUi8IHsX  \\\n",
       "reviews_username                                               \n",
       "joshua                             NaN                   NaN   \n",
       "\n",
       "id                AV1YmBrdGV-KLJ3adewb  AV1YmDL9vKc47QAVgr7_  \\\n",
       "reviews_username                                               \n",
       "joshua                             NaN                   NaN   \n",
       "\n",
       "id                AV1Ymf_rglJLPUi8II2v  AV1Yn94nvKc47QAVgtst  ...  \\\n",
       "reviews_username                                              ...   \n",
       "joshua                             NaN                   NaN  ...   \n",
       "\n",
       "id                AVpfrFDZLJeJML43Bmv0  AVpfrTyiLJeJML43BrSI  \\\n",
       "reviews_username                                               \n",
       "joshua                             NaN                   NaN   \n",
       "\n",
       "id                AVpfrfHF1cnluZ0-pRai  AVpfrgjFLJeJML43BvCc  \\\n",
       "reviews_username                                               \n",
       "joshua                             NaN                   NaN   \n",
       "\n",
       "id                AVpfsQoeilAPnD_xgfx5  AVpfshNsLJeJML43CB8q  \\\n",
       "reviews_username                                               \n",
       "joshua                             NaN                   NaN   \n",
       "\n",
       "id                AVpfthSailAPnD_xg3ON  AVpftikC1cnluZ0-p31V  \\\n",
       "reviews_username                                               \n",
       "joshua                             NaN                   NaN   \n",
       "\n",
       "id                AVpfv4TlilAPnD_xhjNS  AVpfvieo1cnluZ0-qdnu  \n",
       "reviews_username                                              \n",
       "joshua                             NaN                   NaN  \n",
       "\n",
       "[1 rows x 256 columns]"
      ]
     },
     "execution_count": 123,
     "metadata": {},
     "output_type": "execute_result"
    }
   ],
   "source": [
    "# For verification purpose, we do have cases where the rating is not NaN\n",
    "df_pivot[~df_pivot['AV13O1A8GV-KLJ3akUyj'].isna()]"
   ]
  },
  {
   "cell_type": "markdown",
   "id": "333d2970",
   "metadata": {},
   "source": [
    "### Normalising the rating of the product for each user around 0 mean"
   ]
  },
  {
   "cell_type": "code",
   "execution_count": 124,
   "id": "b0934c53",
   "metadata": {},
   "outputs": [],
   "source": [
    "mean = np.nanmean(df_pivot, axis=1)\n",
    "df_subtracted = (df_pivot.T-mean).T"
   ]
  },
  {
   "cell_type": "code",
   "execution_count": 125,
   "id": "feee4763",
   "metadata": {},
   "outputs": [
    {
     "data": {
      "text/html": [
       "<div>\n",
       "<style scoped>\n",
       "    .dataframe tbody tr th:only-of-type {\n",
       "        vertical-align: middle;\n",
       "    }\n",
       "\n",
       "    .dataframe tbody tr th {\n",
       "        vertical-align: top;\n",
       "    }\n",
       "\n",
       "    .dataframe thead th {\n",
       "        text-align: right;\n",
       "    }\n",
       "</style>\n",
       "<table border=\"1\" class=\"dataframe\">\n",
       "  <thead>\n",
       "    <tr style=\"text-align: right;\">\n",
       "      <th>id</th>\n",
       "      <th>AV13O1A8GV-KLJ3akUyj</th>\n",
       "      <th>AV14LG0R-jtxr-f38QfS</th>\n",
       "      <th>AV16khLE-jtxr-f38VFn</th>\n",
       "      <th>AV1YGDqsGV-KLJ3adc-O</th>\n",
       "      <th>AV1YIch7GV-KLJ3addeG</th>\n",
       "      <th>AV1YlENIglJLPUi8IHsX</th>\n",
       "      <th>AV1YmBrdGV-KLJ3adewb</th>\n",
       "      <th>AV1YmDL9vKc47QAVgr7_</th>\n",
       "      <th>AV1Ymf_rglJLPUi8II2v</th>\n",
       "      <th>AV1Yn94nvKc47QAVgtst</th>\n",
       "      <th>...</th>\n",
       "      <th>AVpfrFDZLJeJML43Bmv0</th>\n",
       "      <th>AVpfrTyiLJeJML43BrSI</th>\n",
       "      <th>AVpfrfHF1cnluZ0-pRai</th>\n",
       "      <th>AVpfrgjFLJeJML43BvCc</th>\n",
       "      <th>AVpfsQoeilAPnD_xgfx5</th>\n",
       "      <th>AVpfshNsLJeJML43CB8q</th>\n",
       "      <th>AVpfthSailAPnD_xg3ON</th>\n",
       "      <th>AVpftikC1cnluZ0-p31V</th>\n",
       "      <th>AVpfv4TlilAPnD_xhjNS</th>\n",
       "      <th>AVpfvieo1cnluZ0-qdnu</th>\n",
       "    </tr>\n",
       "    <tr>\n",
       "      <th>reviews_username</th>\n",
       "      <th></th>\n",
       "      <th></th>\n",
       "      <th></th>\n",
       "      <th></th>\n",
       "      <th></th>\n",
       "      <th></th>\n",
       "      <th></th>\n",
       "      <th></th>\n",
       "      <th></th>\n",
       "      <th></th>\n",
       "      <th></th>\n",
       "      <th></th>\n",
       "      <th></th>\n",
       "      <th></th>\n",
       "      <th></th>\n",
       "      <th></th>\n",
       "      <th></th>\n",
       "      <th></th>\n",
       "      <th></th>\n",
       "      <th></th>\n",
       "      <th></th>\n",
       "    </tr>\n",
       "  </thead>\n",
       "  <tbody>\n",
       "    <tr>\n",
       "      <th>00sab00</th>\n",
       "      <td>NaN</td>\n",
       "      <td>NaN</td>\n",
       "      <td>NaN</td>\n",
       "      <td>NaN</td>\n",
       "      <td>NaN</td>\n",
       "      <td>NaN</td>\n",
       "      <td>NaN</td>\n",
       "      <td>NaN</td>\n",
       "      <td>NaN</td>\n",
       "      <td>NaN</td>\n",
       "      <td>...</td>\n",
       "      <td>NaN</td>\n",
       "      <td>NaN</td>\n",
       "      <td>NaN</td>\n",
       "      <td>NaN</td>\n",
       "      <td>NaN</td>\n",
       "      <td>NaN</td>\n",
       "      <td>NaN</td>\n",
       "      <td>NaN</td>\n",
       "      <td>NaN</td>\n",
       "      <td>NaN</td>\n",
       "    </tr>\n",
       "    <tr>\n",
       "      <th>01impala</th>\n",
       "      <td>NaN</td>\n",
       "      <td>NaN</td>\n",
       "      <td>NaN</td>\n",
       "      <td>NaN</td>\n",
       "      <td>NaN</td>\n",
       "      <td>NaN</td>\n",
       "      <td>NaN</td>\n",
       "      <td>NaN</td>\n",
       "      <td>NaN</td>\n",
       "      <td>NaN</td>\n",
       "      <td>...</td>\n",
       "      <td>NaN</td>\n",
       "      <td>NaN</td>\n",
       "      <td>NaN</td>\n",
       "      <td>NaN</td>\n",
       "      <td>NaN</td>\n",
       "      <td>NaN</td>\n",
       "      <td>NaN</td>\n",
       "      <td>NaN</td>\n",
       "      <td>NaN</td>\n",
       "      <td>NaN</td>\n",
       "    </tr>\n",
       "    <tr>\n",
       "      <th>02dakota</th>\n",
       "      <td>NaN</td>\n",
       "      <td>NaN</td>\n",
       "      <td>NaN</td>\n",
       "      <td>NaN</td>\n",
       "      <td>NaN</td>\n",
       "      <td>NaN</td>\n",
       "      <td>NaN</td>\n",
       "      <td>NaN</td>\n",
       "      <td>NaN</td>\n",
       "      <td>NaN</td>\n",
       "      <td>...</td>\n",
       "      <td>NaN</td>\n",
       "      <td>NaN</td>\n",
       "      <td>NaN</td>\n",
       "      <td>NaN</td>\n",
       "      <td>NaN</td>\n",
       "      <td>NaN</td>\n",
       "      <td>NaN</td>\n",
       "      <td>NaN</td>\n",
       "      <td>NaN</td>\n",
       "      <td>NaN</td>\n",
       "    </tr>\n",
       "    <tr>\n",
       "      <th>02deuce</th>\n",
       "      <td>NaN</td>\n",
       "      <td>NaN</td>\n",
       "      <td>NaN</td>\n",
       "      <td>NaN</td>\n",
       "      <td>NaN</td>\n",
       "      <td>NaN</td>\n",
       "      <td>NaN</td>\n",
       "      <td>NaN</td>\n",
       "      <td>NaN</td>\n",
       "      <td>NaN</td>\n",
       "      <td>...</td>\n",
       "      <td>NaN</td>\n",
       "      <td>NaN</td>\n",
       "      <td>NaN</td>\n",
       "      <td>NaN</td>\n",
       "      <td>NaN</td>\n",
       "      <td>NaN</td>\n",
       "      <td>NaN</td>\n",
       "      <td>NaN</td>\n",
       "      <td>NaN</td>\n",
       "      <td>NaN</td>\n",
       "    </tr>\n",
       "    <tr>\n",
       "      <th>0325home</th>\n",
       "      <td>NaN</td>\n",
       "      <td>NaN</td>\n",
       "      <td>NaN</td>\n",
       "      <td>NaN</td>\n",
       "      <td>NaN</td>\n",
       "      <td>NaN</td>\n",
       "      <td>NaN</td>\n",
       "      <td>NaN</td>\n",
       "      <td>NaN</td>\n",
       "      <td>NaN</td>\n",
       "      <td>...</td>\n",
       "      <td>NaN</td>\n",
       "      <td>NaN</td>\n",
       "      <td>NaN</td>\n",
       "      <td>NaN</td>\n",
       "      <td>NaN</td>\n",
       "      <td>NaN</td>\n",
       "      <td>NaN</td>\n",
       "      <td>NaN</td>\n",
       "      <td>NaN</td>\n",
       "      <td>NaN</td>\n",
       "    </tr>\n",
       "  </tbody>\n",
       "</table>\n",
       "<p>5 rows × 256 columns</p>\n",
       "</div>"
      ],
      "text/plain": [
       "id                AV13O1A8GV-KLJ3akUyj  AV14LG0R-jtxr-f38QfS  \\\n",
       "reviews_username                                               \n",
       "00sab00                            NaN                   NaN   \n",
       "01impala                           NaN                   NaN   \n",
       "02dakota                           NaN                   NaN   \n",
       "02deuce                            NaN                   NaN   \n",
       "0325home                           NaN                   NaN   \n",
       "\n",
       "id                AV16khLE-jtxr-f38VFn  AV1YGDqsGV-KLJ3adc-O  \\\n",
       "reviews_username                                               \n",
       "00sab00                            NaN                   NaN   \n",
       "01impala                           NaN                   NaN   \n",
       "02dakota                           NaN                   NaN   \n",
       "02deuce                            NaN                   NaN   \n",
       "0325home                           NaN                   NaN   \n",
       "\n",
       "id                AV1YIch7GV-KLJ3addeG  AV1YlENIglJLPUi8IHsX  \\\n",
       "reviews_username                                               \n",
       "00sab00                            NaN                   NaN   \n",
       "01impala                           NaN                   NaN   \n",
       "02dakota                           NaN                   NaN   \n",
       "02deuce                            NaN                   NaN   \n",
       "0325home                           NaN                   NaN   \n",
       "\n",
       "id                AV1YmBrdGV-KLJ3adewb  AV1YmDL9vKc47QAVgr7_  \\\n",
       "reviews_username                                               \n",
       "00sab00                            NaN                   NaN   \n",
       "01impala                           NaN                   NaN   \n",
       "02dakota                           NaN                   NaN   \n",
       "02deuce                            NaN                   NaN   \n",
       "0325home                           NaN                   NaN   \n",
       "\n",
       "id                AV1Ymf_rglJLPUi8II2v  AV1Yn94nvKc47QAVgtst  ...  \\\n",
       "reviews_username                                              ...   \n",
       "00sab00                            NaN                   NaN  ...   \n",
       "01impala                           NaN                   NaN  ...   \n",
       "02dakota                           NaN                   NaN  ...   \n",
       "02deuce                            NaN                   NaN  ...   \n",
       "0325home                           NaN                   NaN  ...   \n",
       "\n",
       "id                AVpfrFDZLJeJML43Bmv0  AVpfrTyiLJeJML43BrSI  \\\n",
       "reviews_username                                               \n",
       "00sab00                            NaN                   NaN   \n",
       "01impala                           NaN                   NaN   \n",
       "02dakota                           NaN                   NaN   \n",
       "02deuce                            NaN                   NaN   \n",
       "0325home                           NaN                   NaN   \n",
       "\n",
       "id                AVpfrfHF1cnluZ0-pRai  AVpfrgjFLJeJML43BvCc  \\\n",
       "reviews_username                                               \n",
       "00sab00                            NaN                   NaN   \n",
       "01impala                           NaN                   NaN   \n",
       "02dakota                           NaN                   NaN   \n",
       "02deuce                            NaN                   NaN   \n",
       "0325home                           NaN                   NaN   \n",
       "\n",
       "id                AVpfsQoeilAPnD_xgfx5  AVpfshNsLJeJML43CB8q  \\\n",
       "reviews_username                                               \n",
       "00sab00                            NaN                   NaN   \n",
       "01impala                           NaN                   NaN   \n",
       "02dakota                           NaN                   NaN   \n",
       "02deuce                            NaN                   NaN   \n",
       "0325home                           NaN                   NaN   \n",
       "\n",
       "id                AVpfthSailAPnD_xg3ON  AVpftikC1cnluZ0-p31V  \\\n",
       "reviews_username                                               \n",
       "00sab00                            NaN                   NaN   \n",
       "01impala                           NaN                   NaN   \n",
       "02dakota                           NaN                   NaN   \n",
       "02deuce                            NaN                   NaN   \n",
       "0325home                           NaN                   NaN   \n",
       "\n",
       "id                AVpfv4TlilAPnD_xhjNS  AVpfvieo1cnluZ0-qdnu  \n",
       "reviews_username                                              \n",
       "00sab00                            NaN                   NaN  \n",
       "01impala                           NaN                   NaN  \n",
       "02dakota                           NaN                   NaN  \n",
       "02deuce                            NaN                   NaN  \n",
       "0325home                           NaN                   NaN  \n",
       "\n",
       "[5 rows x 256 columns]"
      ]
     },
     "execution_count": 125,
     "metadata": {},
     "output_type": "execute_result"
    }
   ],
   "source": [
    "df_subtracted.head()"
   ]
  },
  {
   "cell_type": "markdown",
   "id": "0a871149",
   "metadata": {},
   "source": [
    "### Finding cosine similarity"
   ]
  },
  {
   "cell_type": "code",
   "execution_count": 126,
   "id": "4a8d7f2a",
   "metadata": {},
   "outputs": [
    {
     "name": "stdout",
     "output_type": "stream",
     "text": [
      "[[1. 0. 0. ... 0. 0. 0.]\n",
      " [0. 0. 0. ... 0. 0. 0.]\n",
      " [0. 0. 0. ... 0. 0. 0.]\n",
      " ...\n",
      " [0. 0. 0. ... 0. 0. 0.]\n",
      " [0. 0. 0. ... 0. 0. 0.]\n",
      " [0. 0. 0. ... 0. 0. 0.]]\n"
     ]
    }
   ],
   "source": [
    "# Creating the User Similarity Matrix using pairwise_distance function.\n",
    "user_correlation = 1 - pairwise_distances(df_subtracted.fillna(0), metric='cosine')\n",
    "user_correlation[np.isnan(user_correlation)] = 0\n",
    "print(user_correlation)"
   ]
  },
  {
   "cell_type": "code",
   "execution_count": 127,
   "id": "5b2a99eb",
   "metadata": {},
   "outputs": [
    {
     "data": {
      "text/plain": [
       "(18275, 18275)"
      ]
     },
     "execution_count": 127,
     "metadata": {},
     "output_type": "execute_result"
    }
   ],
   "source": [
    "user_correlation.shape"
   ]
  },
  {
   "cell_type": "markdown",
   "id": "a9f511f3",
   "metadata": {},
   "source": [
    "## Prediction - User User"
   ]
  },
  {
   "cell_type": "markdown",
   "id": "ccd1d99e",
   "metadata": {},
   "source": [
    "Doing the prediction for the users which are positively related with other users, and not the users which are negatively related as we are interested in the users which are more similar to the current users. So, we will be ignoring the correlation for values less than 0."
   ]
  },
  {
   "cell_type": "code",
   "execution_count": 128,
   "id": "b7f337de",
   "metadata": {},
   "outputs": [
    {
     "data": {
      "text/plain": [
       "array([[1., 0., 0., ..., 0., 0., 0.],\n",
       "       [0., 0., 0., ..., 0., 0., 0.],\n",
       "       [0., 0., 0., ..., 0., 0., 0.],\n",
       "       ...,\n",
       "       [0., 0., 0., ..., 0., 0., 0.],\n",
       "       [0., 0., 0., ..., 0., 0., 0.],\n",
       "       [0., 0., 0., ..., 0., 0., 0.]])"
      ]
     },
     "execution_count": 128,
     "metadata": {},
     "output_type": "execute_result"
    }
   ],
   "source": [
    "user_correlation[user_correlation<0]=0\n",
    "user_correlation"
   ]
  },
  {
   "cell_type": "markdown",
   "id": "56f736ab",
   "metadata": {},
   "source": [
    "Rating predicted by the user (for products rated as well as not rated) is the weighted sum of correlation with the product rating (as present in the rating dataset)."
   ]
  },
  {
   "cell_type": "code",
   "execution_count": 129,
   "id": "7585b23b",
   "metadata": {},
   "outputs": [
    {
     "data": {
      "text/plain": [
       "array([[0.        , 0.        , 2.5       , ..., 1.46525748, 1.88982237,\n",
       "        0.20412415],\n",
       "       [0.        , 0.        , 0.        , ..., 0.        , 0.        ,\n",
       "        0.        ],\n",
       "       [0.        , 0.        , 0.        , ..., 0.        , 0.        ,\n",
       "        0.        ],\n",
       "       ...,\n",
       "       [0.        , 0.        , 0.        , ..., 0.        , 0.        ,\n",
       "        0.        ],\n",
       "       [0.        , 0.        , 0.        , ..., 0.        , 0.        ,\n",
       "        0.        ],\n",
       "       [0.        , 0.        , 0.        , ..., 0.        , 0.        ,\n",
       "        0.        ]])"
      ]
     },
     "execution_count": 129,
     "metadata": {},
     "output_type": "execute_result"
    }
   ],
   "source": [
    "user_predicted_ratings = np.dot(user_correlation, df_pivot.fillna(0))\n",
    "user_predicted_ratings"
   ]
  },
  {
   "cell_type": "code",
   "execution_count": 130,
   "id": "524d640b",
   "metadata": {},
   "outputs": [
    {
     "data": {
      "text/plain": [
       "(18275, 256)"
      ]
     },
     "execution_count": 130,
     "metadata": {},
     "output_type": "execute_result"
    }
   ],
   "source": [
    "user_predicted_ratings.shape"
   ]
  },
  {
   "cell_type": "markdown",
   "id": "c5626ee9",
   "metadata": {},
   "source": [
    "Since we are interested only in the products not rated by the user, we will ignore the products rated by the user by making it zero."
   ]
  },
  {
   "cell_type": "code",
   "execution_count": 131,
   "id": "c479fde6",
   "metadata": {},
   "outputs": [
    {
     "data": {
      "text/html": [
       "<div>\n",
       "<style scoped>\n",
       "    .dataframe tbody tr th:only-of-type {\n",
       "        vertical-align: middle;\n",
       "    }\n",
       "\n",
       "    .dataframe tbody tr th {\n",
       "        vertical-align: top;\n",
       "    }\n",
       "\n",
       "    .dataframe thead th {\n",
       "        text-align: right;\n",
       "    }\n",
       "</style>\n",
       "<table border=\"1\" class=\"dataframe\">\n",
       "  <thead>\n",
       "    <tr style=\"text-align: right;\">\n",
       "      <th>id</th>\n",
       "      <th>AV13O1A8GV-KLJ3akUyj</th>\n",
       "      <th>AV14LG0R-jtxr-f38QfS</th>\n",
       "      <th>AV16khLE-jtxr-f38VFn</th>\n",
       "      <th>AV1YGDqsGV-KLJ3adc-O</th>\n",
       "      <th>AV1YIch7GV-KLJ3addeG</th>\n",
       "      <th>AV1YlENIglJLPUi8IHsX</th>\n",
       "      <th>AV1YmBrdGV-KLJ3adewb</th>\n",
       "      <th>AV1YmDL9vKc47QAVgr7_</th>\n",
       "      <th>AV1Ymf_rglJLPUi8II2v</th>\n",
       "      <th>AV1Yn94nvKc47QAVgtst</th>\n",
       "      <th>...</th>\n",
       "      <th>AVpfrFDZLJeJML43Bmv0</th>\n",
       "      <th>AVpfrTyiLJeJML43BrSI</th>\n",
       "      <th>AVpfrfHF1cnluZ0-pRai</th>\n",
       "      <th>AVpfrgjFLJeJML43BvCc</th>\n",
       "      <th>AVpfsQoeilAPnD_xgfx5</th>\n",
       "      <th>AVpfshNsLJeJML43CB8q</th>\n",
       "      <th>AVpfthSailAPnD_xg3ON</th>\n",
       "      <th>AVpftikC1cnluZ0-p31V</th>\n",
       "      <th>AVpfv4TlilAPnD_xhjNS</th>\n",
       "      <th>AVpfvieo1cnluZ0-qdnu</th>\n",
       "    </tr>\n",
       "    <tr>\n",
       "      <th>reviews_username</th>\n",
       "      <th></th>\n",
       "      <th></th>\n",
       "      <th></th>\n",
       "      <th></th>\n",
       "      <th></th>\n",
       "      <th></th>\n",
       "      <th></th>\n",
       "      <th></th>\n",
       "      <th></th>\n",
       "      <th></th>\n",
       "      <th></th>\n",
       "      <th></th>\n",
       "      <th></th>\n",
       "      <th></th>\n",
       "      <th></th>\n",
       "      <th></th>\n",
       "      <th></th>\n",
       "      <th></th>\n",
       "      <th></th>\n",
       "      <th></th>\n",
       "      <th></th>\n",
       "    </tr>\n",
       "  </thead>\n",
       "  <tbody>\n",
       "    <tr>\n",
       "      <th>00sab00</th>\n",
       "      <td>0.0</td>\n",
       "      <td>0.0</td>\n",
       "      <td>2.5</td>\n",
       "      <td>3.596262</td>\n",
       "      <td>0.0</td>\n",
       "      <td>0.0</td>\n",
       "      <td>0.0</td>\n",
       "      <td>0.0</td>\n",
       "      <td>2.581989</td>\n",
       "      <td>1.018079</td>\n",
       "      <td>...</td>\n",
       "      <td>1.666667</td>\n",
       "      <td>0.188982</td>\n",
       "      <td>0.0</td>\n",
       "      <td>0.0</td>\n",
       "      <td>0.0</td>\n",
       "      <td>0.0</td>\n",
       "      <td>0.0</td>\n",
       "      <td>1.465257</td>\n",
       "      <td>1.889822</td>\n",
       "      <td>0.204124</td>\n",
       "    </tr>\n",
       "    <tr>\n",
       "      <th>01impala</th>\n",
       "      <td>0.0</td>\n",
       "      <td>0.0</td>\n",
       "      <td>0.0</td>\n",
       "      <td>0.000000</td>\n",
       "      <td>0.0</td>\n",
       "      <td>0.0</td>\n",
       "      <td>0.0</td>\n",
       "      <td>0.0</td>\n",
       "      <td>0.000000</td>\n",
       "      <td>0.000000</td>\n",
       "      <td>...</td>\n",
       "      <td>0.000000</td>\n",
       "      <td>0.000000</td>\n",
       "      <td>0.0</td>\n",
       "      <td>0.0</td>\n",
       "      <td>0.0</td>\n",
       "      <td>0.0</td>\n",
       "      <td>0.0</td>\n",
       "      <td>0.000000</td>\n",
       "      <td>0.000000</td>\n",
       "      <td>0.000000</td>\n",
       "    </tr>\n",
       "    <tr>\n",
       "      <th>02dakota</th>\n",
       "      <td>0.0</td>\n",
       "      <td>0.0</td>\n",
       "      <td>0.0</td>\n",
       "      <td>0.000000</td>\n",
       "      <td>0.0</td>\n",
       "      <td>0.0</td>\n",
       "      <td>0.0</td>\n",
       "      <td>0.0</td>\n",
       "      <td>0.000000</td>\n",
       "      <td>0.000000</td>\n",
       "      <td>...</td>\n",
       "      <td>0.000000</td>\n",
       "      <td>0.000000</td>\n",
       "      <td>0.0</td>\n",
       "      <td>0.0</td>\n",
       "      <td>0.0</td>\n",
       "      <td>0.0</td>\n",
       "      <td>0.0</td>\n",
       "      <td>0.000000</td>\n",
       "      <td>0.000000</td>\n",
       "      <td>0.000000</td>\n",
       "    </tr>\n",
       "    <tr>\n",
       "      <th>02deuce</th>\n",
       "      <td>0.0</td>\n",
       "      <td>0.0</td>\n",
       "      <td>0.0</td>\n",
       "      <td>0.000000</td>\n",
       "      <td>0.0</td>\n",
       "      <td>0.0</td>\n",
       "      <td>0.0</td>\n",
       "      <td>0.0</td>\n",
       "      <td>0.000000</td>\n",
       "      <td>0.000000</td>\n",
       "      <td>...</td>\n",
       "      <td>0.000000</td>\n",
       "      <td>0.000000</td>\n",
       "      <td>0.0</td>\n",
       "      <td>0.0</td>\n",
       "      <td>0.0</td>\n",
       "      <td>0.0</td>\n",
       "      <td>0.0</td>\n",
       "      <td>0.000000</td>\n",
       "      <td>0.000000</td>\n",
       "      <td>0.000000</td>\n",
       "    </tr>\n",
       "    <tr>\n",
       "      <th>0325home</th>\n",
       "      <td>0.0</td>\n",
       "      <td>0.0</td>\n",
       "      <td>0.0</td>\n",
       "      <td>0.000000</td>\n",
       "      <td>0.0</td>\n",
       "      <td>0.0</td>\n",
       "      <td>0.0</td>\n",
       "      <td>0.0</td>\n",
       "      <td>0.000000</td>\n",
       "      <td>0.000000</td>\n",
       "      <td>...</td>\n",
       "      <td>0.000000</td>\n",
       "      <td>0.000000</td>\n",
       "      <td>0.0</td>\n",
       "      <td>0.0</td>\n",
       "      <td>0.0</td>\n",
       "      <td>0.0</td>\n",
       "      <td>0.0</td>\n",
       "      <td>0.000000</td>\n",
       "      <td>0.000000</td>\n",
       "      <td>0.000000</td>\n",
       "    </tr>\n",
       "  </tbody>\n",
       "</table>\n",
       "<p>5 rows × 256 columns</p>\n",
       "</div>"
      ],
      "text/plain": [
       "id                AV13O1A8GV-KLJ3akUyj  AV14LG0R-jtxr-f38QfS  \\\n",
       "reviews_username                                               \n",
       "00sab00                            0.0                   0.0   \n",
       "01impala                           0.0                   0.0   \n",
       "02dakota                           0.0                   0.0   \n",
       "02deuce                            0.0                   0.0   \n",
       "0325home                           0.0                   0.0   \n",
       "\n",
       "id                AV16khLE-jtxr-f38VFn  AV1YGDqsGV-KLJ3adc-O  \\\n",
       "reviews_username                                               \n",
       "00sab00                            2.5              3.596262   \n",
       "01impala                           0.0              0.000000   \n",
       "02dakota                           0.0              0.000000   \n",
       "02deuce                            0.0              0.000000   \n",
       "0325home                           0.0              0.000000   \n",
       "\n",
       "id                AV1YIch7GV-KLJ3addeG  AV1YlENIglJLPUi8IHsX  \\\n",
       "reviews_username                                               \n",
       "00sab00                            0.0                   0.0   \n",
       "01impala                           0.0                   0.0   \n",
       "02dakota                           0.0                   0.0   \n",
       "02deuce                            0.0                   0.0   \n",
       "0325home                           0.0                   0.0   \n",
       "\n",
       "id                AV1YmBrdGV-KLJ3adewb  AV1YmDL9vKc47QAVgr7_  \\\n",
       "reviews_username                                               \n",
       "00sab00                            0.0                   0.0   \n",
       "01impala                           0.0                   0.0   \n",
       "02dakota                           0.0                   0.0   \n",
       "02deuce                            0.0                   0.0   \n",
       "0325home                           0.0                   0.0   \n",
       "\n",
       "id                AV1Ymf_rglJLPUi8II2v  AV1Yn94nvKc47QAVgtst  ...  \\\n",
       "reviews_username                                              ...   \n",
       "00sab00                       2.581989              1.018079  ...   \n",
       "01impala                      0.000000              0.000000  ...   \n",
       "02dakota                      0.000000              0.000000  ...   \n",
       "02deuce                       0.000000              0.000000  ...   \n",
       "0325home                      0.000000              0.000000  ...   \n",
       "\n",
       "id                AVpfrFDZLJeJML43Bmv0  AVpfrTyiLJeJML43BrSI  \\\n",
       "reviews_username                                               \n",
       "00sab00                       1.666667              0.188982   \n",
       "01impala                      0.000000              0.000000   \n",
       "02dakota                      0.000000              0.000000   \n",
       "02deuce                       0.000000              0.000000   \n",
       "0325home                      0.000000              0.000000   \n",
       "\n",
       "id                AVpfrfHF1cnluZ0-pRai  AVpfrgjFLJeJML43BvCc  \\\n",
       "reviews_username                                               \n",
       "00sab00                            0.0                   0.0   \n",
       "01impala                           0.0                   0.0   \n",
       "02dakota                           0.0                   0.0   \n",
       "02deuce                            0.0                   0.0   \n",
       "0325home                           0.0                   0.0   \n",
       "\n",
       "id                AVpfsQoeilAPnD_xgfx5  AVpfshNsLJeJML43CB8q  \\\n",
       "reviews_username                                               \n",
       "00sab00                            0.0                   0.0   \n",
       "01impala                           0.0                   0.0   \n",
       "02dakota                           0.0                   0.0   \n",
       "02deuce                            0.0                   0.0   \n",
       "0325home                           0.0                   0.0   \n",
       "\n",
       "id                AVpfthSailAPnD_xg3ON  AVpftikC1cnluZ0-p31V  \\\n",
       "reviews_username                                               \n",
       "00sab00                            0.0              1.465257   \n",
       "01impala                           0.0              0.000000   \n",
       "02dakota                           0.0              0.000000   \n",
       "02deuce                            0.0              0.000000   \n",
       "0325home                           0.0              0.000000   \n",
       "\n",
       "id                AVpfv4TlilAPnD_xhjNS  AVpfvieo1cnluZ0-qdnu  \n",
       "reviews_username                                              \n",
       "00sab00                       1.889822              0.204124  \n",
       "01impala                      0.000000              0.000000  \n",
       "02dakota                      0.000000              0.000000  \n",
       "02deuce                       0.000000              0.000000  \n",
       "0325home                      0.000000              0.000000  \n",
       "\n",
       "[5 rows x 256 columns]"
      ]
     },
     "execution_count": 131,
     "metadata": {},
     "output_type": "execute_result"
    }
   ],
   "source": [
    "user_final_rating = np.multiply(user_predicted_ratings,dummy_train)\n",
    "user_final_rating.head()"
   ]
  },
  {
   "cell_type": "markdown",
   "id": "bdffd92a",
   "metadata": {},
   "source": [
    "## Finding the Top 20 products that a user is most likely to purchase based on the ratings (user-user based recommendation)"
   ]
  },
  {
   "cell_type": "code",
   "execution_count": 132,
   "id": "a5eefd80",
   "metadata": {},
   "outputs": [],
   "source": [
    "# Take a sample username as input.\n",
    "user_input = '00sab00'"
   ]
  },
  {
   "cell_type": "code",
   "execution_count": 133,
   "id": "38ff7147",
   "metadata": {},
   "outputs": [
    {
     "data": {
      "text/html": [
       "<div>\n",
       "<style scoped>\n",
       "    .dataframe tbody tr th:only-of-type {\n",
       "        vertical-align: middle;\n",
       "    }\n",
       "\n",
       "    .dataframe tbody tr th {\n",
       "        vertical-align: top;\n",
       "    }\n",
       "\n",
       "    .dataframe thead th {\n",
       "        text-align: right;\n",
       "    }\n",
       "</style>\n",
       "<table border=\"1\" class=\"dataframe\">\n",
       "  <thead>\n",
       "    <tr style=\"text-align: right;\">\n",
       "      <th></th>\n",
       "      <th>Product Id</th>\n",
       "      <th>cosine_similarity_score</th>\n",
       "    </tr>\n",
       "  </thead>\n",
       "  <tbody>\n",
       "    <tr>\n",
       "      <th>0</th>\n",
       "      <td>AVpfPaoqLJeJML435Xk9</td>\n",
       "      <td>37.472929</td>\n",
       "    </tr>\n",
       "    <tr>\n",
       "      <th>1</th>\n",
       "      <td>AVpfRTh1ilAPnD_xYic2</td>\n",
       "      <td>29.191053</td>\n",
       "    </tr>\n",
       "    <tr>\n",
       "      <th>2</th>\n",
       "      <td>AVpf0eb2LJeJML43EVSt</td>\n",
       "      <td>14.259486</td>\n",
       "    </tr>\n",
       "    <tr>\n",
       "      <th>3</th>\n",
       "      <td>AVpf3VOfilAPnD_xjpun</td>\n",
       "      <td>12.313738</td>\n",
       "    </tr>\n",
       "    <tr>\n",
       "      <th>4</th>\n",
       "      <td>AVpf2tw1ilAPnD_xjflC</td>\n",
       "      <td>11.178377</td>\n",
       "    </tr>\n",
       "    <tr>\n",
       "      <th>5</th>\n",
       "      <td>AVpfBrUZilAPnD_xTUly</td>\n",
       "      <td>7.831663</td>\n",
       "    </tr>\n",
       "    <tr>\n",
       "      <th>6</th>\n",
       "      <td>AVpfov9TLJeJML43A7B0</td>\n",
       "      <td>6.623441</td>\n",
       "    </tr>\n",
       "    <tr>\n",
       "      <th>7</th>\n",
       "      <td>AVpf385g1cnluZ0-s0_t</td>\n",
       "      <td>6.253560</td>\n",
       "    </tr>\n",
       "    <tr>\n",
       "      <th>8</th>\n",
       "      <td>AVpfM_ytilAPnD_xXIJb</td>\n",
       "      <td>6.154565</td>\n",
       "    </tr>\n",
       "    <tr>\n",
       "      <th>9</th>\n",
       "      <td>AVpfR5m0LJeJML436K3W</td>\n",
       "      <td>5.650706</td>\n",
       "    </tr>\n",
       "    <tr>\n",
       "      <th>10</th>\n",
       "      <td>AVpfOIrkilAPnD_xXgDG</td>\n",
       "      <td>5.431250</td>\n",
       "    </tr>\n",
       "    <tr>\n",
       "      <th>11</th>\n",
       "      <td>AVpfPnrU1cnluZ0-g9rL</td>\n",
       "      <td>4.684745</td>\n",
       "    </tr>\n",
       "    <tr>\n",
       "      <th>12</th>\n",
       "      <td>AVpf0thK1cnluZ0-r8vR</td>\n",
       "      <td>3.653338</td>\n",
       "    </tr>\n",
       "    <tr>\n",
       "      <th>13</th>\n",
       "      <td>AV1YGDqsGV-KLJ3adc-O</td>\n",
       "      <td>3.596262</td>\n",
       "    </tr>\n",
       "    <tr>\n",
       "      <th>14</th>\n",
       "      <td>AVpfazX31cnluZ0-kbdl</td>\n",
       "      <td>3.347910</td>\n",
       "    </tr>\n",
       "    <tr>\n",
       "      <th>15</th>\n",
       "      <td>AVpfJP1C1cnluZ0-e3Xy</td>\n",
       "      <td>3.316497</td>\n",
       "    </tr>\n",
       "    <tr>\n",
       "      <th>16</th>\n",
       "      <td>AVpe8gsILJeJML43y6Ed</td>\n",
       "      <td>2.958040</td>\n",
       "    </tr>\n",
       "    <tr>\n",
       "      <th>17</th>\n",
       "      <td>AVpfN6Z71cnluZ0-gZmO</td>\n",
       "      <td>2.926401</td>\n",
       "    </tr>\n",
       "    <tr>\n",
       "      <th>18</th>\n",
       "      <td>AVpfMpZ51cnluZ0-f_L9</td>\n",
       "      <td>2.913289</td>\n",
       "    </tr>\n",
       "    <tr>\n",
       "      <th>19</th>\n",
       "      <td>AVpf5Z1zLJeJML43FpB-</td>\n",
       "      <td>2.886751</td>\n",
       "    </tr>\n",
       "  </tbody>\n",
       "</table>\n",
       "</div>"
      ],
      "text/plain": [
       "              Product Id  cosine_similarity_score\n",
       "0   AVpfPaoqLJeJML435Xk9                37.472929\n",
       "1   AVpfRTh1ilAPnD_xYic2                29.191053\n",
       "2   AVpf0eb2LJeJML43EVSt                14.259486\n",
       "3   AVpf3VOfilAPnD_xjpun                12.313738\n",
       "4   AVpf2tw1ilAPnD_xjflC                11.178377\n",
       "5   AVpfBrUZilAPnD_xTUly                 7.831663\n",
       "6   AVpfov9TLJeJML43A7B0                 6.623441\n",
       "7   AVpf385g1cnluZ0-s0_t                 6.253560\n",
       "8   AVpfM_ytilAPnD_xXIJb                 6.154565\n",
       "9   AVpfR5m0LJeJML436K3W                 5.650706\n",
       "10  AVpfOIrkilAPnD_xXgDG                 5.431250\n",
       "11  AVpfPnrU1cnluZ0-g9rL                 4.684745\n",
       "12  AVpf0thK1cnluZ0-r8vR                 3.653338\n",
       "13  AV1YGDqsGV-KLJ3adc-O                 3.596262\n",
       "14  AVpfazX31cnluZ0-kbdl                 3.347910\n",
       "15  AVpfJP1C1cnluZ0-e3Xy                 3.316497\n",
       "16  AVpe8gsILJeJML43y6Ed                 2.958040\n",
       "17  AVpfN6Z71cnluZ0-gZmO                 2.926401\n",
       "18  AVpfMpZ51cnluZ0-f_L9                 2.913289\n",
       "19  AVpf5Z1zLJeJML43FpB-                 2.886751"
      ]
     },
     "execution_count": 133,
     "metadata": {},
     "output_type": "execute_result"
    }
   ],
   "source": [
    "top20_recommendations = user_final_rating.loc[user_input].sort_values(ascending=False)[0:20]\n",
    "df_top20_recommendations = pd.DataFrame({'Product Id': top20_recommendations.index, 'cosine_similarity_score' : top20_recommendations})\n",
    "df_top20_recommendations.reset_index(drop=True, inplace=True)\n",
    "df_top20_recommendations"
   ]
  },
  {
   "cell_type": "code",
   "execution_count": 134,
   "id": "92616191",
   "metadata": {},
   "outputs": [
    {
     "data": {
      "text/html": [
       "<div>\n",
       "<style scoped>\n",
       "    .dataframe tbody tr th:only-of-type {\n",
       "        vertical-align: middle;\n",
       "    }\n",
       "\n",
       "    .dataframe tbody tr th {\n",
       "        vertical-align: top;\n",
       "    }\n",
       "\n",
       "    .dataframe thead th {\n",
       "        text-align: right;\n",
       "    }\n",
       "</style>\n",
       "<table border=\"1\" class=\"dataframe\">\n",
       "  <thead>\n",
       "    <tr style=\"text-align: right;\">\n",
       "      <th></th>\n",
       "      <th>Product Id</th>\n",
       "      <th>name</th>\n",
       "      <th>cosine_similarity_score</th>\n",
       "    </tr>\n",
       "  </thead>\n",
       "  <tbody>\n",
       "    <tr>\n",
       "      <th>16</th>\n",
       "      <td>AVpfPaoqLJeJML435Xk9</td>\n",
       "      <td>Godzilla 3d Includes Digital Copy Ultraviolet ...</td>\n",
       "      <td>37.472929</td>\n",
       "    </tr>\n",
       "    <tr>\n",
       "      <th>19</th>\n",
       "      <td>AVpfRTh1ilAPnD_xYic2</td>\n",
       "      <td>Planes: Fire Rescue (2 Discs) (includes Digita...</td>\n",
       "      <td>29.191053</td>\n",
       "    </tr>\n",
       "    <tr>\n",
       "      <th>2</th>\n",
       "      <td>AVpf0eb2LJeJML43EVSt</td>\n",
       "      <td>The Resident Evil Collection 5 Discs (blu-Ray)</td>\n",
       "      <td>14.259486</td>\n",
       "    </tr>\n",
       "    <tr>\n",
       "      <th>6</th>\n",
       "      <td>AVpf3VOfilAPnD_xjpun</td>\n",
       "      <td>Clorox Disinfecting Wipes Value Pack Scented 1...</td>\n",
       "      <td>12.313738</td>\n",
       "    </tr>\n",
       "    <tr>\n",
       "      <th>4</th>\n",
       "      <td>AVpf2tw1ilAPnD_xjflC</td>\n",
       "      <td>Red (special Edition) (dvdvideo)</td>\n",
       "      <td>11.178377</td>\n",
       "    </tr>\n",
       "    <tr>\n",
       "      <th>9</th>\n",
       "      <td>AVpfBrUZilAPnD_xTUly</td>\n",
       "      <td>Coty Airspun Face Powder, Translucent Extra Co...</td>\n",
       "      <td>7.831663</td>\n",
       "    </tr>\n",
       "    <tr>\n",
       "      <th>15</th>\n",
       "      <td>AVpfov9TLJeJML43A7B0</td>\n",
       "      <td>Bisquick Original Pancake And Baking Mix - 40oz</td>\n",
       "      <td>6.623441</td>\n",
       "    </tr>\n",
       "    <tr>\n",
       "      <th>5</th>\n",
       "      <td>AVpf385g1cnluZ0-s0_t</td>\n",
       "      <td>Hormel Chili, No Beans</td>\n",
       "      <td>6.253560</td>\n",
       "    </tr>\n",
       "    <tr>\n",
       "      <th>11</th>\n",
       "      <td>AVpfM_ytilAPnD_xXIJb</td>\n",
       "      <td>Tostitos Bite Size Tortilla Chips</td>\n",
       "      <td>6.154565</td>\n",
       "    </tr>\n",
       "    <tr>\n",
       "      <th>18</th>\n",
       "      <td>AVpfR5m0LJeJML436K3W</td>\n",
       "      <td>Jason Aldean - They Don't Know</td>\n",
       "      <td>5.650706</td>\n",
       "    </tr>\n",
       "    <tr>\n",
       "      <th>14</th>\n",
       "      <td>AVpfOIrkilAPnD_xXgDG</td>\n",
       "      <td>Alex Cross (dvdvideo)</td>\n",
       "      <td>5.431250</td>\n",
       "    </tr>\n",
       "    <tr>\n",
       "      <th>17</th>\n",
       "      <td>AVpfPnrU1cnluZ0-g9rL</td>\n",
       "      <td>Stargate (ws) (ultimate Edition) (director's C...</td>\n",
       "      <td>4.684745</td>\n",
       "    </tr>\n",
       "    <tr>\n",
       "      <th>3</th>\n",
       "      <td>AVpf0thK1cnluZ0-r8vR</td>\n",
       "      <td>100:Complete First Season (blu-Ray)</td>\n",
       "      <td>3.653338</td>\n",
       "    </tr>\n",
       "    <tr>\n",
       "      <th>0</th>\n",
       "      <td>AV1YGDqsGV-KLJ3adc-O</td>\n",
       "      <td>Windex Original Glass Cleaner Refill 67.6oz (2...</td>\n",
       "      <td>3.596262</td>\n",
       "    </tr>\n",
       "    <tr>\n",
       "      <th>8</th>\n",
       "      <td>AVpfazX31cnluZ0-kbdl</td>\n",
       "      <td>Just For Men Touch Of Gray Gray Hair Treatment...</td>\n",
       "      <td>3.347910</td>\n",
       "    </tr>\n",
       "    <tr>\n",
       "      <th>10</th>\n",
       "      <td>AVpfJP1C1cnluZ0-e3Xy</td>\n",
       "      <td>Clorox Disinfecting Bathroom Cleaner</td>\n",
       "      <td>3.316497</td>\n",
       "    </tr>\n",
       "    <tr>\n",
       "      <th>1</th>\n",
       "      <td>AVpe8gsILJeJML43y6Ed</td>\n",
       "      <td>Pendaflex174 Divide It Up File Folder, Multi S...</td>\n",
       "      <td>2.958040</td>\n",
       "    </tr>\n",
       "    <tr>\n",
       "      <th>13</th>\n",
       "      <td>AVpfN6Z71cnluZ0-gZmO</td>\n",
       "      <td>Caress Moisturizing Body Bar Natural Silk, 4.75oz</td>\n",
       "      <td>2.926401</td>\n",
       "    </tr>\n",
       "    <tr>\n",
       "      <th>12</th>\n",
       "      <td>AVpfMpZ51cnluZ0-f_L9</td>\n",
       "      <td>Chips Ahoy! Original Chocolate Chip - Cookies ...</td>\n",
       "      <td>2.913289</td>\n",
       "    </tr>\n",
       "    <tr>\n",
       "      <th>7</th>\n",
       "      <td>AVpf5Z1zLJeJML43FpB-</td>\n",
       "      <td>Lysol Concentrate Deodorizing Cleaner, Origina...</td>\n",
       "      <td>2.886751</td>\n",
       "    </tr>\n",
       "  </tbody>\n",
       "</table>\n",
       "</div>"
      ],
      "text/plain": [
       "              Product Id                                               name  \\\n",
       "16  AVpfPaoqLJeJML435Xk9  Godzilla 3d Includes Digital Copy Ultraviolet ...   \n",
       "19  AVpfRTh1ilAPnD_xYic2  Planes: Fire Rescue (2 Discs) (includes Digita...   \n",
       "2   AVpf0eb2LJeJML43EVSt     The Resident Evil Collection 5 Discs (blu-Ray)   \n",
       "6   AVpf3VOfilAPnD_xjpun  Clorox Disinfecting Wipes Value Pack Scented 1...   \n",
       "4   AVpf2tw1ilAPnD_xjflC                   Red (special Edition) (dvdvideo)   \n",
       "9   AVpfBrUZilAPnD_xTUly  Coty Airspun Face Powder, Translucent Extra Co...   \n",
       "15  AVpfov9TLJeJML43A7B0    Bisquick Original Pancake And Baking Mix - 40oz   \n",
       "5   AVpf385g1cnluZ0-s0_t                             Hormel Chili, No Beans   \n",
       "11  AVpfM_ytilAPnD_xXIJb                  Tostitos Bite Size Tortilla Chips   \n",
       "18  AVpfR5m0LJeJML436K3W                     Jason Aldean - They Don't Know   \n",
       "14  AVpfOIrkilAPnD_xXgDG                              Alex Cross (dvdvideo)   \n",
       "17  AVpfPnrU1cnluZ0-g9rL  Stargate (ws) (ultimate Edition) (director's C...   \n",
       "3   AVpf0thK1cnluZ0-r8vR                100:Complete First Season (blu-Ray)   \n",
       "0   AV1YGDqsGV-KLJ3adc-O  Windex Original Glass Cleaner Refill 67.6oz (2...   \n",
       "8   AVpfazX31cnluZ0-kbdl  Just For Men Touch Of Gray Gray Hair Treatment...   \n",
       "10  AVpfJP1C1cnluZ0-e3Xy               Clorox Disinfecting Bathroom Cleaner   \n",
       "1   AVpe8gsILJeJML43y6Ed  Pendaflex174 Divide It Up File Folder, Multi S...   \n",
       "13  AVpfN6Z71cnluZ0-gZmO  Caress Moisturizing Body Bar Natural Silk, 4.75oz   \n",
       "12  AVpfMpZ51cnluZ0-f_L9  Chips Ahoy! Original Chocolate Chip - Cookies ...   \n",
       "7   AVpf5Z1zLJeJML43FpB-  Lysol Concentrate Deodorizing Cleaner, Origina...   \n",
       "\n",
       "    cosine_similarity_score  \n",
       "16                37.472929  \n",
       "19                29.191053  \n",
       "2                 14.259486  \n",
       "6                 12.313738  \n",
       "4                 11.178377  \n",
       "9                  7.831663  \n",
       "15                 6.623441  \n",
       "5                  6.253560  \n",
       "11                 6.154565  \n",
       "18                 5.650706  \n",
       "14                 5.431250  \n",
       "17                 4.684745  \n",
       "3                  3.653338  \n",
       "0                  3.596262  \n",
       "8                  3.347910  \n",
       "10                 3.316497  \n",
       "1                  2.958040  \n",
       "13                 2.926401  \n",
       "12                 2.913289  \n",
       "7                  2.886751  "
      ]
     },
     "execution_count": 134,
     "metadata": {},
     "output_type": "execute_result"
    }
   ],
   "source": [
    "top20_rec = pd.merge(df_recom, df_top20_recommendations,left_on='id',right_on='Product Id', how = 'inner')[['Product Id', 'name', 'cosine_similarity_score']].drop_duplicates()\n",
    "top20_rec.reset_index(drop=True, inplace=True)\n",
    "top20_rec.sort_values(by='cosine_similarity_score', ascending=False)"
   ]
  },
  {
   "cell_type": "markdown",
   "id": "9d586abf",
   "metadata": {},
   "source": [
    "## Evaluation - User User"
   ]
  },
  {
   "cell_type": "markdown",
   "id": "82ca0ecd",
   "metadata": {},
   "source": [
    "Evaluation will we same as you have seen above for the prediction. The only difference being, you will evaluate for the product already rated by the user insead of predicting it for the product not rated by the user."
   ]
  },
  {
   "cell_type": "code",
   "execution_count": 135,
   "id": "113bbc15",
   "metadata": {},
   "outputs": [
    {
     "data": {
      "text/html": [
       "<div>\n",
       "<style scoped>\n",
       "    .dataframe tbody tr th:only-of-type {\n",
       "        vertical-align: middle;\n",
       "    }\n",
       "\n",
       "    .dataframe tbody tr th {\n",
       "        vertical-align: top;\n",
       "    }\n",
       "\n",
       "    .dataframe thead th {\n",
       "        text-align: right;\n",
       "    }\n",
       "</style>\n",
       "<table border=\"1\" class=\"dataframe\">\n",
       "  <thead>\n",
       "    <tr style=\"text-align: right;\">\n",
       "      <th></th>\n",
       "      <th>id</th>\n",
       "      <th>name</th>\n",
       "      <th>reviews_rating</th>\n",
       "      <th>reviews_username</th>\n",
       "    </tr>\n",
       "  </thead>\n",
       "  <tbody>\n",
       "    <tr>\n",
       "      <th>962</th>\n",
       "      <td>AV1YGDqsGV-KLJ3adc-O</td>\n",
       "      <td>Windex Original Glass Cleaner Refill 67.6oz (2...</td>\n",
       "      <td>5</td>\n",
       "      <td>brittney w</td>\n",
       "    </tr>\n",
       "    <tr>\n",
       "      <th>10463</th>\n",
       "      <td>AVpf3VOfilAPnD_xjpun</td>\n",
       "      <td>Clorox Disinfecting Wipes Value Pack Scented 1...</td>\n",
       "      <td>5</td>\n",
       "      <td>cjshrad</td>\n",
       "    </tr>\n",
       "  </tbody>\n",
       "</table>\n",
       "</div>"
      ],
      "text/plain": [
       "                         id  \\\n",
       "962    AV1YGDqsGV-KLJ3adc-O   \n",
       "10463  AVpf3VOfilAPnD_xjpun   \n",
       "\n",
       "                                                    name  reviews_rating  \\\n",
       "962    Windex Original Glass Cleaner Refill 67.6oz (2...               5   \n",
       "10463  Clorox Disinfecting Wipes Value Pack Scented 1...               5   \n",
       "\n",
       "      reviews_username  \n",
       "962         brittney w  \n",
       "10463          cjshrad  "
      ]
     },
     "execution_count": 135,
     "metadata": {},
     "output_type": "execute_result"
    }
   ],
   "source": [
    "train.head(2)"
   ]
  },
  {
   "cell_type": "code",
   "execution_count": 136,
   "id": "a770cda9",
   "metadata": {},
   "outputs": [
    {
     "data": {
      "text/plain": [
       "(2051, 4)"
      ]
     },
     "execution_count": 136,
     "metadata": {},
     "output_type": "execute_result"
    }
   ],
   "source": [
    "# Find out the common users of test and train dataset.\n",
    "common = test[test.reviews_username.isin(train.reviews_username)]\n",
    "common.shape"
   ]
  },
  {
   "cell_type": "code",
   "execution_count": 137,
   "id": "5e5a8842",
   "metadata": {},
   "outputs": [
    {
     "data": {
      "text/html": [
       "<div>\n",
       "<style scoped>\n",
       "    .dataframe tbody tr th:only-of-type {\n",
       "        vertical-align: middle;\n",
       "    }\n",
       "\n",
       "    .dataframe tbody tr th {\n",
       "        vertical-align: top;\n",
       "    }\n",
       "\n",
       "    .dataframe thead th {\n",
       "        text-align: right;\n",
       "    }\n",
       "</style>\n",
       "<table border=\"1\" class=\"dataframe\">\n",
       "  <thead>\n",
       "    <tr style=\"text-align: right;\">\n",
       "      <th></th>\n",
       "      <th>id</th>\n",
       "      <th>name</th>\n",
       "      <th>reviews_rating</th>\n",
       "      <th>reviews_username</th>\n",
       "    </tr>\n",
       "  </thead>\n",
       "  <tbody>\n",
       "    <tr>\n",
       "      <th>12875</th>\n",
       "      <td>AVpf3VOfilAPnD_xjpun</td>\n",
       "      <td>Clorox Disinfecting Wipes Value Pack Scented 1...</td>\n",
       "      <td>5</td>\n",
       "      <td>jessica</td>\n",
       "    </tr>\n",
       "    <tr>\n",
       "      <th>21657</th>\n",
       "      <td>AVpfm8yiLJeJML43AYyu</td>\n",
       "      <td>Nexxus Exxtra Gel Style Creation Sculptor</td>\n",
       "      <td>1</td>\n",
       "      <td>romance318</td>\n",
       "    </tr>\n",
       "  </tbody>\n",
       "</table>\n",
       "</div>"
      ],
      "text/plain": [
       "                         id  \\\n",
       "12875  AVpf3VOfilAPnD_xjpun   \n",
       "21657  AVpfm8yiLJeJML43AYyu   \n",
       "\n",
       "                                                    name  reviews_rating  \\\n",
       "12875  Clorox Disinfecting Wipes Value Pack Scented 1...               5   \n",
       "21657          Nexxus Exxtra Gel Style Creation Sculptor               1   \n",
       "\n",
       "      reviews_username  \n",
       "12875          jessica  \n",
       "21657       romance318  "
      ]
     },
     "execution_count": 137,
     "metadata": {},
     "output_type": "execute_result"
    }
   ],
   "source": [
    "common.head(2)"
   ]
  },
  {
   "cell_type": "code",
   "execution_count": 138,
   "id": "e852caa2",
   "metadata": {},
   "outputs": [
    {
     "data": {
      "text/html": [
       "<div>\n",
       "<style scoped>\n",
       "    .dataframe tbody tr th:only-of-type {\n",
       "        vertical-align: middle;\n",
       "    }\n",
       "\n",
       "    .dataframe tbody tr th {\n",
       "        vertical-align: top;\n",
       "    }\n",
       "\n",
       "    .dataframe thead th {\n",
       "        text-align: right;\n",
       "    }\n",
       "</style>\n",
       "<table border=\"1\" class=\"dataframe\">\n",
       "  <thead>\n",
       "    <tr style=\"text-align: right;\">\n",
       "      <th>id</th>\n",
       "      <th>AV16khLE-jtxr-f38VFn</th>\n",
       "      <th>AV1YGDqsGV-KLJ3adc-O</th>\n",
       "      <th>AV1YlENIglJLPUi8IHsX</th>\n",
       "      <th>AV1YmDL9vKc47QAVgr7_</th>\n",
       "      <th>AV1Ymf_rglJLPUi8II2v</th>\n",
       "      <th>AV1Yn94nvKc47QAVgtst</th>\n",
       "      <th>AV1YneDPglJLPUi8IJyQ</th>\n",
       "      <th>AV1Ys0kTvKc47QAVgx1C</th>\n",
       "      <th>AV1YtGjdglJLPUi8IOfJ</th>\n",
       "      <th>AV1ZT7GLglJLPUi8IQLI</th>\n",
       "      <th>...</th>\n",
       "      <th>AVpfov9TLJeJML43A7B0</th>\n",
       "      <th>AVpfpM2yilAPnD_xfmDG</th>\n",
       "      <th>AVpfr5cb1cnluZ0-pZFp</th>\n",
       "      <th>AVpfrFDZLJeJML43Bmv0</th>\n",
       "      <th>AVpfrTyiLJeJML43BrSI</th>\n",
       "      <th>AVpfrgjFLJeJML43BvCc</th>\n",
       "      <th>AVpfs0tUilAPnD_xgqN2</th>\n",
       "      <th>AVpfthSailAPnD_xg3ON</th>\n",
       "      <th>AVpftikC1cnluZ0-p31V</th>\n",
       "      <th>AVpfv4TlilAPnD_xhjNS</th>\n",
       "    </tr>\n",
       "    <tr>\n",
       "      <th>reviews_username</th>\n",
       "      <th></th>\n",
       "      <th></th>\n",
       "      <th></th>\n",
       "      <th></th>\n",
       "      <th></th>\n",
       "      <th></th>\n",
       "      <th></th>\n",
       "      <th></th>\n",
       "      <th></th>\n",
       "      <th></th>\n",
       "      <th></th>\n",
       "      <th></th>\n",
       "      <th></th>\n",
       "      <th></th>\n",
       "      <th></th>\n",
       "      <th></th>\n",
       "      <th></th>\n",
       "      <th></th>\n",
       "      <th></th>\n",
       "      <th></th>\n",
       "      <th></th>\n",
       "    </tr>\n",
       "  </thead>\n",
       "  <tbody>\n",
       "    <tr>\n",
       "      <th>1234</th>\n",
       "      <td>NaN</td>\n",
       "      <td>NaN</td>\n",
       "      <td>NaN</td>\n",
       "      <td>NaN</td>\n",
       "      <td>NaN</td>\n",
       "      <td>NaN</td>\n",
       "      <td>NaN</td>\n",
       "      <td>NaN</td>\n",
       "      <td>NaN</td>\n",
       "      <td>NaN</td>\n",
       "      <td>...</td>\n",
       "      <td>NaN</td>\n",
       "      <td>NaN</td>\n",
       "      <td>NaN</td>\n",
       "      <td>NaN</td>\n",
       "      <td>NaN</td>\n",
       "      <td>NaN</td>\n",
       "      <td>NaN</td>\n",
       "      <td>NaN</td>\n",
       "      <td>NaN</td>\n",
       "      <td>NaN</td>\n",
       "    </tr>\n",
       "    <tr>\n",
       "      <th>1234567</th>\n",
       "      <td>NaN</td>\n",
       "      <td>NaN</td>\n",
       "      <td>NaN</td>\n",
       "      <td>NaN</td>\n",
       "      <td>NaN</td>\n",
       "      <td>NaN</td>\n",
       "      <td>NaN</td>\n",
       "      <td>NaN</td>\n",
       "      <td>NaN</td>\n",
       "      <td>NaN</td>\n",
       "      <td>...</td>\n",
       "      <td>NaN</td>\n",
       "      <td>NaN</td>\n",
       "      <td>NaN</td>\n",
       "      <td>NaN</td>\n",
       "      <td>NaN</td>\n",
       "      <td>NaN</td>\n",
       "      <td>NaN</td>\n",
       "      <td>NaN</td>\n",
       "      <td>NaN</td>\n",
       "      <td>NaN</td>\n",
       "    </tr>\n",
       "  </tbody>\n",
       "</table>\n",
       "<p>2 rows × 140 columns</p>\n",
       "</div>"
      ],
      "text/plain": [
       "id                AV16khLE-jtxr-f38VFn  AV1YGDqsGV-KLJ3adc-O  \\\n",
       "reviews_username                                               \n",
       "1234                               NaN                   NaN   \n",
       "1234567                            NaN                   NaN   \n",
       "\n",
       "id                AV1YlENIglJLPUi8IHsX  AV1YmDL9vKc47QAVgr7_  \\\n",
       "reviews_username                                               \n",
       "1234                               NaN                   NaN   \n",
       "1234567                            NaN                   NaN   \n",
       "\n",
       "id                AV1Ymf_rglJLPUi8II2v  AV1Yn94nvKc47QAVgtst  \\\n",
       "reviews_username                                               \n",
       "1234                               NaN                   NaN   \n",
       "1234567                            NaN                   NaN   \n",
       "\n",
       "id                AV1YneDPglJLPUi8IJyQ  AV1Ys0kTvKc47QAVgx1C  \\\n",
       "reviews_username                                               \n",
       "1234                               NaN                   NaN   \n",
       "1234567                            NaN                   NaN   \n",
       "\n",
       "id                AV1YtGjdglJLPUi8IOfJ  AV1ZT7GLglJLPUi8IQLI  ...  \\\n",
       "reviews_username                                              ...   \n",
       "1234                               NaN                   NaN  ...   \n",
       "1234567                            NaN                   NaN  ...   \n",
       "\n",
       "id                AVpfov9TLJeJML43A7B0  AVpfpM2yilAPnD_xfmDG  \\\n",
       "reviews_username                                               \n",
       "1234                               NaN                   NaN   \n",
       "1234567                            NaN                   NaN   \n",
       "\n",
       "id                AVpfr5cb1cnluZ0-pZFp  AVpfrFDZLJeJML43Bmv0  \\\n",
       "reviews_username                                               \n",
       "1234                               NaN                   NaN   \n",
       "1234567                            NaN                   NaN   \n",
       "\n",
       "id                AVpfrTyiLJeJML43BrSI  AVpfrgjFLJeJML43BvCc  \\\n",
       "reviews_username                                               \n",
       "1234                               NaN                   NaN   \n",
       "1234567                            NaN                   NaN   \n",
       "\n",
       "id                AVpfs0tUilAPnD_xgqN2  AVpfthSailAPnD_xg3ON  \\\n",
       "reviews_username                                               \n",
       "1234                               NaN                   NaN   \n",
       "1234567                            NaN                   NaN   \n",
       "\n",
       "id                AVpftikC1cnluZ0-p31V  AVpfv4TlilAPnD_xhjNS  \n",
       "reviews_username                                              \n",
       "1234                               NaN                   NaN  \n",
       "1234567                            NaN                   NaN  \n",
       "\n",
       "[2 rows x 140 columns]"
      ]
     },
     "execution_count": 138,
     "metadata": {},
     "output_type": "execute_result"
    }
   ],
   "source": [
    "# convert into the user-product matrix.\n",
    "common_user_based_matrix = common.pivot_table(index='reviews_username', columns='id', values='reviews_rating')\n",
    "common_user_based_matrix.head(2)"
   ]
  },
  {
   "cell_type": "code",
   "execution_count": 139,
   "id": "7c7d6cec",
   "metadata": {},
   "outputs": [],
   "source": [
    "# Convert the user_correlation matrix into dataframe.\n",
    "user_correlation_df = pd.DataFrame(user_correlation)"
   ]
  },
  {
   "cell_type": "code",
   "execution_count": 140,
   "id": "4fbc00b6",
   "metadata": {},
   "outputs": [
    {
     "data": {
      "text/html": [
       "<div>\n",
       "<style scoped>\n",
       "    .dataframe tbody tr th:only-of-type {\n",
       "        vertical-align: middle;\n",
       "    }\n",
       "\n",
       "    .dataframe tbody tr th {\n",
       "        vertical-align: top;\n",
       "    }\n",
       "\n",
       "    .dataframe thead th {\n",
       "        text-align: right;\n",
       "    }\n",
       "</style>\n",
       "<table border=\"1\" class=\"dataframe\">\n",
       "  <thead>\n",
       "    <tr style=\"text-align: right;\">\n",
       "      <th></th>\n",
       "      <th>0</th>\n",
       "      <th>1</th>\n",
       "      <th>2</th>\n",
       "      <th>3</th>\n",
       "      <th>4</th>\n",
       "      <th>5</th>\n",
       "      <th>6</th>\n",
       "      <th>7</th>\n",
       "      <th>8</th>\n",
       "      <th>9</th>\n",
       "      <th>...</th>\n",
       "      <th>18265</th>\n",
       "      <th>18266</th>\n",
       "      <th>18267</th>\n",
       "      <th>18268</th>\n",
       "      <th>18269</th>\n",
       "      <th>18270</th>\n",
       "      <th>18271</th>\n",
       "      <th>18272</th>\n",
       "      <th>18273</th>\n",
       "      <th>18274</th>\n",
       "    </tr>\n",
       "  </thead>\n",
       "  <tbody>\n",
       "    <tr>\n",
       "      <th>0</th>\n",
       "      <td>1.0</td>\n",
       "      <td>0.0</td>\n",
       "      <td>0.0</td>\n",
       "      <td>0.0</td>\n",
       "      <td>0.0</td>\n",
       "      <td>0.0</td>\n",
       "      <td>0.0</td>\n",
       "      <td>0.0</td>\n",
       "      <td>0.0</td>\n",
       "      <td>0.0</td>\n",
       "      <td>...</td>\n",
       "      <td>0.0</td>\n",
       "      <td>0.0</td>\n",
       "      <td>0.0</td>\n",
       "      <td>0.0</td>\n",
       "      <td>0.0</td>\n",
       "      <td>0.0</td>\n",
       "      <td>0.0</td>\n",
       "      <td>0.0</td>\n",
       "      <td>0.0</td>\n",
       "      <td>0.0</td>\n",
       "    </tr>\n",
       "    <tr>\n",
       "      <th>1</th>\n",
       "      <td>0.0</td>\n",
       "      <td>0.0</td>\n",
       "      <td>0.0</td>\n",
       "      <td>0.0</td>\n",
       "      <td>0.0</td>\n",
       "      <td>0.0</td>\n",
       "      <td>0.0</td>\n",
       "      <td>0.0</td>\n",
       "      <td>0.0</td>\n",
       "      <td>0.0</td>\n",
       "      <td>...</td>\n",
       "      <td>0.0</td>\n",
       "      <td>0.0</td>\n",
       "      <td>0.0</td>\n",
       "      <td>0.0</td>\n",
       "      <td>0.0</td>\n",
       "      <td>0.0</td>\n",
       "      <td>0.0</td>\n",
       "      <td>0.0</td>\n",
       "      <td>0.0</td>\n",
       "      <td>0.0</td>\n",
       "    </tr>\n",
       "  </tbody>\n",
       "</table>\n",
       "<p>2 rows × 18275 columns</p>\n",
       "</div>"
      ],
      "text/plain": [
       "   0      1      2      3      4      5      6      7      8      9      ...  \\\n",
       "0    1.0    0.0    0.0    0.0    0.0    0.0    0.0    0.0    0.0    0.0  ...   \n",
       "1    0.0    0.0    0.0    0.0    0.0    0.0    0.0    0.0    0.0    0.0  ...   \n",
       "\n",
       "   18265  18266  18267  18268  18269  18270  18271  18272  18273  18274  \n",
       "0    0.0    0.0    0.0    0.0    0.0    0.0    0.0    0.0    0.0    0.0  \n",
       "1    0.0    0.0    0.0    0.0    0.0    0.0    0.0    0.0    0.0    0.0  \n",
       "\n",
       "[2 rows x 18275 columns]"
      ]
     },
     "execution_count": 140,
     "metadata": {},
     "output_type": "execute_result"
    }
   ],
   "source": [
    "user_correlation_df.head(2)"
   ]
  },
  {
   "cell_type": "code",
   "execution_count": 141,
   "id": "8d186ee6",
   "metadata": {},
   "outputs": [
    {
     "data": {
      "text/html": [
       "<div>\n",
       "<style scoped>\n",
       "    .dataframe tbody tr th:only-of-type {\n",
       "        vertical-align: middle;\n",
       "    }\n",
       "\n",
       "    .dataframe tbody tr th {\n",
       "        vertical-align: top;\n",
       "    }\n",
       "\n",
       "    .dataframe thead th {\n",
       "        text-align: right;\n",
       "    }\n",
       "</style>\n",
       "<table border=\"1\" class=\"dataframe\">\n",
       "  <thead>\n",
       "    <tr style=\"text-align: right;\">\n",
       "      <th>id</th>\n",
       "      <th>AV13O1A8GV-KLJ3akUyj</th>\n",
       "      <th>AV14LG0R-jtxr-f38QfS</th>\n",
       "      <th>AV16khLE-jtxr-f38VFn</th>\n",
       "      <th>AV1YGDqsGV-KLJ3adc-O</th>\n",
       "      <th>AV1YIch7GV-KLJ3addeG</th>\n",
       "      <th>AV1YlENIglJLPUi8IHsX</th>\n",
       "      <th>AV1YmBrdGV-KLJ3adewb</th>\n",
       "      <th>AV1YmDL9vKc47QAVgr7_</th>\n",
       "      <th>AV1Ymf_rglJLPUi8II2v</th>\n",
       "      <th>AV1Yn94nvKc47QAVgtst</th>\n",
       "      <th>...</th>\n",
       "      <th>AVpfrFDZLJeJML43Bmv0</th>\n",
       "      <th>AVpfrTyiLJeJML43BrSI</th>\n",
       "      <th>AVpfrfHF1cnluZ0-pRai</th>\n",
       "      <th>AVpfrgjFLJeJML43BvCc</th>\n",
       "      <th>AVpfsQoeilAPnD_xgfx5</th>\n",
       "      <th>AVpfshNsLJeJML43CB8q</th>\n",
       "      <th>AVpfthSailAPnD_xg3ON</th>\n",
       "      <th>AVpftikC1cnluZ0-p31V</th>\n",
       "      <th>AVpfv4TlilAPnD_xhjNS</th>\n",
       "      <th>AVpfvieo1cnluZ0-qdnu</th>\n",
       "    </tr>\n",
       "    <tr>\n",
       "      <th>reviews_username</th>\n",
       "      <th></th>\n",
       "      <th></th>\n",
       "      <th></th>\n",
       "      <th></th>\n",
       "      <th></th>\n",
       "      <th></th>\n",
       "      <th></th>\n",
       "      <th></th>\n",
       "      <th></th>\n",
       "      <th></th>\n",
       "      <th></th>\n",
       "      <th></th>\n",
       "      <th></th>\n",
       "      <th></th>\n",
       "      <th></th>\n",
       "      <th></th>\n",
       "      <th></th>\n",
       "      <th></th>\n",
       "      <th></th>\n",
       "      <th></th>\n",
       "      <th></th>\n",
       "    </tr>\n",
       "  </thead>\n",
       "  <tbody>\n",
       "    <tr>\n",
       "      <th>00sab00</th>\n",
       "      <td>NaN</td>\n",
       "      <td>NaN</td>\n",
       "      <td>NaN</td>\n",
       "      <td>NaN</td>\n",
       "      <td>NaN</td>\n",
       "      <td>NaN</td>\n",
       "      <td>NaN</td>\n",
       "      <td>NaN</td>\n",
       "      <td>NaN</td>\n",
       "      <td>NaN</td>\n",
       "      <td>...</td>\n",
       "      <td>NaN</td>\n",
       "      <td>NaN</td>\n",
       "      <td>NaN</td>\n",
       "      <td>NaN</td>\n",
       "      <td>NaN</td>\n",
       "      <td>NaN</td>\n",
       "      <td>NaN</td>\n",
       "      <td>NaN</td>\n",
       "      <td>NaN</td>\n",
       "      <td>NaN</td>\n",
       "    </tr>\n",
       "  </tbody>\n",
       "</table>\n",
       "<p>1 rows × 256 columns</p>\n",
       "</div>"
      ],
      "text/plain": [
       "id                AV13O1A8GV-KLJ3akUyj  AV14LG0R-jtxr-f38QfS  \\\n",
       "reviews_username                                               \n",
       "00sab00                            NaN                   NaN   \n",
       "\n",
       "id                AV16khLE-jtxr-f38VFn  AV1YGDqsGV-KLJ3adc-O  \\\n",
       "reviews_username                                               \n",
       "00sab00                            NaN                   NaN   \n",
       "\n",
       "id                AV1YIch7GV-KLJ3addeG  AV1YlENIglJLPUi8IHsX  \\\n",
       "reviews_username                                               \n",
       "00sab00                            NaN                   NaN   \n",
       "\n",
       "id                AV1YmBrdGV-KLJ3adewb  AV1YmDL9vKc47QAVgr7_  \\\n",
       "reviews_username                                               \n",
       "00sab00                            NaN                   NaN   \n",
       "\n",
       "id                AV1Ymf_rglJLPUi8II2v  AV1Yn94nvKc47QAVgtst  ...  \\\n",
       "reviews_username                                              ...   \n",
       "00sab00                            NaN                   NaN  ...   \n",
       "\n",
       "id                AVpfrFDZLJeJML43Bmv0  AVpfrTyiLJeJML43BrSI  \\\n",
       "reviews_username                                               \n",
       "00sab00                            NaN                   NaN   \n",
       "\n",
       "id                AVpfrfHF1cnluZ0-pRai  AVpfrgjFLJeJML43BvCc  \\\n",
       "reviews_username                                               \n",
       "00sab00                            NaN                   NaN   \n",
       "\n",
       "id                AVpfsQoeilAPnD_xgfx5  AVpfshNsLJeJML43CB8q  \\\n",
       "reviews_username                                               \n",
       "00sab00                            NaN                   NaN   \n",
       "\n",
       "id                AVpfthSailAPnD_xg3ON  AVpftikC1cnluZ0-p31V  \\\n",
       "reviews_username                                               \n",
       "00sab00                            NaN                   NaN   \n",
       "\n",
       "id                AVpfv4TlilAPnD_xhjNS  AVpfvieo1cnluZ0-qdnu  \n",
       "reviews_username                                              \n",
       "00sab00                            NaN                   NaN  \n",
       "\n",
       "[1 rows x 256 columns]"
      ]
     },
     "execution_count": 141,
     "metadata": {},
     "output_type": "execute_result"
    }
   ],
   "source": [
    "df_subtracted.head(1)"
   ]
  },
  {
   "cell_type": "code",
   "execution_count": 142,
   "id": "85482503",
   "metadata": {},
   "outputs": [
    {
     "data": {
      "text/html": [
       "<div>\n",
       "<style scoped>\n",
       "    .dataframe tbody tr th:only-of-type {\n",
       "        vertical-align: middle;\n",
       "    }\n",
       "\n",
       "    .dataframe tbody tr th {\n",
       "        vertical-align: top;\n",
       "    }\n",
       "\n",
       "    .dataframe thead th {\n",
       "        text-align: right;\n",
       "    }\n",
       "</style>\n",
       "<table border=\"1\" class=\"dataframe\">\n",
       "  <thead>\n",
       "    <tr style=\"text-align: right;\">\n",
       "      <th></th>\n",
       "      <th>0</th>\n",
       "      <th>1</th>\n",
       "      <th>2</th>\n",
       "      <th>3</th>\n",
       "      <th>4</th>\n",
       "      <th>5</th>\n",
       "      <th>6</th>\n",
       "      <th>7</th>\n",
       "      <th>8</th>\n",
       "      <th>9</th>\n",
       "      <th>...</th>\n",
       "      <th>18265</th>\n",
       "      <th>18266</th>\n",
       "      <th>18267</th>\n",
       "      <th>18268</th>\n",
       "      <th>18269</th>\n",
       "      <th>18270</th>\n",
       "      <th>18271</th>\n",
       "      <th>18272</th>\n",
       "      <th>18273</th>\n",
       "      <th>18274</th>\n",
       "    </tr>\n",
       "    <tr>\n",
       "      <th>userId</th>\n",
       "      <th></th>\n",
       "      <th></th>\n",
       "      <th></th>\n",
       "      <th></th>\n",
       "      <th></th>\n",
       "      <th></th>\n",
       "      <th></th>\n",
       "      <th></th>\n",
       "      <th></th>\n",
       "      <th></th>\n",
       "      <th></th>\n",
       "      <th></th>\n",
       "      <th></th>\n",
       "      <th></th>\n",
       "      <th></th>\n",
       "      <th></th>\n",
       "      <th></th>\n",
       "      <th></th>\n",
       "      <th></th>\n",
       "      <th></th>\n",
       "      <th></th>\n",
       "    </tr>\n",
       "  </thead>\n",
       "  <tbody>\n",
       "    <tr>\n",
       "      <th>00sab00</th>\n",
       "      <td>1.0</td>\n",
       "      <td>0.0</td>\n",
       "      <td>0.0</td>\n",
       "      <td>0.0</td>\n",
       "      <td>0.0</td>\n",
       "      <td>0.0</td>\n",
       "      <td>0.0</td>\n",
       "      <td>0.0</td>\n",
       "      <td>0.0</td>\n",
       "      <td>0.0</td>\n",
       "      <td>...</td>\n",
       "      <td>0.0</td>\n",
       "      <td>0.0</td>\n",
       "      <td>0.0</td>\n",
       "      <td>0.0</td>\n",
       "      <td>0.0</td>\n",
       "      <td>0.0</td>\n",
       "      <td>0.0</td>\n",
       "      <td>0.0</td>\n",
       "      <td>0.0</td>\n",
       "      <td>0.0</td>\n",
       "    </tr>\n",
       "    <tr>\n",
       "      <th>01impala</th>\n",
       "      <td>0.0</td>\n",
       "      <td>0.0</td>\n",
       "      <td>0.0</td>\n",
       "      <td>0.0</td>\n",
       "      <td>0.0</td>\n",
       "      <td>0.0</td>\n",
       "      <td>0.0</td>\n",
       "      <td>0.0</td>\n",
       "      <td>0.0</td>\n",
       "      <td>0.0</td>\n",
       "      <td>...</td>\n",
       "      <td>0.0</td>\n",
       "      <td>0.0</td>\n",
       "      <td>0.0</td>\n",
       "      <td>0.0</td>\n",
       "      <td>0.0</td>\n",
       "      <td>0.0</td>\n",
       "      <td>0.0</td>\n",
       "      <td>0.0</td>\n",
       "      <td>0.0</td>\n",
       "      <td>0.0</td>\n",
       "    </tr>\n",
       "  </tbody>\n",
       "</table>\n",
       "<p>2 rows × 18275 columns</p>\n",
       "</div>"
      ],
      "text/plain": [
       "          0      1      2      3      4      5      6      7      8      \\\n",
       "userId                                                                    \n",
       "00sab00     1.0    0.0    0.0    0.0    0.0    0.0    0.0    0.0    0.0   \n",
       "01impala    0.0    0.0    0.0    0.0    0.0    0.0    0.0    0.0    0.0   \n",
       "\n",
       "          9      ...  18265  18266  18267  18268  18269  18270  18271  18272  \\\n",
       "userId           ...                                                           \n",
       "00sab00     0.0  ...    0.0    0.0    0.0    0.0    0.0    0.0    0.0    0.0   \n",
       "01impala    0.0  ...    0.0    0.0    0.0    0.0    0.0    0.0    0.0    0.0   \n",
       "\n",
       "          18273  18274  \n",
       "userId                  \n",
       "00sab00     0.0    0.0  \n",
       "01impala    0.0    0.0  \n",
       "\n",
       "[2 rows x 18275 columns]"
      ]
     },
     "execution_count": 142,
     "metadata": {},
     "output_type": "execute_result"
    }
   ],
   "source": [
    "user_correlation_df['userId'] = df_subtracted.index\n",
    "user_correlation_df.set_index('userId',inplace=True)\n",
    "user_correlation_df.head(2)"
   ]
  },
  {
   "cell_type": "code",
   "execution_count": 143,
   "id": "e5d8f911",
   "metadata": {},
   "outputs": [
    {
     "data": {
      "text/html": [
       "<div>\n",
       "<style scoped>\n",
       "    .dataframe tbody tr th:only-of-type {\n",
       "        vertical-align: middle;\n",
       "    }\n",
       "\n",
       "    .dataframe tbody tr th {\n",
       "        vertical-align: top;\n",
       "    }\n",
       "\n",
       "    .dataframe thead th {\n",
       "        text-align: right;\n",
       "    }\n",
       "</style>\n",
       "<table border=\"1\" class=\"dataframe\">\n",
       "  <thead>\n",
       "    <tr style=\"text-align: right;\">\n",
       "      <th></th>\n",
       "      <th>id</th>\n",
       "      <th>name</th>\n",
       "      <th>reviews_rating</th>\n",
       "      <th>reviews_username</th>\n",
       "    </tr>\n",
       "  </thead>\n",
       "  <tbody>\n",
       "    <tr>\n",
       "      <th>12875</th>\n",
       "      <td>AVpf3VOfilAPnD_xjpun</td>\n",
       "      <td>Clorox Disinfecting Wipes Value Pack Scented 1...</td>\n",
       "      <td>5</td>\n",
       "      <td>jessica</td>\n",
       "    </tr>\n",
       "  </tbody>\n",
       "</table>\n",
       "</div>"
      ],
      "text/plain": [
       "                         id  \\\n",
       "12875  AVpf3VOfilAPnD_xjpun   \n",
       "\n",
       "                                                    name  reviews_rating  \\\n",
       "12875  Clorox Disinfecting Wipes Value Pack Scented 1...               5   \n",
       "\n",
       "      reviews_username  \n",
       "12875          jessica  "
      ]
     },
     "execution_count": 143,
     "metadata": {},
     "output_type": "execute_result"
    }
   ],
   "source": [
    "common.head(1)"
   ]
  },
  {
   "cell_type": "code",
   "execution_count": 144,
   "id": "344cc8f7",
   "metadata": {},
   "outputs": [],
   "source": [
    "list_name = common.reviews_username.tolist()\n",
    "\n",
    "user_correlation_df.columns = df_pivot.index.tolist()\n",
    "user_correlation_df_1 =  user_correlation_df[user_correlation_df.index.isin(list_name)]"
   ]
  },
  {
   "cell_type": "code",
   "execution_count": 145,
   "id": "8f0f2e92",
   "metadata": {},
   "outputs": [
    {
     "data": {
      "text/plain": [
       "(1693, 18275)"
      ]
     },
     "execution_count": 145,
     "metadata": {},
     "output_type": "execute_result"
    }
   ],
   "source": [
    "user_correlation_df_1.shape"
   ]
  },
  {
   "cell_type": "code",
   "execution_count": 146,
   "id": "31aada27",
   "metadata": {},
   "outputs": [],
   "source": [
    "user_correlation_df_2 = user_correlation_df_1.T[user_correlation_df_1.T.index.isin(list_name)]"
   ]
  },
  {
   "cell_type": "code",
   "execution_count": 147,
   "id": "8df28f59",
   "metadata": {},
   "outputs": [
    {
     "data": {
      "text/html": [
       "<div>\n",
       "<style scoped>\n",
       "    .dataframe tbody tr th:only-of-type {\n",
       "        vertical-align: middle;\n",
       "    }\n",
       "\n",
       "    .dataframe tbody tr th {\n",
       "        vertical-align: top;\n",
       "    }\n",
       "\n",
       "    .dataframe thead th {\n",
       "        text-align: right;\n",
       "    }\n",
       "</style>\n",
       "<table border=\"1\" class=\"dataframe\">\n",
       "  <thead>\n",
       "    <tr style=\"text-align: right;\">\n",
       "      <th></th>\n",
       "      <th>1234</th>\n",
       "      <th>1234567</th>\n",
       "      <th>123charlie</th>\n",
       "      <th>1943</th>\n",
       "      <th>1witch</th>\n",
       "      <th>4 rooms 1 dog lotsa fur</th>\n",
       "      <th>85lisa</th>\n",
       "      <th>a hutch</th>\n",
       "      <th>aac06002</th>\n",
       "      <th>aalyah</th>\n",
       "      <th>...</th>\n",
       "      <th>xavier</th>\n",
       "      <th>yamel97</th>\n",
       "      <th>yayawomack</th>\n",
       "      <th>yorkielvr</th>\n",
       "      <th>yummy</th>\n",
       "      <th>yvonne</th>\n",
       "      <th>zach</th>\n",
       "      <th>zebras</th>\n",
       "      <th>zippy</th>\n",
       "      <th>zxcsdfd</th>\n",
       "    </tr>\n",
       "    <tr>\n",
       "      <th>userId</th>\n",
       "      <th></th>\n",
       "      <th></th>\n",
       "      <th></th>\n",
       "      <th></th>\n",
       "      <th></th>\n",
       "      <th></th>\n",
       "      <th></th>\n",
       "      <th></th>\n",
       "      <th></th>\n",
       "      <th></th>\n",
       "      <th></th>\n",
       "      <th></th>\n",
       "      <th></th>\n",
       "      <th></th>\n",
       "      <th></th>\n",
       "      <th></th>\n",
       "      <th></th>\n",
       "      <th></th>\n",
       "      <th></th>\n",
       "      <th></th>\n",
       "      <th></th>\n",
       "    </tr>\n",
       "  </thead>\n",
       "  <tbody>\n",
       "    <tr>\n",
       "      <th>1234</th>\n",
       "      <td>0.0</td>\n",
       "      <td>0.0</td>\n",
       "      <td>0.0</td>\n",
       "      <td>0.0</td>\n",
       "      <td>0.0</td>\n",
       "      <td>0.0</td>\n",
       "      <td>0.0</td>\n",
       "      <td>0.0</td>\n",
       "      <td>0.0</td>\n",
       "      <td>0.0</td>\n",
       "      <td>...</td>\n",
       "      <td>0.0</td>\n",
       "      <td>0.0</td>\n",
       "      <td>0.0</td>\n",
       "      <td>0.0</td>\n",
       "      <td>0.0</td>\n",
       "      <td>0.0</td>\n",
       "      <td>0.0</td>\n",
       "      <td>0.0</td>\n",
       "      <td>0.0</td>\n",
       "      <td>0.0</td>\n",
       "    </tr>\n",
       "    <tr>\n",
       "      <th>1234567</th>\n",
       "      <td>0.0</td>\n",
       "      <td>0.0</td>\n",
       "      <td>0.0</td>\n",
       "      <td>0.0</td>\n",
       "      <td>0.0</td>\n",
       "      <td>0.0</td>\n",
       "      <td>0.0</td>\n",
       "      <td>0.0</td>\n",
       "      <td>0.0</td>\n",
       "      <td>0.0</td>\n",
       "      <td>...</td>\n",
       "      <td>0.0</td>\n",
       "      <td>0.0</td>\n",
       "      <td>0.0</td>\n",
       "      <td>0.0</td>\n",
       "      <td>0.0</td>\n",
       "      <td>0.0</td>\n",
       "      <td>0.0</td>\n",
       "      <td>0.0</td>\n",
       "      <td>0.0</td>\n",
       "      <td>0.0</td>\n",
       "    </tr>\n",
       "    <tr>\n",
       "      <th>123charlie</th>\n",
       "      <td>0.0</td>\n",
       "      <td>0.0</td>\n",
       "      <td>0.0</td>\n",
       "      <td>0.0</td>\n",
       "      <td>0.0</td>\n",
       "      <td>0.0</td>\n",
       "      <td>0.0</td>\n",
       "      <td>0.0</td>\n",
       "      <td>0.0</td>\n",
       "      <td>0.0</td>\n",
       "      <td>...</td>\n",
       "      <td>0.0</td>\n",
       "      <td>0.0</td>\n",
       "      <td>0.0</td>\n",
       "      <td>0.0</td>\n",
       "      <td>0.0</td>\n",
       "      <td>0.0</td>\n",
       "      <td>0.0</td>\n",
       "      <td>0.0</td>\n",
       "      <td>0.0</td>\n",
       "      <td>0.0</td>\n",
       "    </tr>\n",
       "    <tr>\n",
       "      <th>1943</th>\n",
       "      <td>0.0</td>\n",
       "      <td>0.0</td>\n",
       "      <td>0.0</td>\n",
       "      <td>0.0</td>\n",
       "      <td>0.0</td>\n",
       "      <td>0.0</td>\n",
       "      <td>0.0</td>\n",
       "      <td>0.0</td>\n",
       "      <td>0.0</td>\n",
       "      <td>0.0</td>\n",
       "      <td>...</td>\n",
       "      <td>0.0</td>\n",
       "      <td>0.0</td>\n",
       "      <td>0.0</td>\n",
       "      <td>0.0</td>\n",
       "      <td>0.0</td>\n",
       "      <td>0.0</td>\n",
       "      <td>0.0</td>\n",
       "      <td>0.0</td>\n",
       "      <td>0.0</td>\n",
       "      <td>0.0</td>\n",
       "    </tr>\n",
       "    <tr>\n",
       "      <th>1witch</th>\n",
       "      <td>0.0</td>\n",
       "      <td>0.0</td>\n",
       "      <td>0.0</td>\n",
       "      <td>0.0</td>\n",
       "      <td>0.0</td>\n",
       "      <td>0.0</td>\n",
       "      <td>0.0</td>\n",
       "      <td>0.0</td>\n",
       "      <td>0.0</td>\n",
       "      <td>0.0</td>\n",
       "      <td>...</td>\n",
       "      <td>0.0</td>\n",
       "      <td>0.0</td>\n",
       "      <td>0.0</td>\n",
       "      <td>0.0</td>\n",
       "      <td>0.0</td>\n",
       "      <td>0.0</td>\n",
       "      <td>0.0</td>\n",
       "      <td>0.0</td>\n",
       "      <td>0.0</td>\n",
       "      <td>0.0</td>\n",
       "    </tr>\n",
       "  </tbody>\n",
       "</table>\n",
       "<p>5 rows × 1693 columns</p>\n",
       "</div>"
      ],
      "text/plain": [
       "            1234  1234567  123charlie  1943  1witch  4 rooms 1 dog lotsa fur  \\\n",
       "userId                                                                         \n",
       "1234         0.0      0.0         0.0   0.0     0.0                      0.0   \n",
       "1234567      0.0      0.0         0.0   0.0     0.0                      0.0   \n",
       "123charlie   0.0      0.0         0.0   0.0     0.0                      0.0   \n",
       "1943         0.0      0.0         0.0   0.0     0.0                      0.0   \n",
       "1witch       0.0      0.0         0.0   0.0     0.0                      0.0   \n",
       "\n",
       "            85lisa  a hutch  aac06002  aalyah  ...  xavier  yamel97  \\\n",
       "userId                                         ...                    \n",
       "1234           0.0      0.0       0.0     0.0  ...     0.0      0.0   \n",
       "1234567        0.0      0.0       0.0     0.0  ...     0.0      0.0   \n",
       "123charlie     0.0      0.0       0.0     0.0  ...     0.0      0.0   \n",
       "1943           0.0      0.0       0.0     0.0  ...     0.0      0.0   \n",
       "1witch         0.0      0.0       0.0     0.0  ...     0.0      0.0   \n",
       "\n",
       "            yayawomack  yorkielvr  yummy  yvonne  zach  zebras  zippy  zxcsdfd  \n",
       "userId                                                                          \n",
       "1234               0.0        0.0    0.0     0.0   0.0     0.0    0.0      0.0  \n",
       "1234567            0.0        0.0    0.0     0.0   0.0     0.0    0.0      0.0  \n",
       "123charlie         0.0        0.0    0.0     0.0   0.0     0.0    0.0      0.0  \n",
       "1943               0.0        0.0    0.0     0.0   0.0     0.0    0.0      0.0  \n",
       "1witch             0.0        0.0    0.0     0.0   0.0     0.0    0.0      0.0  \n",
       "\n",
       "[5 rows x 1693 columns]"
      ]
     },
     "execution_count": 147,
     "metadata": {},
     "output_type": "execute_result"
    }
   ],
   "source": [
    "user_correlation_df_3 = user_correlation_df_2.T\n",
    "user_correlation_df_3.head()"
   ]
  },
  {
   "cell_type": "code",
   "execution_count": 148,
   "id": "f12ae8a9",
   "metadata": {},
   "outputs": [
    {
     "data": {
      "text/plain": [
       "(1693, 1693)"
      ]
     },
     "execution_count": 148,
     "metadata": {},
     "output_type": "execute_result"
    }
   ],
   "source": [
    "user_correlation_df_3.shape"
   ]
  },
  {
   "cell_type": "code",
   "execution_count": 149,
   "id": "6ae83765",
   "metadata": {},
   "outputs": [
    {
     "data": {
      "text/plain": [
       "array([[0., 0., 0., ..., 0., 0., 0.],\n",
       "       [0., 0., 0., ..., 0., 0., 0.],\n",
       "       [0., 0., 0., ..., 0., 0., 0.],\n",
       "       ...,\n",
       "       [0., 0., 0., ..., 0., 0., 0.],\n",
       "       [0., 0., 0., ..., 0., 0., 0.],\n",
       "       [0., 0., 0., ..., 0., 0., 0.]])"
      ]
     },
     "execution_count": 149,
     "metadata": {},
     "output_type": "execute_result"
    }
   ],
   "source": [
    "user_correlation_df_3[user_correlation_df_3<0]=0\n",
    "\n",
    "common_user_predicted_ratings = np.dot(user_correlation_df_3, common_user_based_matrix.fillna(0))\n",
    "common_user_predicted_ratings"
   ]
  },
  {
   "cell_type": "code",
   "execution_count": 150,
   "id": "f9d6f048",
   "metadata": {},
   "outputs": [
    {
     "data": {
      "text/html": [
       "<div>\n",
       "<style scoped>\n",
       "    .dataframe tbody tr th:only-of-type {\n",
       "        vertical-align: middle;\n",
       "    }\n",
       "\n",
       "    .dataframe tbody tr th {\n",
       "        vertical-align: top;\n",
       "    }\n",
       "\n",
       "    .dataframe thead th {\n",
       "        text-align: right;\n",
       "    }\n",
       "</style>\n",
       "<table border=\"1\" class=\"dataframe\">\n",
       "  <thead>\n",
       "    <tr style=\"text-align: right;\">\n",
       "      <th></th>\n",
       "      <th>id</th>\n",
       "      <th>name</th>\n",
       "      <th>reviews_rating</th>\n",
       "      <th>reviews_username</th>\n",
       "    </tr>\n",
       "  </thead>\n",
       "  <tbody>\n",
       "    <tr>\n",
       "      <th>12875</th>\n",
       "      <td>AVpf3VOfilAPnD_xjpun</td>\n",
       "      <td>Clorox Disinfecting Wipes Value Pack Scented 1...</td>\n",
       "      <td>5</td>\n",
       "      <td>jessica</td>\n",
       "    </tr>\n",
       "    <tr>\n",
       "      <th>21657</th>\n",
       "      <td>AVpfm8yiLJeJML43AYyu</td>\n",
       "      <td>Nexxus Exxtra Gel Style Creation Sculptor</td>\n",
       "      <td>1</td>\n",
       "      <td>romance318</td>\n",
       "    </tr>\n",
       "  </tbody>\n",
       "</table>\n",
       "</div>"
      ],
      "text/plain": [
       "                         id  \\\n",
       "12875  AVpf3VOfilAPnD_xjpun   \n",
       "21657  AVpfm8yiLJeJML43AYyu   \n",
       "\n",
       "                                                    name  reviews_rating  \\\n",
       "12875  Clorox Disinfecting Wipes Value Pack Scented 1...               5   \n",
       "21657          Nexxus Exxtra Gel Style Creation Sculptor               1   \n",
       "\n",
       "      reviews_username  \n",
       "12875          jessica  \n",
       "21657       romance318  "
      ]
     },
     "execution_count": 150,
     "metadata": {},
     "output_type": "execute_result"
    }
   ],
   "source": [
    "common.head(2)"
   ]
  },
  {
   "cell_type": "code",
   "execution_count": 151,
   "id": "fd4ca38b",
   "metadata": {},
   "outputs": [],
   "source": [
    "# Creating dummy test dataframe\n",
    "dummy_test = common.copy()\n",
    "\n",
    "dummy_test['reviews_rating'] = dummy_test['reviews_rating'].apply(lambda x: 1 if x>=1 else 0)\n",
    "\n",
    "dummy_test = dummy_test.pivot_table(index='reviews_username', columns='id', values='reviews_rating').fillna(0)"
   ]
  },
  {
   "cell_type": "code",
   "execution_count": 152,
   "id": "4ae25a53",
   "metadata": {},
   "outputs": [
    {
     "data": {
      "text/plain": [
       "(1693, 140)"
      ]
     },
     "execution_count": 152,
     "metadata": {},
     "output_type": "execute_result"
    }
   ],
   "source": [
    "dummy_test.shape"
   ]
  },
  {
   "cell_type": "code",
   "execution_count": 153,
   "id": "2dcceca5",
   "metadata": {},
   "outputs": [],
   "source": [
    "common_user_predicted_ratings = np.multiply(common_user_predicted_ratings,dummy_test)"
   ]
  },
  {
   "cell_type": "code",
   "execution_count": 154,
   "id": "9241c5db",
   "metadata": {},
   "outputs": [
    {
     "data": {
      "text/html": [
       "<div>\n",
       "<style scoped>\n",
       "    .dataframe tbody tr th:only-of-type {\n",
       "        vertical-align: middle;\n",
       "    }\n",
       "\n",
       "    .dataframe tbody tr th {\n",
       "        vertical-align: top;\n",
       "    }\n",
       "\n",
       "    .dataframe thead th {\n",
       "        text-align: right;\n",
       "    }\n",
       "</style>\n",
       "<table border=\"1\" class=\"dataframe\">\n",
       "  <thead>\n",
       "    <tr style=\"text-align: right;\">\n",
       "      <th>id</th>\n",
       "      <th>AV16khLE-jtxr-f38VFn</th>\n",
       "      <th>AV1YGDqsGV-KLJ3adc-O</th>\n",
       "      <th>AV1YlENIglJLPUi8IHsX</th>\n",
       "      <th>AV1YmDL9vKc47QAVgr7_</th>\n",
       "      <th>AV1Ymf_rglJLPUi8II2v</th>\n",
       "      <th>AV1Yn94nvKc47QAVgtst</th>\n",
       "      <th>AV1YneDPglJLPUi8IJyQ</th>\n",
       "      <th>AV1Ys0kTvKc47QAVgx1C</th>\n",
       "      <th>AV1YtGjdglJLPUi8IOfJ</th>\n",
       "      <th>AV1ZT7GLglJLPUi8IQLI</th>\n",
       "      <th>...</th>\n",
       "      <th>AVpfov9TLJeJML43A7B0</th>\n",
       "      <th>AVpfpM2yilAPnD_xfmDG</th>\n",
       "      <th>AVpfr5cb1cnluZ0-pZFp</th>\n",
       "      <th>AVpfrFDZLJeJML43Bmv0</th>\n",
       "      <th>AVpfrTyiLJeJML43BrSI</th>\n",
       "      <th>AVpfrgjFLJeJML43BvCc</th>\n",
       "      <th>AVpfs0tUilAPnD_xgqN2</th>\n",
       "      <th>AVpfthSailAPnD_xg3ON</th>\n",
       "      <th>AVpftikC1cnluZ0-p31V</th>\n",
       "      <th>AVpfv4TlilAPnD_xhjNS</th>\n",
       "    </tr>\n",
       "    <tr>\n",
       "      <th>reviews_username</th>\n",
       "      <th></th>\n",
       "      <th></th>\n",
       "      <th></th>\n",
       "      <th></th>\n",
       "      <th></th>\n",
       "      <th></th>\n",
       "      <th></th>\n",
       "      <th></th>\n",
       "      <th></th>\n",
       "      <th></th>\n",
       "      <th></th>\n",
       "      <th></th>\n",
       "      <th></th>\n",
       "      <th></th>\n",
       "      <th></th>\n",
       "      <th></th>\n",
       "      <th></th>\n",
       "      <th></th>\n",
       "      <th></th>\n",
       "      <th></th>\n",
       "      <th></th>\n",
       "    </tr>\n",
       "  </thead>\n",
       "  <tbody>\n",
       "    <tr>\n",
       "      <th>1234</th>\n",
       "      <td>0.0</td>\n",
       "      <td>0.0</td>\n",
       "      <td>0.0</td>\n",
       "      <td>0.0</td>\n",
       "      <td>0.0</td>\n",
       "      <td>0.0</td>\n",
       "      <td>0.0</td>\n",
       "      <td>0.0</td>\n",
       "      <td>0.0</td>\n",
       "      <td>0.0</td>\n",
       "      <td>...</td>\n",
       "      <td>0.0</td>\n",
       "      <td>0.0</td>\n",
       "      <td>0.0</td>\n",
       "      <td>0.0</td>\n",
       "      <td>0.0</td>\n",
       "      <td>0.0</td>\n",
       "      <td>0.0</td>\n",
       "      <td>0.0</td>\n",
       "      <td>0.0</td>\n",
       "      <td>0.0</td>\n",
       "    </tr>\n",
       "    <tr>\n",
       "      <th>1234567</th>\n",
       "      <td>0.0</td>\n",
       "      <td>0.0</td>\n",
       "      <td>0.0</td>\n",
       "      <td>0.0</td>\n",
       "      <td>0.0</td>\n",
       "      <td>0.0</td>\n",
       "      <td>0.0</td>\n",
       "      <td>0.0</td>\n",
       "      <td>0.0</td>\n",
       "      <td>0.0</td>\n",
       "      <td>...</td>\n",
       "      <td>0.0</td>\n",
       "      <td>0.0</td>\n",
       "      <td>0.0</td>\n",
       "      <td>0.0</td>\n",
       "      <td>0.0</td>\n",
       "      <td>0.0</td>\n",
       "      <td>0.0</td>\n",
       "      <td>0.0</td>\n",
       "      <td>0.0</td>\n",
       "      <td>0.0</td>\n",
       "    </tr>\n",
       "  </tbody>\n",
       "</table>\n",
       "<p>2 rows × 140 columns</p>\n",
       "</div>"
      ],
      "text/plain": [
       "id                AV16khLE-jtxr-f38VFn  AV1YGDqsGV-KLJ3adc-O  \\\n",
       "reviews_username                                               \n",
       "1234                               0.0                   0.0   \n",
       "1234567                            0.0                   0.0   \n",
       "\n",
       "id                AV1YlENIglJLPUi8IHsX  AV1YmDL9vKc47QAVgr7_  \\\n",
       "reviews_username                                               \n",
       "1234                               0.0                   0.0   \n",
       "1234567                            0.0                   0.0   \n",
       "\n",
       "id                AV1Ymf_rglJLPUi8II2v  AV1Yn94nvKc47QAVgtst  \\\n",
       "reviews_username                                               \n",
       "1234                               0.0                   0.0   \n",
       "1234567                            0.0                   0.0   \n",
       "\n",
       "id                AV1YneDPglJLPUi8IJyQ  AV1Ys0kTvKc47QAVgx1C  \\\n",
       "reviews_username                                               \n",
       "1234                               0.0                   0.0   \n",
       "1234567                            0.0                   0.0   \n",
       "\n",
       "id                AV1YtGjdglJLPUi8IOfJ  AV1ZT7GLglJLPUi8IQLI  ...  \\\n",
       "reviews_username                                              ...   \n",
       "1234                               0.0                   0.0  ...   \n",
       "1234567                            0.0                   0.0  ...   \n",
       "\n",
       "id                AVpfov9TLJeJML43A7B0  AVpfpM2yilAPnD_xfmDG  \\\n",
       "reviews_username                                               \n",
       "1234                               0.0                   0.0   \n",
       "1234567                            0.0                   0.0   \n",
       "\n",
       "id                AVpfr5cb1cnluZ0-pZFp  AVpfrFDZLJeJML43Bmv0  \\\n",
       "reviews_username                                               \n",
       "1234                               0.0                   0.0   \n",
       "1234567                            0.0                   0.0   \n",
       "\n",
       "id                AVpfrTyiLJeJML43BrSI  AVpfrgjFLJeJML43BvCc  \\\n",
       "reviews_username                                               \n",
       "1234                               0.0                   0.0   \n",
       "1234567                            0.0                   0.0   \n",
       "\n",
       "id                AVpfs0tUilAPnD_xgqN2  AVpfthSailAPnD_xg3ON  \\\n",
       "reviews_username                                               \n",
       "1234                               0.0                   0.0   \n",
       "1234567                            0.0                   0.0   \n",
       "\n",
       "id                AVpftikC1cnluZ0-p31V  AVpfv4TlilAPnD_xhjNS  \n",
       "reviews_username                                              \n",
       "1234                               0.0                   0.0  \n",
       "1234567                            0.0                   0.0  \n",
       "\n",
       "[2 rows x 140 columns]"
      ]
     },
     "execution_count": 154,
     "metadata": {},
     "output_type": "execute_result"
    }
   ],
   "source": [
    "common_user_predicted_ratings.head(2)"
   ]
  },
  {
   "cell_type": "markdown",
   "id": "6fe951ab",
   "metadata": {},
   "source": [
    "* Calculating the RMSE for only the products rated by user.\n",
    "* For RMSE, normalising the rating to (1,5) range."
   ]
  },
  {
   "cell_type": "code",
   "execution_count": 155,
   "id": "c27d3e63",
   "metadata": {},
   "outputs": [
    {
     "name": "stdout",
     "output_type": "stream",
     "text": [
      "MinMaxScaler(feature_range=(1, 5))\n",
      "[[nan nan nan ... nan nan nan]\n",
      " [nan nan nan ... nan nan nan]\n",
      " [nan nan nan ... nan nan nan]\n",
      " ...\n",
      " [nan nan nan ... nan nan nan]\n",
      " [nan nan nan ... nan nan nan]\n",
      " [nan nan nan ... nan nan nan]]\n"
     ]
    }
   ],
   "source": [
    "from sklearn.preprocessing import MinMaxScaler\n",
    "from numpy import *\n",
    "\n",
    "X  = common_user_predicted_ratings.copy() \n",
    "X = X[X>0]\n",
    "\n",
    "scaler = MinMaxScaler(feature_range=(1, 5))\n",
    "print(scaler.fit(X))\n",
    "y = (scaler.transform(X))\n",
    "\n",
    "print(y)"
   ]
  },
  {
   "cell_type": "code",
   "execution_count": 156,
   "id": "a182e30e",
   "metadata": {},
   "outputs": [],
   "source": [
    "common_ = common.pivot_table(index='reviews_username', columns='id', values='reviews_rating')"
   ]
  },
  {
   "cell_type": "code",
   "execution_count": 157,
   "id": "4aa4975b",
   "metadata": {},
   "outputs": [],
   "source": [
    "# Finding total non-NaN value\n",
    "total_non_nan = np.count_nonzero(~np.isnan(y))"
   ]
  },
  {
   "cell_type": "markdown",
   "id": "eaacb5a9",
   "metadata": {},
   "source": [
    "RMSE (Root Mean Square Error) for User-User recommendation system"
   ]
  },
  {
   "cell_type": "code",
   "execution_count": 158,
   "id": "cc82e992",
   "metadata": {},
   "outputs": [
    {
     "name": "stdout",
     "output_type": "stream",
     "text": [
      "2.551419404666111\n"
     ]
    }
   ],
   "source": [
    "rmse_user_user = (sum(sum((common_ - y )**2))/total_non_nan)**0.5\n",
    "print(rmse_user_user)"
   ]
  },
  {
   "cell_type": "markdown",
   "id": "2c403c89",
   "metadata": {},
   "source": [
    "## Using Item Similarity"
   ]
  },
  {
   "cell_type": "markdown",
   "id": "40836e88",
   "metadata": {},
   "source": [
    "### Item Based Similarity"
   ]
  },
  {
   "cell_type": "markdown",
   "id": "344dc211",
   "metadata": {},
   "source": [
    "Taking the transpose of the rating matrix to normalize the rating around the mean for different Product ID. In the user based similarity, we had taken mean for each user instead of each product. "
   ]
  },
  {
   "cell_type": "code",
   "execution_count": 159,
   "id": "7ff2b577",
   "metadata": {},
   "outputs": [],
   "source": [
    "df_pivot = train.pivot_table(\n",
    "    index='reviews_username',\n",
    "    columns='id',\n",
    "    values='reviews_rating'\n",
    ").T"
   ]
  },
  {
   "cell_type": "code",
   "execution_count": 160,
   "id": "651b0cd3",
   "metadata": {},
   "outputs": [
    {
     "data": {
      "text/html": [
       "<div>\n",
       "<style scoped>\n",
       "    .dataframe tbody tr th:only-of-type {\n",
       "        vertical-align: middle;\n",
       "    }\n",
       "\n",
       "    .dataframe tbody tr th {\n",
       "        vertical-align: top;\n",
       "    }\n",
       "\n",
       "    .dataframe thead th {\n",
       "        text-align: right;\n",
       "    }\n",
       "</style>\n",
       "<table border=\"1\" class=\"dataframe\">\n",
       "  <thead>\n",
       "    <tr style=\"text-align: right;\">\n",
       "      <th>reviews_username</th>\n",
       "      <th>00sab00</th>\n",
       "      <th>01impala</th>\n",
       "      <th>02dakota</th>\n",
       "      <th>02deuce</th>\n",
       "      <th>0325home</th>\n",
       "      <th>06stidriver</th>\n",
       "      <th>08dallas</th>\n",
       "      <th>09mommy11</th>\n",
       "      <th>1.11E+24</th>\n",
       "      <th>1085</th>\n",
       "      <th>...</th>\n",
       "      <th>zsarah</th>\n",
       "      <th>zsazsa</th>\n",
       "      <th>zubb</th>\n",
       "      <th>zuttle</th>\n",
       "      <th>zwithanx</th>\n",
       "      <th>zxcsdfd</th>\n",
       "      <th>zxjki</th>\n",
       "      <th>zyiah4</th>\n",
       "      <th>zzdiane</th>\n",
       "      <th>zzz1127</th>\n",
       "    </tr>\n",
       "    <tr>\n",
       "      <th>id</th>\n",
       "      <th></th>\n",
       "      <th></th>\n",
       "      <th></th>\n",
       "      <th></th>\n",
       "      <th></th>\n",
       "      <th></th>\n",
       "      <th></th>\n",
       "      <th></th>\n",
       "      <th></th>\n",
       "      <th></th>\n",
       "      <th></th>\n",
       "      <th></th>\n",
       "      <th></th>\n",
       "      <th></th>\n",
       "      <th></th>\n",
       "      <th></th>\n",
       "      <th></th>\n",
       "      <th></th>\n",
       "      <th></th>\n",
       "      <th></th>\n",
       "      <th></th>\n",
       "    </tr>\n",
       "  </thead>\n",
       "  <tbody>\n",
       "    <tr>\n",
       "      <th>AV13O1A8GV-KLJ3akUyj</th>\n",
       "      <td>NaN</td>\n",
       "      <td>NaN</td>\n",
       "      <td>NaN</td>\n",
       "      <td>NaN</td>\n",
       "      <td>NaN</td>\n",
       "      <td>NaN</td>\n",
       "      <td>NaN</td>\n",
       "      <td>NaN</td>\n",
       "      <td>NaN</td>\n",
       "      <td>NaN</td>\n",
       "      <td>...</td>\n",
       "      <td>NaN</td>\n",
       "      <td>NaN</td>\n",
       "      <td>NaN</td>\n",
       "      <td>NaN</td>\n",
       "      <td>NaN</td>\n",
       "      <td>NaN</td>\n",
       "      <td>NaN</td>\n",
       "      <td>NaN</td>\n",
       "      <td>NaN</td>\n",
       "      <td>NaN</td>\n",
       "    </tr>\n",
       "    <tr>\n",
       "      <th>AV14LG0R-jtxr-f38QfS</th>\n",
       "      <td>NaN</td>\n",
       "      <td>NaN</td>\n",
       "      <td>NaN</td>\n",
       "      <td>NaN</td>\n",
       "      <td>NaN</td>\n",
       "      <td>NaN</td>\n",
       "      <td>NaN</td>\n",
       "      <td>NaN</td>\n",
       "      <td>NaN</td>\n",
       "      <td>NaN</td>\n",
       "      <td>...</td>\n",
       "      <td>NaN</td>\n",
       "      <td>NaN</td>\n",
       "      <td>NaN</td>\n",
       "      <td>NaN</td>\n",
       "      <td>NaN</td>\n",
       "      <td>NaN</td>\n",
       "      <td>NaN</td>\n",
       "      <td>NaN</td>\n",
       "      <td>NaN</td>\n",
       "      <td>NaN</td>\n",
       "    </tr>\n",
       "    <tr>\n",
       "      <th>AV16khLE-jtxr-f38VFn</th>\n",
       "      <td>NaN</td>\n",
       "      <td>NaN</td>\n",
       "      <td>NaN</td>\n",
       "      <td>NaN</td>\n",
       "      <td>NaN</td>\n",
       "      <td>NaN</td>\n",
       "      <td>NaN</td>\n",
       "      <td>NaN</td>\n",
       "      <td>NaN</td>\n",
       "      <td>NaN</td>\n",
       "      <td>...</td>\n",
       "      <td>NaN</td>\n",
       "      <td>NaN</td>\n",
       "      <td>NaN</td>\n",
       "      <td>NaN</td>\n",
       "      <td>NaN</td>\n",
       "      <td>NaN</td>\n",
       "      <td>NaN</td>\n",
       "      <td>NaN</td>\n",
       "      <td>NaN</td>\n",
       "      <td>NaN</td>\n",
       "    </tr>\n",
       "    <tr>\n",
       "      <th>AV1YGDqsGV-KLJ3adc-O</th>\n",
       "      <td>NaN</td>\n",
       "      <td>NaN</td>\n",
       "      <td>NaN</td>\n",
       "      <td>NaN</td>\n",
       "      <td>NaN</td>\n",
       "      <td>NaN</td>\n",
       "      <td>NaN</td>\n",
       "      <td>NaN</td>\n",
       "      <td>NaN</td>\n",
       "      <td>NaN</td>\n",
       "      <td>...</td>\n",
       "      <td>NaN</td>\n",
       "      <td>NaN</td>\n",
       "      <td>NaN</td>\n",
       "      <td>NaN</td>\n",
       "      <td>NaN</td>\n",
       "      <td>NaN</td>\n",
       "      <td>NaN</td>\n",
       "      <td>NaN</td>\n",
       "      <td>NaN</td>\n",
       "      <td>NaN</td>\n",
       "    </tr>\n",
       "    <tr>\n",
       "      <th>AV1YIch7GV-KLJ3addeG</th>\n",
       "      <td>NaN</td>\n",
       "      <td>NaN</td>\n",
       "      <td>NaN</td>\n",
       "      <td>NaN</td>\n",
       "      <td>NaN</td>\n",
       "      <td>NaN</td>\n",
       "      <td>NaN</td>\n",
       "      <td>NaN</td>\n",
       "      <td>NaN</td>\n",
       "      <td>NaN</td>\n",
       "      <td>...</td>\n",
       "      <td>NaN</td>\n",
       "      <td>NaN</td>\n",
       "      <td>NaN</td>\n",
       "      <td>NaN</td>\n",
       "      <td>NaN</td>\n",
       "      <td>NaN</td>\n",
       "      <td>NaN</td>\n",
       "      <td>NaN</td>\n",
       "      <td>NaN</td>\n",
       "      <td>NaN</td>\n",
       "    </tr>\n",
       "  </tbody>\n",
       "</table>\n",
       "<p>5 rows × 18275 columns</p>\n",
       "</div>"
      ],
      "text/plain": [
       "reviews_username      00sab00  01impala  02dakota  02deuce  0325home  \\\n",
       "id                                                                     \n",
       "AV13O1A8GV-KLJ3akUyj      NaN       NaN       NaN      NaN       NaN   \n",
       "AV14LG0R-jtxr-f38QfS      NaN       NaN       NaN      NaN       NaN   \n",
       "AV16khLE-jtxr-f38VFn      NaN       NaN       NaN      NaN       NaN   \n",
       "AV1YGDqsGV-KLJ3adc-O      NaN       NaN       NaN      NaN       NaN   \n",
       "AV1YIch7GV-KLJ3addeG      NaN       NaN       NaN      NaN       NaN   \n",
       "\n",
       "reviews_username      06stidriver  08dallas  09mommy11  1.11E+24  1085  ...  \\\n",
       "id                                                                      ...   \n",
       "AV13O1A8GV-KLJ3akUyj          NaN       NaN        NaN       NaN   NaN  ...   \n",
       "AV14LG0R-jtxr-f38QfS          NaN       NaN        NaN       NaN   NaN  ...   \n",
       "AV16khLE-jtxr-f38VFn          NaN       NaN        NaN       NaN   NaN  ...   \n",
       "AV1YGDqsGV-KLJ3adc-O          NaN       NaN        NaN       NaN   NaN  ...   \n",
       "AV1YIch7GV-KLJ3addeG          NaN       NaN        NaN       NaN   NaN  ...   \n",
       "\n",
       "reviews_username      zsarah  zsazsa  zubb  zuttle  zwithanx  zxcsdfd  zxjki  \\\n",
       "id                                                                             \n",
       "AV13O1A8GV-KLJ3akUyj     NaN     NaN   NaN     NaN       NaN      NaN    NaN   \n",
       "AV14LG0R-jtxr-f38QfS     NaN     NaN   NaN     NaN       NaN      NaN    NaN   \n",
       "AV16khLE-jtxr-f38VFn     NaN     NaN   NaN     NaN       NaN      NaN    NaN   \n",
       "AV1YGDqsGV-KLJ3adc-O     NaN     NaN   NaN     NaN       NaN      NaN    NaN   \n",
       "AV1YIch7GV-KLJ3addeG     NaN     NaN   NaN     NaN       NaN      NaN    NaN   \n",
       "\n",
       "reviews_username      zyiah4  zzdiane  zzz1127  \n",
       "id                                              \n",
       "AV13O1A8GV-KLJ3akUyj     NaN      NaN      NaN  \n",
       "AV14LG0R-jtxr-f38QfS     NaN      NaN      NaN  \n",
       "AV16khLE-jtxr-f38VFn     NaN      NaN      NaN  \n",
       "AV1YGDqsGV-KLJ3adc-O     NaN      NaN      NaN  \n",
       "AV1YIch7GV-KLJ3addeG     NaN      NaN      NaN  \n",
       "\n",
       "[5 rows x 18275 columns]"
      ]
     },
     "execution_count": 160,
     "metadata": {},
     "output_type": "execute_result"
    }
   ],
   "source": [
    "df_pivot.head()"
   ]
  },
  {
   "cell_type": "markdown",
   "id": "c028549d",
   "metadata": {},
   "source": [
    "Normalizing the product rating for each product for using the Adujsted Cosine"
   ]
  },
  {
   "cell_type": "code",
   "execution_count": 161,
   "id": "0eee5213",
   "metadata": {},
   "outputs": [],
   "source": [
    "mean = np.nanmean(df_pivot, axis=1)\n",
    "df_subtracted = (df_pivot.T-mean).T"
   ]
  },
  {
   "cell_type": "code",
   "execution_count": 162,
   "id": "6ab49184",
   "metadata": {},
   "outputs": [
    {
     "data": {
      "text/html": [
       "<div>\n",
       "<style scoped>\n",
       "    .dataframe tbody tr th:only-of-type {\n",
       "        vertical-align: middle;\n",
       "    }\n",
       "\n",
       "    .dataframe tbody tr th {\n",
       "        vertical-align: top;\n",
       "    }\n",
       "\n",
       "    .dataframe thead th {\n",
       "        text-align: right;\n",
       "    }\n",
       "</style>\n",
       "<table border=\"1\" class=\"dataframe\">\n",
       "  <thead>\n",
       "    <tr style=\"text-align: right;\">\n",
       "      <th>reviews_username</th>\n",
       "      <th>00sab00</th>\n",
       "      <th>01impala</th>\n",
       "      <th>02dakota</th>\n",
       "      <th>02deuce</th>\n",
       "      <th>0325home</th>\n",
       "      <th>06stidriver</th>\n",
       "      <th>08dallas</th>\n",
       "      <th>09mommy11</th>\n",
       "      <th>1.11E+24</th>\n",
       "      <th>1085</th>\n",
       "      <th>...</th>\n",
       "      <th>zsarah</th>\n",
       "      <th>zsazsa</th>\n",
       "      <th>zubb</th>\n",
       "      <th>zuttle</th>\n",
       "      <th>zwithanx</th>\n",
       "      <th>zxcsdfd</th>\n",
       "      <th>zxjki</th>\n",
       "      <th>zyiah4</th>\n",
       "      <th>zzdiane</th>\n",
       "      <th>zzz1127</th>\n",
       "    </tr>\n",
       "    <tr>\n",
       "      <th>id</th>\n",
       "      <th></th>\n",
       "      <th></th>\n",
       "      <th></th>\n",
       "      <th></th>\n",
       "      <th></th>\n",
       "      <th></th>\n",
       "      <th></th>\n",
       "      <th></th>\n",
       "      <th></th>\n",
       "      <th></th>\n",
       "      <th></th>\n",
       "      <th></th>\n",
       "      <th></th>\n",
       "      <th></th>\n",
       "      <th></th>\n",
       "      <th></th>\n",
       "      <th></th>\n",
       "      <th></th>\n",
       "      <th></th>\n",
       "      <th></th>\n",
       "      <th></th>\n",
       "    </tr>\n",
       "  </thead>\n",
       "  <tbody>\n",
       "    <tr>\n",
       "      <th>AV13O1A8GV-KLJ3akUyj</th>\n",
       "      <td>NaN</td>\n",
       "      <td>NaN</td>\n",
       "      <td>NaN</td>\n",
       "      <td>NaN</td>\n",
       "      <td>NaN</td>\n",
       "      <td>NaN</td>\n",
       "      <td>NaN</td>\n",
       "      <td>NaN</td>\n",
       "      <td>NaN</td>\n",
       "      <td>NaN</td>\n",
       "      <td>...</td>\n",
       "      <td>NaN</td>\n",
       "      <td>NaN</td>\n",
       "      <td>NaN</td>\n",
       "      <td>NaN</td>\n",
       "      <td>NaN</td>\n",
       "      <td>NaN</td>\n",
       "      <td>NaN</td>\n",
       "      <td>NaN</td>\n",
       "      <td>NaN</td>\n",
       "      <td>NaN</td>\n",
       "    </tr>\n",
       "    <tr>\n",
       "      <th>AV14LG0R-jtxr-f38QfS</th>\n",
       "      <td>NaN</td>\n",
       "      <td>NaN</td>\n",
       "      <td>NaN</td>\n",
       "      <td>NaN</td>\n",
       "      <td>NaN</td>\n",
       "      <td>NaN</td>\n",
       "      <td>NaN</td>\n",
       "      <td>NaN</td>\n",
       "      <td>NaN</td>\n",
       "      <td>NaN</td>\n",
       "      <td>...</td>\n",
       "      <td>NaN</td>\n",
       "      <td>NaN</td>\n",
       "      <td>NaN</td>\n",
       "      <td>NaN</td>\n",
       "      <td>NaN</td>\n",
       "      <td>NaN</td>\n",
       "      <td>NaN</td>\n",
       "      <td>NaN</td>\n",
       "      <td>NaN</td>\n",
       "      <td>NaN</td>\n",
       "    </tr>\n",
       "    <tr>\n",
       "      <th>AV16khLE-jtxr-f38VFn</th>\n",
       "      <td>NaN</td>\n",
       "      <td>NaN</td>\n",
       "      <td>NaN</td>\n",
       "      <td>NaN</td>\n",
       "      <td>NaN</td>\n",
       "      <td>NaN</td>\n",
       "      <td>NaN</td>\n",
       "      <td>NaN</td>\n",
       "      <td>NaN</td>\n",
       "      <td>NaN</td>\n",
       "      <td>...</td>\n",
       "      <td>NaN</td>\n",
       "      <td>NaN</td>\n",
       "      <td>NaN</td>\n",
       "      <td>NaN</td>\n",
       "      <td>NaN</td>\n",
       "      <td>NaN</td>\n",
       "      <td>NaN</td>\n",
       "      <td>NaN</td>\n",
       "      <td>NaN</td>\n",
       "      <td>NaN</td>\n",
       "    </tr>\n",
       "    <tr>\n",
       "      <th>AV1YGDqsGV-KLJ3adc-O</th>\n",
       "      <td>NaN</td>\n",
       "      <td>NaN</td>\n",
       "      <td>NaN</td>\n",
       "      <td>NaN</td>\n",
       "      <td>NaN</td>\n",
       "      <td>NaN</td>\n",
       "      <td>NaN</td>\n",
       "      <td>NaN</td>\n",
       "      <td>NaN</td>\n",
       "      <td>NaN</td>\n",
       "      <td>...</td>\n",
       "      <td>NaN</td>\n",
       "      <td>NaN</td>\n",
       "      <td>NaN</td>\n",
       "      <td>NaN</td>\n",
       "      <td>NaN</td>\n",
       "      <td>NaN</td>\n",
       "      <td>NaN</td>\n",
       "      <td>NaN</td>\n",
       "      <td>NaN</td>\n",
       "      <td>NaN</td>\n",
       "    </tr>\n",
       "    <tr>\n",
       "      <th>AV1YIch7GV-KLJ3addeG</th>\n",
       "      <td>NaN</td>\n",
       "      <td>NaN</td>\n",
       "      <td>NaN</td>\n",
       "      <td>NaN</td>\n",
       "      <td>NaN</td>\n",
       "      <td>NaN</td>\n",
       "      <td>NaN</td>\n",
       "      <td>NaN</td>\n",
       "      <td>NaN</td>\n",
       "      <td>NaN</td>\n",
       "      <td>...</td>\n",
       "      <td>NaN</td>\n",
       "      <td>NaN</td>\n",
       "      <td>NaN</td>\n",
       "      <td>NaN</td>\n",
       "      <td>NaN</td>\n",
       "      <td>NaN</td>\n",
       "      <td>NaN</td>\n",
       "      <td>NaN</td>\n",
       "      <td>NaN</td>\n",
       "      <td>NaN</td>\n",
       "    </tr>\n",
       "  </tbody>\n",
       "</table>\n",
       "<p>5 rows × 18275 columns</p>\n",
       "</div>"
      ],
      "text/plain": [
       "reviews_username      00sab00  01impala  02dakota  02deuce  0325home  \\\n",
       "id                                                                     \n",
       "AV13O1A8GV-KLJ3akUyj      NaN       NaN       NaN      NaN       NaN   \n",
       "AV14LG0R-jtxr-f38QfS      NaN       NaN       NaN      NaN       NaN   \n",
       "AV16khLE-jtxr-f38VFn      NaN       NaN       NaN      NaN       NaN   \n",
       "AV1YGDqsGV-KLJ3adc-O      NaN       NaN       NaN      NaN       NaN   \n",
       "AV1YIch7GV-KLJ3addeG      NaN       NaN       NaN      NaN       NaN   \n",
       "\n",
       "reviews_username      06stidriver  08dallas  09mommy11  1.11E+24  1085  ...  \\\n",
       "id                                                                      ...   \n",
       "AV13O1A8GV-KLJ3akUyj          NaN       NaN        NaN       NaN   NaN  ...   \n",
       "AV14LG0R-jtxr-f38QfS          NaN       NaN        NaN       NaN   NaN  ...   \n",
       "AV16khLE-jtxr-f38VFn          NaN       NaN        NaN       NaN   NaN  ...   \n",
       "AV1YGDqsGV-KLJ3adc-O          NaN       NaN        NaN       NaN   NaN  ...   \n",
       "AV1YIch7GV-KLJ3addeG          NaN       NaN        NaN       NaN   NaN  ...   \n",
       "\n",
       "reviews_username      zsarah  zsazsa  zubb  zuttle  zwithanx  zxcsdfd  zxjki  \\\n",
       "id                                                                             \n",
       "AV13O1A8GV-KLJ3akUyj     NaN     NaN   NaN     NaN       NaN      NaN    NaN   \n",
       "AV14LG0R-jtxr-f38QfS     NaN     NaN   NaN     NaN       NaN      NaN    NaN   \n",
       "AV16khLE-jtxr-f38VFn     NaN     NaN   NaN     NaN       NaN      NaN    NaN   \n",
       "AV1YGDqsGV-KLJ3adc-O     NaN     NaN   NaN     NaN       NaN      NaN    NaN   \n",
       "AV1YIch7GV-KLJ3addeG     NaN     NaN   NaN     NaN       NaN      NaN    NaN   \n",
       "\n",
       "reviews_username      zyiah4  zzdiane  zzz1127  \n",
       "id                                              \n",
       "AV13O1A8GV-KLJ3akUyj     NaN      NaN      NaN  \n",
       "AV14LG0R-jtxr-f38QfS     NaN      NaN      NaN  \n",
       "AV16khLE-jtxr-f38VFn     NaN      NaN      NaN  \n",
       "AV1YGDqsGV-KLJ3adc-O     NaN      NaN      NaN  \n",
       "AV1YIch7GV-KLJ3addeG     NaN      NaN      NaN  \n",
       "\n",
       "[5 rows x 18275 columns]"
      ]
     },
     "execution_count": 162,
     "metadata": {},
     "output_type": "execute_result"
    }
   ],
   "source": [
    "df_subtracted.head()"
   ]
  },
  {
   "cell_type": "markdown",
   "id": "0510d528",
   "metadata": {},
   "source": [
    "Finding the cosine similarity using pairwise distances approach"
   ]
  },
  {
   "cell_type": "code",
   "execution_count": 163,
   "id": "6a3b9858",
   "metadata": {},
   "outputs": [
    {
     "name": "stdout",
     "output_type": "stream",
     "text": [
      "[[0. 0. 0. ... 0. 0. 0.]\n",
      " [0. 0. 0. ... 0. 0. 0.]\n",
      " [0. 0. 1. ... 0. 0. 0.]\n",
      " ...\n",
      " [0. 0. 0. ... 1. 0. 0.]\n",
      " [0. 0. 0. ... 0. 1. 0.]\n",
      " [0. 0. 0. ... 0. 0. 1.]]\n"
     ]
    }
   ],
   "source": [
    "# Item Similarity Matrix\n",
    "item_correlation = 1 - pairwise_distances(df_subtracted.fillna(0), metric='cosine')\n",
    "item_correlation[np.isnan(item_correlation)] = 0\n",
    "print(item_correlation)"
   ]
  },
  {
   "cell_type": "markdown",
   "id": "a09c7081",
   "metadata": {},
   "source": [
    "Filtering the correlation only for which the value is greater than 0. (Positively correlated)"
   ]
  },
  {
   "cell_type": "code",
   "execution_count": 164,
   "id": "f40509f6",
   "metadata": {},
   "outputs": [
    {
     "data": {
      "text/plain": [
       "array([[0., 0., 0., ..., 0., 0., 0.],\n",
       "       [0., 0., 0., ..., 0., 0., 0.],\n",
       "       [0., 0., 1., ..., 0., 0., 0.],\n",
       "       ...,\n",
       "       [0., 0., 0., ..., 1., 0., 0.],\n",
       "       [0., 0., 0., ..., 0., 1., 0.],\n",
       "       [0., 0., 0., ..., 0., 0., 1.]])"
      ]
     },
     "execution_count": 164,
     "metadata": {},
     "output_type": "execute_result"
    }
   ],
   "source": [
    "item_correlation[item_correlation<0]=0\n",
    "item_correlation"
   ]
  },
  {
   "cell_type": "markdown",
   "id": "5552f9b0",
   "metadata": {},
   "source": [
    "## Prediction - Item Item"
   ]
  },
  {
   "cell_type": "code",
   "execution_count": 165,
   "id": "da373f3f",
   "metadata": {},
   "outputs": [
    {
     "data": {
      "text/plain": [
       "array([[0.        , 0.        , 0.        , ..., 0.00603917, 0.06485571,\n",
       "        0.        ],\n",
       "       [0.        , 0.        , 0.        , ..., 0.        , 0.        ,\n",
       "        0.        ],\n",
       "       [0.        , 0.        , 0.        , ..., 0.        , 0.        ,\n",
       "        0.        ],\n",
       "       ...,\n",
       "       [0.        , 0.        , 0.        , ..., 0.        , 0.        ,\n",
       "        0.0094556 ],\n",
       "       [0.        , 0.        , 0.        , ..., 0.00781596, 0.10809285,\n",
       "        0.        ],\n",
       "       [0.        , 0.        , 0.        , ..., 0.        , 0.        ,\n",
       "        0.00756448]])"
      ]
     },
     "execution_count": 165,
     "metadata": {},
     "output_type": "execute_result"
    }
   ],
   "source": [
    "item_predicted_ratings = np.dot((df_pivot.fillna(0).T),item_correlation)\n",
    "item_predicted_ratings"
   ]
  },
  {
   "cell_type": "code",
   "execution_count": 166,
   "id": "c27268c3",
   "metadata": {},
   "outputs": [
    {
     "data": {
      "text/plain": [
       "(18275, 256)"
      ]
     },
     "execution_count": 166,
     "metadata": {},
     "output_type": "execute_result"
    }
   ],
   "source": [
    "item_predicted_ratings.shape"
   ]
  },
  {
   "cell_type": "code",
   "execution_count": 167,
   "id": "40abbdb6",
   "metadata": {},
   "outputs": [
    {
     "data": {
      "text/plain": [
       "(18275, 256)"
      ]
     },
     "execution_count": 167,
     "metadata": {},
     "output_type": "execute_result"
    }
   ],
   "source": [
    "dummy_train.shape"
   ]
  },
  {
   "cell_type": "markdown",
   "id": "6d85a5d9",
   "metadata": {},
   "source": [
    "### Filtering the rating only for the products not rated by the user for recommendation"
   ]
  },
  {
   "cell_type": "code",
   "execution_count": 168,
   "id": "4c28df8b",
   "metadata": {},
   "outputs": [
    {
     "data": {
      "text/html": [
       "<div>\n",
       "<style scoped>\n",
       "    .dataframe tbody tr th:only-of-type {\n",
       "        vertical-align: middle;\n",
       "    }\n",
       "\n",
       "    .dataframe tbody tr th {\n",
       "        vertical-align: top;\n",
       "    }\n",
       "\n",
       "    .dataframe thead th {\n",
       "        text-align: right;\n",
       "    }\n",
       "</style>\n",
       "<table border=\"1\" class=\"dataframe\">\n",
       "  <thead>\n",
       "    <tr style=\"text-align: right;\">\n",
       "      <th>id</th>\n",
       "      <th>AV13O1A8GV-KLJ3akUyj</th>\n",
       "      <th>AV14LG0R-jtxr-f38QfS</th>\n",
       "      <th>AV16khLE-jtxr-f38VFn</th>\n",
       "      <th>AV1YGDqsGV-KLJ3adc-O</th>\n",
       "      <th>AV1YIch7GV-KLJ3addeG</th>\n",
       "      <th>AV1YlENIglJLPUi8IHsX</th>\n",
       "      <th>AV1YmBrdGV-KLJ3adewb</th>\n",
       "      <th>AV1YmDL9vKc47QAVgr7_</th>\n",
       "      <th>AV1Ymf_rglJLPUi8II2v</th>\n",
       "      <th>AV1Yn94nvKc47QAVgtst</th>\n",
       "      <th>...</th>\n",
       "      <th>AVpfrFDZLJeJML43Bmv0</th>\n",
       "      <th>AVpfrTyiLJeJML43BrSI</th>\n",
       "      <th>AVpfrfHF1cnluZ0-pRai</th>\n",
       "      <th>AVpfrgjFLJeJML43BvCc</th>\n",
       "      <th>AVpfsQoeilAPnD_xgfx5</th>\n",
       "      <th>AVpfshNsLJeJML43CB8q</th>\n",
       "      <th>AVpfthSailAPnD_xg3ON</th>\n",
       "      <th>AVpftikC1cnluZ0-p31V</th>\n",
       "      <th>AVpfv4TlilAPnD_xhjNS</th>\n",
       "      <th>AVpfvieo1cnluZ0-qdnu</th>\n",
       "    </tr>\n",
       "    <tr>\n",
       "      <th>reviews_username</th>\n",
       "      <th></th>\n",
       "      <th></th>\n",
       "      <th></th>\n",
       "      <th></th>\n",
       "      <th></th>\n",
       "      <th></th>\n",
       "      <th></th>\n",
       "      <th></th>\n",
       "      <th></th>\n",
       "      <th></th>\n",
       "      <th></th>\n",
       "      <th></th>\n",
       "      <th></th>\n",
       "      <th></th>\n",
       "      <th></th>\n",
       "      <th></th>\n",
       "      <th></th>\n",
       "      <th></th>\n",
       "      <th></th>\n",
       "      <th></th>\n",
       "      <th></th>\n",
       "    </tr>\n",
       "  </thead>\n",
       "  <tbody>\n",
       "    <tr>\n",
       "      <th>00sab00</th>\n",
       "      <td>0.0</td>\n",
       "      <td>0.0</td>\n",
       "      <td>0.0</td>\n",
       "      <td>0.006042</td>\n",
       "      <td>0.0</td>\n",
       "      <td>0.0</td>\n",
       "      <td>0.0</td>\n",
       "      <td>0.000000</td>\n",
       "      <td>0.000000</td>\n",
       "      <td>0.000000</td>\n",
       "      <td>...</td>\n",
       "      <td>0.0</td>\n",
       "      <td>0.000000</td>\n",
       "      <td>0.0</td>\n",
       "      <td>0.0</td>\n",
       "      <td>0.0</td>\n",
       "      <td>0.0</td>\n",
       "      <td>0.020509</td>\n",
       "      <td>0.006039</td>\n",
       "      <td>0.064856</td>\n",
       "      <td>0.000000</td>\n",
       "    </tr>\n",
       "    <tr>\n",
       "      <th>01impala</th>\n",
       "      <td>0.0</td>\n",
       "      <td>0.0</td>\n",
       "      <td>0.0</td>\n",
       "      <td>0.000000</td>\n",
       "      <td>0.0</td>\n",
       "      <td>0.0</td>\n",
       "      <td>0.0</td>\n",
       "      <td>0.000000</td>\n",
       "      <td>0.000000</td>\n",
       "      <td>0.000000</td>\n",
       "      <td>...</td>\n",
       "      <td>0.0</td>\n",
       "      <td>0.097645</td>\n",
       "      <td>0.0</td>\n",
       "      <td>0.0</td>\n",
       "      <td>0.0</td>\n",
       "      <td>0.0</td>\n",
       "      <td>0.000000</td>\n",
       "      <td>0.000000</td>\n",
       "      <td>0.000000</td>\n",
       "      <td>0.000000</td>\n",
       "    </tr>\n",
       "    <tr>\n",
       "      <th>02dakota</th>\n",
       "      <td>0.0</td>\n",
       "      <td>0.0</td>\n",
       "      <td>0.0</td>\n",
       "      <td>0.000000</td>\n",
       "      <td>0.0</td>\n",
       "      <td>0.0</td>\n",
       "      <td>0.0</td>\n",
       "      <td>0.000000</td>\n",
       "      <td>0.000000</td>\n",
       "      <td>0.000000</td>\n",
       "      <td>...</td>\n",
       "      <td>0.0</td>\n",
       "      <td>0.162741</td>\n",
       "      <td>0.0</td>\n",
       "      <td>0.0</td>\n",
       "      <td>0.0</td>\n",
       "      <td>0.0</td>\n",
       "      <td>0.000000</td>\n",
       "      <td>0.000000</td>\n",
       "      <td>0.000000</td>\n",
       "      <td>0.000000</td>\n",
       "    </tr>\n",
       "    <tr>\n",
       "      <th>02deuce</th>\n",
       "      <td>0.0</td>\n",
       "      <td>0.0</td>\n",
       "      <td>0.0</td>\n",
       "      <td>0.000000</td>\n",
       "      <td>0.0</td>\n",
       "      <td>0.0</td>\n",
       "      <td>0.0</td>\n",
       "      <td>0.000000</td>\n",
       "      <td>0.000000</td>\n",
       "      <td>0.000000</td>\n",
       "      <td>...</td>\n",
       "      <td>0.0</td>\n",
       "      <td>0.130193</td>\n",
       "      <td>0.0</td>\n",
       "      <td>0.0</td>\n",
       "      <td>0.0</td>\n",
       "      <td>0.0</td>\n",
       "      <td>0.000000</td>\n",
       "      <td>0.000000</td>\n",
       "      <td>0.000000</td>\n",
       "      <td>0.000000</td>\n",
       "    </tr>\n",
       "    <tr>\n",
       "      <th>0325home</th>\n",
       "      <td>0.0</td>\n",
       "      <td>0.0</td>\n",
       "      <td>0.0</td>\n",
       "      <td>0.000082</td>\n",
       "      <td>0.0</td>\n",
       "      <td>0.0</td>\n",
       "      <td>0.0</td>\n",
       "      <td>0.001244</td>\n",
       "      <td>0.002197</td>\n",
       "      <td>0.001808</td>\n",
       "      <td>...</td>\n",
       "      <td>0.0</td>\n",
       "      <td>0.000000</td>\n",
       "      <td>0.0</td>\n",
       "      <td>0.0</td>\n",
       "      <td>0.0</td>\n",
       "      <td>0.0</td>\n",
       "      <td>0.006084</td>\n",
       "      <td>0.000000</td>\n",
       "      <td>0.000000</td>\n",
       "      <td>0.009456</td>\n",
       "    </tr>\n",
       "  </tbody>\n",
       "</table>\n",
       "<p>5 rows × 256 columns</p>\n",
       "</div>"
      ],
      "text/plain": [
       "id                AV13O1A8GV-KLJ3akUyj  AV14LG0R-jtxr-f38QfS  \\\n",
       "reviews_username                                               \n",
       "00sab00                            0.0                   0.0   \n",
       "01impala                           0.0                   0.0   \n",
       "02dakota                           0.0                   0.0   \n",
       "02deuce                            0.0                   0.0   \n",
       "0325home                           0.0                   0.0   \n",
       "\n",
       "id                AV16khLE-jtxr-f38VFn  AV1YGDqsGV-KLJ3adc-O  \\\n",
       "reviews_username                                               \n",
       "00sab00                            0.0              0.006042   \n",
       "01impala                           0.0              0.000000   \n",
       "02dakota                           0.0              0.000000   \n",
       "02deuce                            0.0              0.000000   \n",
       "0325home                           0.0              0.000082   \n",
       "\n",
       "id                AV1YIch7GV-KLJ3addeG  AV1YlENIglJLPUi8IHsX  \\\n",
       "reviews_username                                               \n",
       "00sab00                            0.0                   0.0   \n",
       "01impala                           0.0                   0.0   \n",
       "02dakota                           0.0                   0.0   \n",
       "02deuce                            0.0                   0.0   \n",
       "0325home                           0.0                   0.0   \n",
       "\n",
       "id                AV1YmBrdGV-KLJ3adewb  AV1YmDL9vKc47QAVgr7_  \\\n",
       "reviews_username                                               \n",
       "00sab00                            0.0              0.000000   \n",
       "01impala                           0.0              0.000000   \n",
       "02dakota                           0.0              0.000000   \n",
       "02deuce                            0.0              0.000000   \n",
       "0325home                           0.0              0.001244   \n",
       "\n",
       "id                AV1Ymf_rglJLPUi8II2v  AV1Yn94nvKc47QAVgtst  ...  \\\n",
       "reviews_username                                              ...   \n",
       "00sab00                       0.000000              0.000000  ...   \n",
       "01impala                      0.000000              0.000000  ...   \n",
       "02dakota                      0.000000              0.000000  ...   \n",
       "02deuce                       0.000000              0.000000  ...   \n",
       "0325home                      0.002197              0.001808  ...   \n",
       "\n",
       "id                AVpfrFDZLJeJML43Bmv0  AVpfrTyiLJeJML43BrSI  \\\n",
       "reviews_username                                               \n",
       "00sab00                            0.0              0.000000   \n",
       "01impala                           0.0              0.097645   \n",
       "02dakota                           0.0              0.162741   \n",
       "02deuce                            0.0              0.130193   \n",
       "0325home                           0.0              0.000000   \n",
       "\n",
       "id                AVpfrfHF1cnluZ0-pRai  AVpfrgjFLJeJML43BvCc  \\\n",
       "reviews_username                                               \n",
       "00sab00                            0.0                   0.0   \n",
       "01impala                           0.0                   0.0   \n",
       "02dakota                           0.0                   0.0   \n",
       "02deuce                            0.0                   0.0   \n",
       "0325home                           0.0                   0.0   \n",
       "\n",
       "id                AVpfsQoeilAPnD_xgfx5  AVpfshNsLJeJML43CB8q  \\\n",
       "reviews_username                                               \n",
       "00sab00                            0.0                   0.0   \n",
       "01impala                           0.0                   0.0   \n",
       "02dakota                           0.0                   0.0   \n",
       "02deuce                            0.0                   0.0   \n",
       "0325home                           0.0                   0.0   \n",
       "\n",
       "id                AVpfthSailAPnD_xg3ON  AVpftikC1cnluZ0-p31V  \\\n",
       "reviews_username                                               \n",
       "00sab00                       0.020509              0.006039   \n",
       "01impala                      0.000000              0.000000   \n",
       "02dakota                      0.000000              0.000000   \n",
       "02deuce                       0.000000              0.000000   \n",
       "0325home                      0.006084              0.000000   \n",
       "\n",
       "id                AVpfv4TlilAPnD_xhjNS  AVpfvieo1cnluZ0-qdnu  \n",
       "reviews_username                                              \n",
       "00sab00                       0.064856              0.000000  \n",
       "01impala                      0.000000              0.000000  \n",
       "02dakota                      0.000000              0.000000  \n",
       "02deuce                       0.000000              0.000000  \n",
       "0325home                      0.000000              0.009456  \n",
       "\n",
       "[5 rows x 256 columns]"
      ]
     },
     "execution_count": 168,
     "metadata": {},
     "output_type": "execute_result"
    }
   ],
   "source": [
    "item_final_rating = np.multiply(item_predicted_ratings,dummy_train)\n",
    "item_final_rating.head()"
   ]
  },
  {
   "cell_type": "code",
   "execution_count": 169,
   "id": "ca14c280",
   "metadata": {},
   "outputs": [],
   "source": [
    "# Take a sample username as input.\n",
    "user_input = '00sab00'"
   ]
  },
  {
   "cell_type": "code",
   "execution_count": 170,
   "id": "fbfbac60",
   "metadata": {},
   "outputs": [
    {
     "data": {
      "text/html": [
       "<div>\n",
       "<style scoped>\n",
       "    .dataframe tbody tr th:only-of-type {\n",
       "        vertical-align: middle;\n",
       "    }\n",
       "\n",
       "    .dataframe tbody tr th {\n",
       "        vertical-align: top;\n",
       "    }\n",
       "\n",
       "    .dataframe thead th {\n",
       "        text-align: right;\n",
       "    }\n",
       "</style>\n",
       "<table border=\"1\" class=\"dataframe\">\n",
       "  <thead>\n",
       "    <tr style=\"text-align: right;\">\n",
       "      <th>id</th>\n",
       "      <th>AV13O1A8GV-KLJ3akUyj</th>\n",
       "      <th>AV14LG0R-jtxr-f38QfS</th>\n",
       "      <th>AV16khLE-jtxr-f38VFn</th>\n",
       "      <th>AV1YGDqsGV-KLJ3adc-O</th>\n",
       "      <th>AV1YIch7GV-KLJ3addeG</th>\n",
       "      <th>AV1YlENIglJLPUi8IHsX</th>\n",
       "      <th>AV1YmBrdGV-KLJ3adewb</th>\n",
       "      <th>AV1YmDL9vKc47QAVgr7_</th>\n",
       "      <th>AV1Ymf_rglJLPUi8II2v</th>\n",
       "      <th>AV1Yn94nvKc47QAVgtst</th>\n",
       "      <th>...</th>\n",
       "      <th>AVpfrFDZLJeJML43Bmv0</th>\n",
       "      <th>AVpfrTyiLJeJML43BrSI</th>\n",
       "      <th>AVpfrfHF1cnluZ0-pRai</th>\n",
       "      <th>AVpfrgjFLJeJML43BvCc</th>\n",
       "      <th>AVpfsQoeilAPnD_xgfx5</th>\n",
       "      <th>AVpfshNsLJeJML43CB8q</th>\n",
       "      <th>AVpfthSailAPnD_xg3ON</th>\n",
       "      <th>AVpftikC1cnluZ0-p31V</th>\n",
       "      <th>AVpfv4TlilAPnD_xhjNS</th>\n",
       "      <th>AVpfvieo1cnluZ0-qdnu</th>\n",
       "    </tr>\n",
       "    <tr>\n",
       "      <th>reviews_username</th>\n",
       "      <th></th>\n",
       "      <th></th>\n",
       "      <th></th>\n",
       "      <th></th>\n",
       "      <th></th>\n",
       "      <th></th>\n",
       "      <th></th>\n",
       "      <th></th>\n",
       "      <th></th>\n",
       "      <th></th>\n",
       "      <th></th>\n",
       "      <th></th>\n",
       "      <th></th>\n",
       "      <th></th>\n",
       "      <th></th>\n",
       "      <th></th>\n",
       "      <th></th>\n",
       "      <th></th>\n",
       "      <th></th>\n",
       "      <th></th>\n",
       "      <th></th>\n",
       "    </tr>\n",
       "  </thead>\n",
       "  <tbody>\n",
       "    <tr>\n",
       "      <th>00sab00</th>\n",
       "      <td>0.0</td>\n",
       "      <td>0.0</td>\n",
       "      <td>0.0</td>\n",
       "      <td>0.006042</td>\n",
       "      <td>0.0</td>\n",
       "      <td>0.0</td>\n",
       "      <td>0.0</td>\n",
       "      <td>0.0</td>\n",
       "      <td>0.0</td>\n",
       "      <td>0.0</td>\n",
       "      <td>...</td>\n",
       "      <td>0.0</td>\n",
       "      <td>0.000000</td>\n",
       "      <td>0.0</td>\n",
       "      <td>0.0</td>\n",
       "      <td>0.0</td>\n",
       "      <td>0.0</td>\n",
       "      <td>0.020509</td>\n",
       "      <td>0.006039</td>\n",
       "      <td>0.064856</td>\n",
       "      <td>0.0</td>\n",
       "    </tr>\n",
       "    <tr>\n",
       "      <th>01impala</th>\n",
       "      <td>0.0</td>\n",
       "      <td>0.0</td>\n",
       "      <td>0.0</td>\n",
       "      <td>0.000000</td>\n",
       "      <td>0.0</td>\n",
       "      <td>0.0</td>\n",
       "      <td>0.0</td>\n",
       "      <td>0.0</td>\n",
       "      <td>0.0</td>\n",
       "      <td>0.0</td>\n",
       "      <td>...</td>\n",
       "      <td>0.0</td>\n",
       "      <td>0.097645</td>\n",
       "      <td>0.0</td>\n",
       "      <td>0.0</td>\n",
       "      <td>0.0</td>\n",
       "      <td>0.0</td>\n",
       "      <td>0.000000</td>\n",
       "      <td>0.000000</td>\n",
       "      <td>0.000000</td>\n",
       "      <td>0.0</td>\n",
       "    </tr>\n",
       "  </tbody>\n",
       "</table>\n",
       "<p>2 rows × 256 columns</p>\n",
       "</div>"
      ],
      "text/plain": [
       "id                AV13O1A8GV-KLJ3akUyj  AV14LG0R-jtxr-f38QfS  \\\n",
       "reviews_username                                               \n",
       "00sab00                            0.0                   0.0   \n",
       "01impala                           0.0                   0.0   \n",
       "\n",
       "id                AV16khLE-jtxr-f38VFn  AV1YGDqsGV-KLJ3adc-O  \\\n",
       "reviews_username                                               \n",
       "00sab00                            0.0              0.006042   \n",
       "01impala                           0.0              0.000000   \n",
       "\n",
       "id                AV1YIch7GV-KLJ3addeG  AV1YlENIglJLPUi8IHsX  \\\n",
       "reviews_username                                               \n",
       "00sab00                            0.0                   0.0   \n",
       "01impala                           0.0                   0.0   \n",
       "\n",
       "id                AV1YmBrdGV-KLJ3adewb  AV1YmDL9vKc47QAVgr7_  \\\n",
       "reviews_username                                               \n",
       "00sab00                            0.0                   0.0   \n",
       "01impala                           0.0                   0.0   \n",
       "\n",
       "id                AV1Ymf_rglJLPUi8II2v  AV1Yn94nvKc47QAVgtst  ...  \\\n",
       "reviews_username                                              ...   \n",
       "00sab00                            0.0                   0.0  ...   \n",
       "01impala                           0.0                   0.0  ...   \n",
       "\n",
       "id                AVpfrFDZLJeJML43Bmv0  AVpfrTyiLJeJML43BrSI  \\\n",
       "reviews_username                                               \n",
       "00sab00                            0.0              0.000000   \n",
       "01impala                           0.0              0.097645   \n",
       "\n",
       "id                AVpfrfHF1cnluZ0-pRai  AVpfrgjFLJeJML43BvCc  \\\n",
       "reviews_username                                               \n",
       "00sab00                            0.0                   0.0   \n",
       "01impala                           0.0                   0.0   \n",
       "\n",
       "id                AVpfsQoeilAPnD_xgfx5  AVpfshNsLJeJML43CB8q  \\\n",
       "reviews_username                                               \n",
       "00sab00                            0.0                   0.0   \n",
       "01impala                           0.0                   0.0   \n",
       "\n",
       "id                AVpfthSailAPnD_xg3ON  AVpftikC1cnluZ0-p31V  \\\n",
       "reviews_username                                               \n",
       "00sab00                       0.020509              0.006039   \n",
       "01impala                      0.000000              0.000000   \n",
       "\n",
       "id                AVpfv4TlilAPnD_xhjNS  AVpfvieo1cnluZ0-qdnu  \n",
       "reviews_username                                              \n",
       "00sab00                       0.064856                   0.0  \n",
       "01impala                      0.000000                   0.0  \n",
       "\n",
       "[2 rows x 256 columns]"
      ]
     },
     "execution_count": 170,
     "metadata": {},
     "output_type": "execute_result"
    }
   ],
   "source": [
    "item_final_rating.head(2)"
   ]
  },
  {
   "cell_type": "code",
   "execution_count": 171,
   "id": "2f60c472",
   "metadata": {},
   "outputs": [
    {
     "data": {
      "text/html": [
       "<div>\n",
       "<style scoped>\n",
       "    .dataframe tbody tr th:only-of-type {\n",
       "        vertical-align: middle;\n",
       "    }\n",
       "\n",
       "    .dataframe tbody tr th {\n",
       "        vertical-align: top;\n",
       "    }\n",
       "\n",
       "    .dataframe thead th {\n",
       "        text-align: right;\n",
       "    }\n",
       "</style>\n",
       "<table border=\"1\" class=\"dataframe\">\n",
       "  <thead>\n",
       "    <tr style=\"text-align: right;\">\n",
       "      <th></th>\n",
       "      <th>Product Id</th>\n",
       "      <th>cosine_similarity_score</th>\n",
       "    </tr>\n",
       "  </thead>\n",
       "  <tbody>\n",
       "    <tr>\n",
       "      <th>0</th>\n",
       "      <td>AVpfE7puilAPnD_xUcCW</td>\n",
       "      <td>0.147125</td>\n",
       "    </tr>\n",
       "    <tr>\n",
       "      <th>1</th>\n",
       "      <td>AVpfv4TlilAPnD_xhjNS</td>\n",
       "      <td>0.064856</td>\n",
       "    </tr>\n",
       "    <tr>\n",
       "      <th>2</th>\n",
       "      <td>AVpfJcHuLJeJML433ZrY</td>\n",
       "      <td>0.052161</td>\n",
       "    </tr>\n",
       "    <tr>\n",
       "      <th>3</th>\n",
       "      <td>AVpf0thK1cnluZ0-r8vR</td>\n",
       "      <td>0.036554</td>\n",
       "    </tr>\n",
       "    <tr>\n",
       "      <th>4</th>\n",
       "      <td>AVpe6PCDLJeJML43yFQH</td>\n",
       "      <td>0.032108</td>\n",
       "    </tr>\n",
       "    <tr>\n",
       "      <th>5</th>\n",
       "      <td>AVpe_dxlilAPnD_xSiHI</td>\n",
       "      <td>0.030764</td>\n",
       "    </tr>\n",
       "    <tr>\n",
       "      <th>6</th>\n",
       "      <td>AVpfQtEm1cnluZ0-hUpe</td>\n",
       "      <td>0.027387</td>\n",
       "    </tr>\n",
       "    <tr>\n",
       "      <th>7</th>\n",
       "      <td>AVpfHf4wLJeJML432vqK</td>\n",
       "      <td>0.022930</td>\n",
       "    </tr>\n",
       "    <tr>\n",
       "      <th>8</th>\n",
       "      <td>AVpfthSailAPnD_xg3ON</td>\n",
       "      <td>0.020509</td>\n",
       "    </tr>\n",
       "    <tr>\n",
       "      <th>9</th>\n",
       "      <td>AVpe6FfKilAPnD_xQmHi</td>\n",
       "      <td>0.020308</td>\n",
       "    </tr>\n",
       "    <tr>\n",
       "      <th>10</th>\n",
       "      <td>AVpe_pDG1cnluZ0-bjSf</td>\n",
       "      <td>0.017473</td>\n",
       "    </tr>\n",
       "    <tr>\n",
       "      <th>11</th>\n",
       "      <td>AVpf5CnILJeJML43FjaU</td>\n",
       "      <td>0.016342</td>\n",
       "    </tr>\n",
       "    <tr>\n",
       "      <th>12</th>\n",
       "      <td>AVpe4pnBilAPnD_xQDeb</td>\n",
       "      <td>0.016089</td>\n",
       "    </tr>\n",
       "    <tr>\n",
       "      <th>13</th>\n",
       "      <td>AVpe6n2_LJeJML43yOgE</td>\n",
       "      <td>0.016038</td>\n",
       "    </tr>\n",
       "    <tr>\n",
       "      <th>14</th>\n",
       "      <td>AVpfoSS51cnluZ0-oVH9</td>\n",
       "      <td>0.015625</td>\n",
       "    </tr>\n",
       "    <tr>\n",
       "      <th>15</th>\n",
       "      <td>AVpfOmKwLJeJML435GM7</td>\n",
       "      <td>0.015489</td>\n",
       "    </tr>\n",
       "    <tr>\n",
       "      <th>16</th>\n",
       "      <td>AVpfbraG1cnluZ0-kqnn</td>\n",
       "      <td>0.014867</td>\n",
       "    </tr>\n",
       "    <tr>\n",
       "      <th>17</th>\n",
       "      <td>AVpfOIrkilAPnD_xXgDG</td>\n",
       "      <td>0.014704</td>\n",
       "    </tr>\n",
       "    <tr>\n",
       "      <th>18</th>\n",
       "      <td>AVpe8gsILJeJML43y6Ed</td>\n",
       "      <td>0.014632</td>\n",
       "    </tr>\n",
       "    <tr>\n",
       "      <th>19</th>\n",
       "      <td>AVpe31o71cnluZ0-YrSD</td>\n",
       "      <td>0.014597</td>\n",
       "    </tr>\n",
       "  </tbody>\n",
       "</table>\n",
       "</div>"
      ],
      "text/plain": [
       "              Product Id  cosine_similarity_score\n",
       "0   AVpfE7puilAPnD_xUcCW                 0.147125\n",
       "1   AVpfv4TlilAPnD_xhjNS                 0.064856\n",
       "2   AVpfJcHuLJeJML433ZrY                 0.052161\n",
       "3   AVpf0thK1cnluZ0-r8vR                 0.036554\n",
       "4   AVpe6PCDLJeJML43yFQH                 0.032108\n",
       "5   AVpe_dxlilAPnD_xSiHI                 0.030764\n",
       "6   AVpfQtEm1cnluZ0-hUpe                 0.027387\n",
       "7   AVpfHf4wLJeJML432vqK                 0.022930\n",
       "8   AVpfthSailAPnD_xg3ON                 0.020509\n",
       "9   AVpe6FfKilAPnD_xQmHi                 0.020308\n",
       "10  AVpe_pDG1cnluZ0-bjSf                 0.017473\n",
       "11  AVpf5CnILJeJML43FjaU                 0.016342\n",
       "12  AVpe4pnBilAPnD_xQDeb                 0.016089\n",
       "13  AVpe6n2_LJeJML43yOgE                 0.016038\n",
       "14  AVpfoSS51cnluZ0-oVH9                 0.015625\n",
       "15  AVpfOmKwLJeJML435GM7                 0.015489\n",
       "16  AVpfbraG1cnluZ0-kqnn                 0.014867\n",
       "17  AVpfOIrkilAPnD_xXgDG                 0.014704\n",
       "18  AVpe8gsILJeJML43y6Ed                 0.014632\n",
       "19  AVpe31o71cnluZ0-YrSD                 0.014597"
      ]
     },
     "execution_count": 171,
     "metadata": {},
     "output_type": "execute_result"
    }
   ],
   "source": [
    "top20_item_recommendations = item_final_rating.loc[user_input].sort_values(ascending=False)[0:20]\n",
    "df_top20_item_recommendations = pd.DataFrame({'Product Id': top20_item_recommendations.index, 'cosine_similarity_score' : top20_item_recommendations})\n",
    "df_top20_item_recommendations.reset_index(drop=True, inplace=True)\n",
    "df_top20_item_recommendations"
   ]
  },
  {
   "cell_type": "markdown",
   "id": "2b07acfd",
   "metadata": {},
   "source": [
    "## Finding the Top 20 products that a user is most likely to purchase based on the ratings (item-item based recommendation)"
   ]
  },
  {
   "cell_type": "code",
   "execution_count": 172,
   "id": "14323112",
   "metadata": {},
   "outputs": [
    {
     "data": {
      "text/html": [
       "<div>\n",
       "<style scoped>\n",
       "    .dataframe tbody tr th:only-of-type {\n",
       "        vertical-align: middle;\n",
       "    }\n",
       "\n",
       "    .dataframe tbody tr th {\n",
       "        vertical-align: top;\n",
       "    }\n",
       "\n",
       "    .dataframe thead th {\n",
       "        text-align: right;\n",
       "    }\n",
       "</style>\n",
       "<table border=\"1\" class=\"dataframe\">\n",
       "  <thead>\n",
       "    <tr style=\"text-align: right;\">\n",
       "      <th></th>\n",
       "      <th>Product Id</th>\n",
       "      <th>name</th>\n",
       "      <th>cosine_similarity_score</th>\n",
       "    </tr>\n",
       "  </thead>\n",
       "  <tbody>\n",
       "    <tr>\n",
       "      <th>11</th>\n",
       "      <td>AVpfE7puilAPnD_xUcCW</td>\n",
       "      <td>Bilbao Nightstand Gray Oak - South Shore</td>\n",
       "      <td>0.147125</td>\n",
       "    </tr>\n",
       "    <tr>\n",
       "      <th>19</th>\n",
       "      <td>AVpfv4TlilAPnD_xhjNS</td>\n",
       "      <td>Various - Red Hot Blue:Tribute To Cole Porter ...</td>\n",
       "      <td>0.064856</td>\n",
       "    </tr>\n",
       "    <tr>\n",
       "      <th>13</th>\n",
       "      <td>AVpfJcHuLJeJML433ZrY</td>\n",
       "      <td>Equals (blu-Ray)</td>\n",
       "      <td>0.052161</td>\n",
       "    </tr>\n",
       "    <tr>\n",
       "      <th>8</th>\n",
       "      <td>AVpf0thK1cnluZ0-r8vR</td>\n",
       "      <td>100:Complete First Season (blu-Ray)</td>\n",
       "      <td>0.036554</td>\n",
       "    </tr>\n",
       "    <tr>\n",
       "      <th>6</th>\n",
       "      <td>AVpe6PCDLJeJML43yFQH</td>\n",
       "      <td>Wagan Smartac 80watt Inverter With Usb</td>\n",
       "      <td>0.032108</td>\n",
       "    </tr>\n",
       "    <tr>\n",
       "      <th>0</th>\n",
       "      <td>AVpe_dxlilAPnD_xSiHI</td>\n",
       "      <td>The Seaweed Bath Co. Argan Conditioner, Smooth...</td>\n",
       "      <td>0.030764</td>\n",
       "    </tr>\n",
       "    <tr>\n",
       "      <th>17</th>\n",
       "      <td>AVpfQtEm1cnluZ0-hUpe</td>\n",
       "      <td>Jolly Time Select Premium Yellow Pop Corn</td>\n",
       "      <td>0.027387</td>\n",
       "    </tr>\n",
       "    <tr>\n",
       "      <th>12</th>\n",
       "      <td>AVpfHf4wLJeJML432vqK</td>\n",
       "      <td>Trend Lab Park Nursing Cover - Paisley</td>\n",
       "      <td>0.022930</td>\n",
       "    </tr>\n",
       "    <tr>\n",
       "      <th>18</th>\n",
       "      <td>AVpfthSailAPnD_xg3ON</td>\n",
       "      <td>Musselman Apple Sauce, Cinnamon, 48oz</td>\n",
       "      <td>0.020509</td>\n",
       "    </tr>\n",
       "    <tr>\n",
       "      <th>4</th>\n",
       "      <td>AVpe6FfKilAPnD_xQmHi</td>\n",
       "      <td>Chex Muddy Buddies Brownie Supreme Snack Mix</td>\n",
       "      <td>0.020308</td>\n",
       "    </tr>\n",
       "    <tr>\n",
       "      <th>1</th>\n",
       "      <td>AVpe_pDG1cnluZ0-bjSf</td>\n",
       "      <td>Bi-O-kleen Spray &amp; Wipe All Purpose Cleaner</td>\n",
       "      <td>0.017473</td>\n",
       "    </tr>\n",
       "    <tr>\n",
       "      <th>9</th>\n",
       "      <td>AVpf5CnILJeJML43FjaU</td>\n",
       "      <td>WeatherTech 40647 14-15 Outlander Cargo Liners...</td>\n",
       "      <td>0.016342</td>\n",
       "    </tr>\n",
       "    <tr>\n",
       "      <th>3</th>\n",
       "      <td>AVpe4pnBilAPnD_xQDeb</td>\n",
       "      <td>Moom Express Pre Waxed Strips For Face &amp; Bikini</td>\n",
       "      <td>0.016089</td>\n",
       "    </tr>\n",
       "    <tr>\n",
       "      <th>5</th>\n",
       "      <td>AVpe6n2_LJeJML43yOgE</td>\n",
       "      <td>Tresemme Kertatin Smooth Infusing Conditioning</td>\n",
       "      <td>0.016038</td>\n",
       "    </tr>\n",
       "    <tr>\n",
       "      <th>16</th>\n",
       "      <td>AVpfoSS51cnluZ0-oVH9</td>\n",
       "      <td>Cheetos Crunchy Flamin' Hot Cheese Flavored Sn...</td>\n",
       "      <td>0.015625</td>\n",
       "    </tr>\n",
       "    <tr>\n",
       "      <th>15</th>\n",
       "      <td>AVpfOmKwLJeJML435GM7</td>\n",
       "      <td>Clear Scalp &amp; Hair Therapy Total Care Nourishi...</td>\n",
       "      <td>0.015489</td>\n",
       "    </tr>\n",
       "    <tr>\n",
       "      <th>10</th>\n",
       "      <td>AVpfbraG1cnluZ0-kqnn</td>\n",
       "      <td>Kind Nut Delight Bar</td>\n",
       "      <td>0.014867</td>\n",
       "    </tr>\n",
       "    <tr>\n",
       "      <th>14</th>\n",
       "      <td>AVpfOIrkilAPnD_xXgDG</td>\n",
       "      <td>Alex Cross (dvdvideo)</td>\n",
       "      <td>0.014704</td>\n",
       "    </tr>\n",
       "    <tr>\n",
       "      <th>7</th>\n",
       "      <td>AVpe8gsILJeJML43y6Ed</td>\n",
       "      <td>Pendaflex174 Divide It Up File Folder, Multi S...</td>\n",
       "      <td>0.014632</td>\n",
       "    </tr>\n",
       "    <tr>\n",
       "      <th>2</th>\n",
       "      <td>AVpe31o71cnluZ0-YrSD</td>\n",
       "      <td>Dark Shadows (includes Digital Copy) (ultravio...</td>\n",
       "      <td>0.014597</td>\n",
       "    </tr>\n",
       "  </tbody>\n",
       "</table>\n",
       "</div>"
      ],
      "text/plain": [
       "              Product Id                                               name  \\\n",
       "11  AVpfE7puilAPnD_xUcCW           Bilbao Nightstand Gray Oak - South Shore   \n",
       "19  AVpfv4TlilAPnD_xhjNS  Various - Red Hot Blue:Tribute To Cole Porter ...   \n",
       "13  AVpfJcHuLJeJML433ZrY                                   Equals (blu-Ray)   \n",
       "8   AVpf0thK1cnluZ0-r8vR                100:Complete First Season (blu-Ray)   \n",
       "6   AVpe6PCDLJeJML43yFQH             Wagan Smartac 80watt Inverter With Usb   \n",
       "0   AVpe_dxlilAPnD_xSiHI  The Seaweed Bath Co. Argan Conditioner, Smooth...   \n",
       "17  AVpfQtEm1cnluZ0-hUpe          Jolly Time Select Premium Yellow Pop Corn   \n",
       "12  AVpfHf4wLJeJML432vqK             Trend Lab Park Nursing Cover - Paisley   \n",
       "18  AVpfthSailAPnD_xg3ON              Musselman Apple Sauce, Cinnamon, 48oz   \n",
       "4   AVpe6FfKilAPnD_xQmHi       Chex Muddy Buddies Brownie Supreme Snack Mix   \n",
       "1   AVpe_pDG1cnluZ0-bjSf        Bi-O-kleen Spray & Wipe All Purpose Cleaner   \n",
       "9   AVpf5CnILJeJML43FjaU  WeatherTech 40647 14-15 Outlander Cargo Liners...   \n",
       "3   AVpe4pnBilAPnD_xQDeb    Moom Express Pre Waxed Strips For Face & Bikini   \n",
       "5   AVpe6n2_LJeJML43yOgE     Tresemme Kertatin Smooth Infusing Conditioning   \n",
       "16  AVpfoSS51cnluZ0-oVH9  Cheetos Crunchy Flamin' Hot Cheese Flavored Sn...   \n",
       "15  AVpfOmKwLJeJML435GM7  Clear Scalp & Hair Therapy Total Care Nourishi...   \n",
       "10  AVpfbraG1cnluZ0-kqnn                               Kind Nut Delight Bar   \n",
       "14  AVpfOIrkilAPnD_xXgDG                              Alex Cross (dvdvideo)   \n",
       "7   AVpe8gsILJeJML43y6Ed  Pendaflex174 Divide It Up File Folder, Multi S...   \n",
       "2   AVpe31o71cnluZ0-YrSD  Dark Shadows (includes Digital Copy) (ultravio...   \n",
       "\n",
       "    cosine_similarity_score  \n",
       "11                 0.147125  \n",
       "19                 0.064856  \n",
       "13                 0.052161  \n",
       "8                  0.036554  \n",
       "6                  0.032108  \n",
       "0                  0.030764  \n",
       "17                 0.027387  \n",
       "12                 0.022930  \n",
       "18                 0.020509  \n",
       "4                  0.020308  \n",
       "1                  0.017473  \n",
       "9                  0.016342  \n",
       "3                  0.016089  \n",
       "5                  0.016038  \n",
       "16                 0.015625  \n",
       "15                 0.015489  \n",
       "10                 0.014867  \n",
       "14                 0.014704  \n",
       "7                  0.014632  \n",
       "2                  0.014597  "
      ]
     },
     "execution_count": 172,
     "metadata": {},
     "output_type": "execute_result"
    }
   ],
   "source": [
    "top20_item_rec = pd.merge(df_recom, df_top20_item_recommendations,left_on='id',right_on='Product Id', how = 'inner')[['Product Id', 'name', 'cosine_similarity_score']].drop_duplicates()\n",
    "top20_item_rec.reset_index(drop=True, inplace=True)\n",
    "top20_item_rec.sort_values(by='cosine_similarity_score', ascending=False)"
   ]
  },
  {
   "cell_type": "markdown",
   "id": "f71f3cf1",
   "metadata": {},
   "source": [
    "## Evaluation - Item Item"
   ]
  },
  {
   "cell_type": "markdown",
   "id": "e6e9b6e5",
   "metadata": {},
   "source": [
    "Evaluation will we same as we have seen above for the prediction. The only difference being, we will evaluate for the product already rated by the user insead of predicting it for the product not rated by the user."
   ]
  },
  {
   "cell_type": "code",
   "execution_count": 173,
   "id": "0e6285ae",
   "metadata": {},
   "outputs": [
    {
     "data": {
      "text/plain": [
       "Index(['id', 'name', 'reviews_rating', 'reviews_username'], dtype='object')"
      ]
     },
     "execution_count": 173,
     "metadata": {},
     "output_type": "execute_result"
    }
   ],
   "source": [
    "test.columns"
   ]
  },
  {
   "cell_type": "code",
   "execution_count": 174,
   "id": "26003909",
   "metadata": {},
   "outputs": [
    {
     "data": {
      "text/plain": [
       "(8966, 4)"
      ]
     },
     "execution_count": 174,
     "metadata": {},
     "output_type": "execute_result"
    }
   ],
   "source": [
    "# Find out the common products of test and train dataset.\n",
    "common = test[test.id.isin(train.id)]\n",
    "common.shape"
   ]
  },
  {
   "cell_type": "code",
   "execution_count": 175,
   "id": "9bfcf622",
   "metadata": {},
   "outputs": [
    {
     "data": {
      "text/html": [
       "<div>\n",
       "<style scoped>\n",
       "    .dataframe tbody tr th:only-of-type {\n",
       "        vertical-align: middle;\n",
       "    }\n",
       "\n",
       "    .dataframe tbody tr th {\n",
       "        vertical-align: top;\n",
       "    }\n",
       "\n",
       "    .dataframe thead th {\n",
       "        text-align: right;\n",
       "    }\n",
       "</style>\n",
       "<table border=\"1\" class=\"dataframe\">\n",
       "  <thead>\n",
       "    <tr style=\"text-align: right;\">\n",
       "      <th></th>\n",
       "      <th>id</th>\n",
       "      <th>name</th>\n",
       "      <th>reviews_rating</th>\n",
       "      <th>reviews_username</th>\n",
       "    </tr>\n",
       "  </thead>\n",
       "  <tbody>\n",
       "    <tr>\n",
       "      <th>25787</th>\n",
       "      <td>AVpfPaoqLJeJML435Xk9</td>\n",
       "      <td>Godzilla 3d Includes Digital Copy Ultraviolet ...</td>\n",
       "      <td>5</td>\n",
       "      <td>youknowhowitgoes</td>\n",
       "    </tr>\n",
       "    <tr>\n",
       "      <th>12627</th>\n",
       "      <td>AVpf3VOfilAPnD_xjpun</td>\n",
       "      <td>Clorox Disinfecting Wipes Value Pack Scented 1...</td>\n",
       "      <td>5</td>\n",
       "      <td>ashleydale00</td>\n",
       "    </tr>\n",
       "  </tbody>\n",
       "</table>\n",
       "</div>"
      ],
      "text/plain": [
       "                         id  \\\n",
       "25787  AVpfPaoqLJeJML435Xk9   \n",
       "12627  AVpf3VOfilAPnD_xjpun   \n",
       "\n",
       "                                                    name  reviews_rating  \\\n",
       "25787  Godzilla 3d Includes Digital Copy Ultraviolet ...               5   \n",
       "12627  Clorox Disinfecting Wipes Value Pack Scented 1...               5   \n",
       "\n",
       "       reviews_username  \n",
       "25787  youknowhowitgoes  \n",
       "12627      ashleydale00  "
      ]
     },
     "execution_count": 175,
     "metadata": {},
     "output_type": "execute_result"
    }
   ],
   "source": [
    "common.head(2)"
   ]
  },
  {
   "cell_type": "code",
   "execution_count": 176,
   "id": "9b144608",
   "metadata": {},
   "outputs": [
    {
     "data": {
      "text/plain": [
       "(195, 8318)"
      ]
     },
     "execution_count": 176,
     "metadata": {},
     "output_type": "execute_result"
    }
   ],
   "source": [
    "common_item_based_matrix = common.pivot_table(index='reviews_username', columns='id', values='reviews_rating').T\n",
    "common_item_based_matrix.shape"
   ]
  },
  {
   "cell_type": "code",
   "execution_count": 177,
   "id": "d146a56b",
   "metadata": {},
   "outputs": [
    {
     "data": {
      "text/html": [
       "<div>\n",
       "<style scoped>\n",
       "    .dataframe tbody tr th:only-of-type {\n",
       "        vertical-align: middle;\n",
       "    }\n",
       "\n",
       "    .dataframe tbody tr th {\n",
       "        vertical-align: top;\n",
       "    }\n",
       "\n",
       "    .dataframe thead th {\n",
       "        text-align: right;\n",
       "    }\n",
       "</style>\n",
       "<table border=\"1\" class=\"dataframe\">\n",
       "  <thead>\n",
       "    <tr style=\"text-align: right;\">\n",
       "      <th></th>\n",
       "      <th>0</th>\n",
       "      <th>1</th>\n",
       "      <th>2</th>\n",
       "      <th>3</th>\n",
       "      <th>4</th>\n",
       "      <th>5</th>\n",
       "      <th>6</th>\n",
       "      <th>7</th>\n",
       "      <th>8</th>\n",
       "      <th>9</th>\n",
       "      <th>...</th>\n",
       "      <th>246</th>\n",
       "      <th>247</th>\n",
       "      <th>248</th>\n",
       "      <th>249</th>\n",
       "      <th>250</th>\n",
       "      <th>251</th>\n",
       "      <th>252</th>\n",
       "      <th>253</th>\n",
       "      <th>254</th>\n",
       "      <th>255</th>\n",
       "    </tr>\n",
       "  </thead>\n",
       "  <tbody>\n",
       "    <tr>\n",
       "      <th>0</th>\n",
       "      <td>0.0</td>\n",
       "      <td>0.0</td>\n",
       "      <td>0.0</td>\n",
       "      <td>0.0</td>\n",
       "      <td>0.0</td>\n",
       "      <td>0.0</td>\n",
       "      <td>0.0</td>\n",
       "      <td>0.0</td>\n",
       "      <td>0.0</td>\n",
       "      <td>0.0</td>\n",
       "      <td>...</td>\n",
       "      <td>0.0</td>\n",
       "      <td>0.0</td>\n",
       "      <td>0.0</td>\n",
       "      <td>0.0</td>\n",
       "      <td>0.0</td>\n",
       "      <td>0.0</td>\n",
       "      <td>0.0</td>\n",
       "      <td>0.0</td>\n",
       "      <td>0.0</td>\n",
       "      <td>0.0</td>\n",
       "    </tr>\n",
       "    <tr>\n",
       "      <th>1</th>\n",
       "      <td>0.0</td>\n",
       "      <td>0.0</td>\n",
       "      <td>0.0</td>\n",
       "      <td>0.0</td>\n",
       "      <td>0.0</td>\n",
       "      <td>0.0</td>\n",
       "      <td>0.0</td>\n",
       "      <td>0.0</td>\n",
       "      <td>0.0</td>\n",
       "      <td>0.0</td>\n",
       "      <td>...</td>\n",
       "      <td>0.0</td>\n",
       "      <td>0.0</td>\n",
       "      <td>0.0</td>\n",
       "      <td>0.0</td>\n",
       "      <td>0.0</td>\n",
       "      <td>0.0</td>\n",
       "      <td>0.0</td>\n",
       "      <td>0.0</td>\n",
       "      <td>0.0</td>\n",
       "      <td>0.0</td>\n",
       "    </tr>\n",
       "  </tbody>\n",
       "</table>\n",
       "<p>2 rows × 256 columns</p>\n",
       "</div>"
      ],
      "text/plain": [
       "   0    1    2    3    4    5    6    7    8    9    ...  246  247  248  249  \\\n",
       "0  0.0  0.0  0.0  0.0  0.0  0.0  0.0  0.0  0.0  0.0  ...  0.0  0.0  0.0  0.0   \n",
       "1  0.0  0.0  0.0  0.0  0.0  0.0  0.0  0.0  0.0  0.0  ...  0.0  0.0  0.0  0.0   \n",
       "\n",
       "   250  251  252  253  254  255  \n",
       "0  0.0  0.0  0.0  0.0  0.0  0.0  \n",
       "1  0.0  0.0  0.0  0.0  0.0  0.0  \n",
       "\n",
       "[2 rows x 256 columns]"
      ]
     },
     "execution_count": 177,
     "metadata": {},
     "output_type": "execute_result"
    }
   ],
   "source": [
    "item_correlation_df = pd.DataFrame(item_correlation)\n",
    "item_correlation_df.head(2)"
   ]
  },
  {
   "cell_type": "code",
   "execution_count": 178,
   "id": "ca150e62",
   "metadata": {},
   "outputs": [
    {
     "data": {
      "text/html": [
       "<div>\n",
       "<style scoped>\n",
       "    .dataframe tbody tr th:only-of-type {\n",
       "        vertical-align: middle;\n",
       "    }\n",
       "\n",
       "    .dataframe tbody tr th {\n",
       "        vertical-align: top;\n",
       "    }\n",
       "\n",
       "    .dataframe thead th {\n",
       "        text-align: right;\n",
       "    }\n",
       "</style>\n",
       "<table border=\"1\" class=\"dataframe\">\n",
       "  <thead>\n",
       "    <tr style=\"text-align: right;\">\n",
       "      <th></th>\n",
       "      <th>0</th>\n",
       "      <th>1</th>\n",
       "      <th>2</th>\n",
       "      <th>3</th>\n",
       "      <th>4</th>\n",
       "      <th>5</th>\n",
       "      <th>6</th>\n",
       "      <th>7</th>\n",
       "      <th>8</th>\n",
       "      <th>9</th>\n",
       "      <th>...</th>\n",
       "      <th>246</th>\n",
       "      <th>247</th>\n",
       "      <th>248</th>\n",
       "      <th>249</th>\n",
       "      <th>250</th>\n",
       "      <th>251</th>\n",
       "      <th>252</th>\n",
       "      <th>253</th>\n",
       "      <th>254</th>\n",
       "      <th>255</th>\n",
       "    </tr>\n",
       "    <tr>\n",
       "      <th>movieId</th>\n",
       "      <th></th>\n",
       "      <th></th>\n",
       "      <th></th>\n",
       "      <th></th>\n",
       "      <th></th>\n",
       "      <th></th>\n",
       "      <th></th>\n",
       "      <th></th>\n",
       "      <th></th>\n",
       "      <th></th>\n",
       "      <th></th>\n",
       "      <th></th>\n",
       "      <th></th>\n",
       "      <th></th>\n",
       "      <th></th>\n",
       "      <th></th>\n",
       "      <th></th>\n",
       "      <th></th>\n",
       "      <th></th>\n",
       "      <th></th>\n",
       "      <th></th>\n",
       "    </tr>\n",
       "  </thead>\n",
       "  <tbody>\n",
       "    <tr>\n",
       "      <th>AV13O1A8GV-KLJ3akUyj</th>\n",
       "      <td>0.0</td>\n",
       "      <td>0.0</td>\n",
       "      <td>0.0</td>\n",
       "      <td>0.0</td>\n",
       "      <td>0.0</td>\n",
       "      <td>0.0</td>\n",
       "      <td>0.0</td>\n",
       "      <td>0.0</td>\n",
       "      <td>0.0</td>\n",
       "      <td>0.0</td>\n",
       "      <td>...</td>\n",
       "      <td>0.0</td>\n",
       "      <td>0.0</td>\n",
       "      <td>0.0</td>\n",
       "      <td>0.0</td>\n",
       "      <td>0.0</td>\n",
       "      <td>0.0</td>\n",
       "      <td>0.0</td>\n",
       "      <td>0.0</td>\n",
       "      <td>0.0</td>\n",
       "      <td>0.0</td>\n",
       "    </tr>\n",
       "    <tr>\n",
       "      <th>AV14LG0R-jtxr-f38QfS</th>\n",
       "      <td>0.0</td>\n",
       "      <td>0.0</td>\n",
       "      <td>0.0</td>\n",
       "      <td>0.0</td>\n",
       "      <td>0.0</td>\n",
       "      <td>0.0</td>\n",
       "      <td>0.0</td>\n",
       "      <td>0.0</td>\n",
       "      <td>0.0</td>\n",
       "      <td>0.0</td>\n",
       "      <td>...</td>\n",
       "      <td>0.0</td>\n",
       "      <td>0.0</td>\n",
       "      <td>0.0</td>\n",
       "      <td>0.0</td>\n",
       "      <td>0.0</td>\n",
       "      <td>0.0</td>\n",
       "      <td>0.0</td>\n",
       "      <td>0.0</td>\n",
       "      <td>0.0</td>\n",
       "      <td>0.0</td>\n",
       "    </tr>\n",
       "    <tr>\n",
       "      <th>AV16khLE-jtxr-f38VFn</th>\n",
       "      <td>0.0</td>\n",
       "      <td>0.0</td>\n",
       "      <td>1.0</td>\n",
       "      <td>0.0</td>\n",
       "      <td>0.0</td>\n",
       "      <td>0.0</td>\n",
       "      <td>0.0</td>\n",
       "      <td>0.0</td>\n",
       "      <td>0.0</td>\n",
       "      <td>0.0</td>\n",
       "      <td>...</td>\n",
       "      <td>0.0</td>\n",
       "      <td>0.0</td>\n",
       "      <td>0.0</td>\n",
       "      <td>0.0</td>\n",
       "      <td>0.0</td>\n",
       "      <td>0.0</td>\n",
       "      <td>0.0</td>\n",
       "      <td>0.0</td>\n",
       "      <td>0.0</td>\n",
       "      <td>0.0</td>\n",
       "    </tr>\n",
       "    <tr>\n",
       "      <th>AV1YGDqsGV-KLJ3adc-O</th>\n",
       "      <td>0.0</td>\n",
       "      <td>0.0</td>\n",
       "      <td>0.0</td>\n",
       "      <td>1.0</td>\n",
       "      <td>0.0</td>\n",
       "      <td>0.0</td>\n",
       "      <td>0.0</td>\n",
       "      <td>0.0</td>\n",
       "      <td>0.0</td>\n",
       "      <td>0.0</td>\n",
       "      <td>...</td>\n",
       "      <td>0.0</td>\n",
       "      <td>0.0</td>\n",
       "      <td>0.0</td>\n",
       "      <td>0.0</td>\n",
       "      <td>0.0</td>\n",
       "      <td>0.0</td>\n",
       "      <td>0.0</td>\n",
       "      <td>0.0</td>\n",
       "      <td>0.0</td>\n",
       "      <td>0.0</td>\n",
       "    </tr>\n",
       "    <tr>\n",
       "      <th>AV1YIch7GV-KLJ3addeG</th>\n",
       "      <td>0.0</td>\n",
       "      <td>0.0</td>\n",
       "      <td>0.0</td>\n",
       "      <td>0.0</td>\n",
       "      <td>0.0</td>\n",
       "      <td>0.0</td>\n",
       "      <td>0.0</td>\n",
       "      <td>0.0</td>\n",
       "      <td>0.0</td>\n",
       "      <td>0.0</td>\n",
       "      <td>...</td>\n",
       "      <td>0.0</td>\n",
       "      <td>0.0</td>\n",
       "      <td>0.0</td>\n",
       "      <td>0.0</td>\n",
       "      <td>0.0</td>\n",
       "      <td>0.0</td>\n",
       "      <td>0.0</td>\n",
       "      <td>0.0</td>\n",
       "      <td>0.0</td>\n",
       "      <td>0.0</td>\n",
       "    </tr>\n",
       "  </tbody>\n",
       "</table>\n",
       "<p>5 rows × 256 columns</p>\n",
       "</div>"
      ],
      "text/plain": [
       "                      0    1    2    3    4    5    6    7    8    9    ...  \\\n",
       "movieId                                                                 ...   \n",
       "AV13O1A8GV-KLJ3akUyj  0.0  0.0  0.0  0.0  0.0  0.0  0.0  0.0  0.0  0.0  ...   \n",
       "AV14LG0R-jtxr-f38QfS  0.0  0.0  0.0  0.0  0.0  0.0  0.0  0.0  0.0  0.0  ...   \n",
       "AV16khLE-jtxr-f38VFn  0.0  0.0  1.0  0.0  0.0  0.0  0.0  0.0  0.0  0.0  ...   \n",
       "AV1YGDqsGV-KLJ3adc-O  0.0  0.0  0.0  1.0  0.0  0.0  0.0  0.0  0.0  0.0  ...   \n",
       "AV1YIch7GV-KLJ3addeG  0.0  0.0  0.0  0.0  0.0  0.0  0.0  0.0  0.0  0.0  ...   \n",
       "\n",
       "                      246  247  248  249  250  251  252  253  254  255  \n",
       "movieId                                                                 \n",
       "AV13O1A8GV-KLJ3akUyj  0.0  0.0  0.0  0.0  0.0  0.0  0.0  0.0  0.0  0.0  \n",
       "AV14LG0R-jtxr-f38QfS  0.0  0.0  0.0  0.0  0.0  0.0  0.0  0.0  0.0  0.0  \n",
       "AV16khLE-jtxr-f38VFn  0.0  0.0  0.0  0.0  0.0  0.0  0.0  0.0  0.0  0.0  \n",
       "AV1YGDqsGV-KLJ3adc-O  0.0  0.0  0.0  0.0  0.0  0.0  0.0  0.0  0.0  0.0  \n",
       "AV1YIch7GV-KLJ3addeG  0.0  0.0  0.0  0.0  0.0  0.0  0.0  0.0  0.0  0.0  \n",
       "\n",
       "[5 rows x 256 columns]"
      ]
     },
     "execution_count": 178,
     "metadata": {},
     "output_type": "execute_result"
    }
   ],
   "source": [
    "item_correlation_df['movieId'] = df_subtracted.index\n",
    "item_correlation_df.set_index('movieId',inplace=True)\n",
    "item_correlation_df.head()"
   ]
  },
  {
   "cell_type": "code",
   "execution_count": 179,
   "id": "9ddcaef9",
   "metadata": {},
   "outputs": [],
   "source": [
    "list_name = common.id.tolist()"
   ]
  },
  {
   "cell_type": "code",
   "execution_count": 180,
   "id": "54fb76ba",
   "metadata": {},
   "outputs": [],
   "source": [
    "item_correlation_df.columns = df_subtracted.index.tolist()\n",
    "item_correlation_df_1 =  item_correlation_df[item_correlation_df.index.isin(list_name)]\n"
   ]
  },
  {
   "cell_type": "code",
   "execution_count": 181,
   "id": "8ebda258",
   "metadata": {},
   "outputs": [
    {
     "data": {
      "text/html": [
       "<div>\n",
       "<style scoped>\n",
       "    .dataframe tbody tr th:only-of-type {\n",
       "        vertical-align: middle;\n",
       "    }\n",
       "\n",
       "    .dataframe tbody tr th {\n",
       "        vertical-align: top;\n",
       "    }\n",
       "\n",
       "    .dataframe thead th {\n",
       "        text-align: right;\n",
       "    }\n",
       "</style>\n",
       "<table border=\"1\" class=\"dataframe\">\n",
       "  <thead>\n",
       "    <tr style=\"text-align: right;\">\n",
       "      <th></th>\n",
       "      <th>AV16khLE-jtxr-f38VFn</th>\n",
       "      <th>AV1YGDqsGV-KLJ3adc-O</th>\n",
       "      <th>AV1YlENIglJLPUi8IHsX</th>\n",
       "      <th>AV1YmBrdGV-KLJ3adewb</th>\n",
       "      <th>AV1YmDL9vKc47QAVgr7_</th>\n",
       "      <th>AV1Ymf_rglJLPUi8II2v</th>\n",
       "      <th>AV1Yn94nvKc47QAVgtst</th>\n",
       "      <th>AV1Ynb3bglJLPUi8IJxJ</th>\n",
       "      <th>AV1YneDPglJLPUi8IJyQ</th>\n",
       "      <th>AV1YqAaMGV-KLJ3adiDj</th>\n",
       "      <th>...</th>\n",
       "      <th>AVpfqW4WilAPnD_xf7a_</th>\n",
       "      <th>AVpfr5cb1cnluZ0-pZFp</th>\n",
       "      <th>AVpfrFDZLJeJML43Bmv0</th>\n",
       "      <th>AVpfrTyiLJeJML43BrSI</th>\n",
       "      <th>AVpfrfHF1cnluZ0-pRai</th>\n",
       "      <th>AVpfrgjFLJeJML43BvCc</th>\n",
       "      <th>AVpfthSailAPnD_xg3ON</th>\n",
       "      <th>AVpftikC1cnluZ0-p31V</th>\n",
       "      <th>AVpfv4TlilAPnD_xhjNS</th>\n",
       "      <th>AVpfvieo1cnluZ0-qdnu</th>\n",
       "    </tr>\n",
       "    <tr>\n",
       "      <th>movieId</th>\n",
       "      <th></th>\n",
       "      <th></th>\n",
       "      <th></th>\n",
       "      <th></th>\n",
       "      <th></th>\n",
       "      <th></th>\n",
       "      <th></th>\n",
       "      <th></th>\n",
       "      <th></th>\n",
       "      <th></th>\n",
       "      <th></th>\n",
       "      <th></th>\n",
       "      <th></th>\n",
       "      <th></th>\n",
       "      <th></th>\n",
       "      <th></th>\n",
       "      <th></th>\n",
       "      <th></th>\n",
       "      <th></th>\n",
       "      <th></th>\n",
       "      <th></th>\n",
       "    </tr>\n",
       "  </thead>\n",
       "  <tbody>\n",
       "    <tr>\n",
       "      <th>AV16khLE-jtxr-f38VFn</th>\n",
       "      <td>1.0</td>\n",
       "      <td>0.0</td>\n",
       "      <td>0.0</td>\n",
       "      <td>0.0</td>\n",
       "      <td>0.0</td>\n",
       "      <td>0.0</td>\n",
       "      <td>0.0</td>\n",
       "      <td>0.0</td>\n",
       "      <td>0.0</td>\n",
       "      <td>0.0</td>\n",
       "      <td>...</td>\n",
       "      <td>0.0</td>\n",
       "      <td>0.000000</td>\n",
       "      <td>0.0</td>\n",
       "      <td>0.0</td>\n",
       "      <td>0.0</td>\n",
       "      <td>0.0</td>\n",
       "      <td>0.0</td>\n",
       "      <td>0.0</td>\n",
       "      <td>0.0</td>\n",
       "      <td>0.0</td>\n",
       "    </tr>\n",
       "    <tr>\n",
       "      <th>AV1YGDqsGV-KLJ3adc-O</th>\n",
       "      <td>0.0</td>\n",
       "      <td>1.0</td>\n",
       "      <td>0.0</td>\n",
       "      <td>0.0</td>\n",
       "      <td>0.0</td>\n",
       "      <td>0.0</td>\n",
       "      <td>0.0</td>\n",
       "      <td>0.0</td>\n",
       "      <td>0.0</td>\n",
       "      <td>0.0</td>\n",
       "      <td>...</td>\n",
       "      <td>0.0</td>\n",
       "      <td>0.108098</td>\n",
       "      <td>0.0</td>\n",
       "      <td>0.0</td>\n",
       "      <td>0.0</td>\n",
       "      <td>0.0</td>\n",
       "      <td>0.0</td>\n",
       "      <td>0.0</td>\n",
       "      <td>0.0</td>\n",
       "      <td>0.0</td>\n",
       "    </tr>\n",
       "  </tbody>\n",
       "</table>\n",
       "<p>2 rows × 195 columns</p>\n",
       "</div>"
      ],
      "text/plain": [
       "                      AV16khLE-jtxr-f38VFn  AV1YGDqsGV-KLJ3adc-O  \\\n",
       "movieId                                                            \n",
       "AV16khLE-jtxr-f38VFn                   1.0                   0.0   \n",
       "AV1YGDqsGV-KLJ3adc-O                   0.0                   1.0   \n",
       "\n",
       "                      AV1YlENIglJLPUi8IHsX  AV1YmBrdGV-KLJ3adewb  \\\n",
       "movieId                                                            \n",
       "AV16khLE-jtxr-f38VFn                   0.0                   0.0   \n",
       "AV1YGDqsGV-KLJ3adc-O                   0.0                   0.0   \n",
       "\n",
       "                      AV1YmDL9vKc47QAVgr7_  AV1Ymf_rglJLPUi8II2v  \\\n",
       "movieId                                                            \n",
       "AV16khLE-jtxr-f38VFn                   0.0                   0.0   \n",
       "AV1YGDqsGV-KLJ3adc-O                   0.0                   0.0   \n",
       "\n",
       "                      AV1Yn94nvKc47QAVgtst  AV1Ynb3bglJLPUi8IJxJ  \\\n",
       "movieId                                                            \n",
       "AV16khLE-jtxr-f38VFn                   0.0                   0.0   \n",
       "AV1YGDqsGV-KLJ3adc-O                   0.0                   0.0   \n",
       "\n",
       "                      AV1YneDPglJLPUi8IJyQ  AV1YqAaMGV-KLJ3adiDj  ...  \\\n",
       "movieId                                                           ...   \n",
       "AV16khLE-jtxr-f38VFn                   0.0                   0.0  ...   \n",
       "AV1YGDqsGV-KLJ3adc-O                   0.0                   0.0  ...   \n",
       "\n",
       "                      AVpfqW4WilAPnD_xf7a_  AVpfr5cb1cnluZ0-pZFp  \\\n",
       "movieId                                                            \n",
       "AV16khLE-jtxr-f38VFn                   0.0              0.000000   \n",
       "AV1YGDqsGV-KLJ3adc-O                   0.0              0.108098   \n",
       "\n",
       "                      AVpfrFDZLJeJML43Bmv0  AVpfrTyiLJeJML43BrSI  \\\n",
       "movieId                                                            \n",
       "AV16khLE-jtxr-f38VFn                   0.0                   0.0   \n",
       "AV1YGDqsGV-KLJ3adc-O                   0.0                   0.0   \n",
       "\n",
       "                      AVpfrfHF1cnluZ0-pRai  AVpfrgjFLJeJML43BvCc  \\\n",
       "movieId                                                            \n",
       "AV16khLE-jtxr-f38VFn                   0.0                   0.0   \n",
       "AV1YGDqsGV-KLJ3adc-O                   0.0                   0.0   \n",
       "\n",
       "                      AVpfthSailAPnD_xg3ON  AVpftikC1cnluZ0-p31V  \\\n",
       "movieId                                                            \n",
       "AV16khLE-jtxr-f38VFn                   0.0                   0.0   \n",
       "AV1YGDqsGV-KLJ3adc-O                   0.0                   0.0   \n",
       "\n",
       "                      AVpfv4TlilAPnD_xhjNS  AVpfvieo1cnluZ0-qdnu  \n",
       "movieId                                                           \n",
       "AV16khLE-jtxr-f38VFn                   0.0                   0.0  \n",
       "AV1YGDqsGV-KLJ3adc-O                   0.0                   0.0  \n",
       "\n",
       "[2 rows x 195 columns]"
      ]
     },
     "execution_count": 181,
     "metadata": {},
     "output_type": "execute_result"
    }
   ],
   "source": [
    "item_correlation_df_2 = item_correlation_df_1.T[item_correlation_df_1.T.index.isin(list_name)]\n",
    "item_correlation_df_3 = item_correlation_df_2.T\n",
    "item_correlation_df_3.head(2)"
   ]
  },
  {
   "cell_type": "code",
   "execution_count": 182,
   "id": "32eb6215",
   "metadata": {},
   "outputs": [
    {
     "data": {
      "text/plain": [
       "array([[0.00000000e+00, 0.00000000e+00, 0.00000000e+00, ...,\n",
       "        0.00000000e+00, 0.00000000e+00, 0.00000000e+00],\n",
       "       [2.34691174e-02, 3.00000000e+00, 6.62104097e-03, ...,\n",
       "        0.00000000e+00, 5.16904870e-03, 8.22214474e-05],\n",
       "       [0.00000000e+00, 0.00000000e+00, 0.00000000e+00, ...,\n",
       "        0.00000000e+00, 0.00000000e+00, 0.00000000e+00],\n",
       "       ...,\n",
       "       [0.00000000e+00, 0.00000000e+00, 0.00000000e+00, ...,\n",
       "        0.00000000e+00, 0.00000000e+00, 0.00000000e+00],\n",
       "       [0.00000000e+00, 0.00000000e+00, 0.00000000e+00, ...,\n",
       "        0.00000000e+00, 0.00000000e+00, 0.00000000e+00],\n",
       "       [0.00000000e+00, 0.00000000e+00, 0.00000000e+00, ...,\n",
       "        0.00000000e+00, 0.00000000e+00, 9.45559849e-03]])"
      ]
     },
     "execution_count": 182,
     "metadata": {},
     "output_type": "execute_result"
    }
   ],
   "source": [
    "item_correlation_df_3[item_correlation_df_3<0]=0\n",
    "\n",
    "common_item_predicted_ratings = np.dot(item_correlation_df_3, common_item_based_matrix.fillna(0))\n",
    "common_item_predicted_ratings"
   ]
  },
  {
   "cell_type": "code",
   "execution_count": 183,
   "id": "9ebeb171",
   "metadata": {},
   "outputs": [
    {
     "data": {
      "text/plain": [
       "(195, 8318)"
      ]
     },
     "execution_count": 183,
     "metadata": {},
     "output_type": "execute_result"
    }
   ],
   "source": [
    "common_item_predicted_ratings.shape"
   ]
  },
  {
   "cell_type": "code",
   "execution_count": 184,
   "id": "1f657d16",
   "metadata": {},
   "outputs": [
    {
     "data": {
      "text/html": [
       "<div>\n",
       "<style scoped>\n",
       "    .dataframe tbody tr th:only-of-type {\n",
       "        vertical-align: middle;\n",
       "    }\n",
       "\n",
       "    .dataframe tbody tr th {\n",
       "        vertical-align: top;\n",
       "    }\n",
       "\n",
       "    .dataframe thead th {\n",
       "        text-align: right;\n",
       "    }\n",
       "</style>\n",
       "<table border=\"1\" class=\"dataframe\">\n",
       "  <thead>\n",
       "    <tr style=\"text-align: right;\">\n",
       "      <th></th>\n",
       "      <th>id</th>\n",
       "      <th>name</th>\n",
       "      <th>reviews_rating</th>\n",
       "      <th>reviews_username</th>\n",
       "    </tr>\n",
       "  </thead>\n",
       "  <tbody>\n",
       "    <tr>\n",
       "      <th>25787</th>\n",
       "      <td>AVpfPaoqLJeJML435Xk9</td>\n",
       "      <td>Godzilla 3d Includes Digital Copy Ultraviolet ...</td>\n",
       "      <td>5</td>\n",
       "      <td>youknowhowitgoes</td>\n",
       "    </tr>\n",
       "    <tr>\n",
       "      <th>12627</th>\n",
       "      <td>AVpf3VOfilAPnD_xjpun</td>\n",
       "      <td>Clorox Disinfecting Wipes Value Pack Scented 1...</td>\n",
       "      <td>5</td>\n",
       "      <td>ashleydale00</td>\n",
       "    </tr>\n",
       "  </tbody>\n",
       "</table>\n",
       "</div>"
      ],
      "text/plain": [
       "                         id  \\\n",
       "25787  AVpfPaoqLJeJML435Xk9   \n",
       "12627  AVpf3VOfilAPnD_xjpun   \n",
       "\n",
       "                                                    name  reviews_rating  \\\n",
       "25787  Godzilla 3d Includes Digital Copy Ultraviolet ...               5   \n",
       "12627  Clorox Disinfecting Wipes Value Pack Scented 1...               5   \n",
       "\n",
       "       reviews_username  \n",
       "25787  youknowhowitgoes  \n",
       "12627      ashleydale00  "
      ]
     },
     "execution_count": 184,
     "metadata": {},
     "output_type": "execute_result"
    }
   ],
   "source": [
    "common.head(2)"
   ]
  },
  {
   "cell_type": "code",
   "execution_count": 185,
   "id": "5510bdd2",
   "metadata": {},
   "outputs": [],
   "source": [
    "# Dummy test will be used for evaluation\n",
    "dummy_test = common.copy()\n",
    "\n",
    "dummy_test['reviews_rating'] = dummy_test['reviews_rating'].apply(lambda x: 1 if x>=1 else 0)\n",
    "\n",
    "dummy_test = dummy_test.pivot_table(index='reviews_username', columns='id', values='reviews_rating').T.fillna(0)\n",
    "\n",
    "common_item_predicted_ratings = np.multiply(common_item_predicted_ratings,dummy_test)"
   ]
  },
  {
   "cell_type": "markdown",
   "id": "25bb486d",
   "metadata": {},
   "source": [
    "The products not rated are marked as 0 for evaluation"
   ]
  },
  {
   "cell_type": "code",
   "execution_count": 186,
   "id": "578d267a",
   "metadata": {},
   "outputs": [],
   "source": [
    "common_ = common.pivot_table(index='reviews_username', columns='id', values='reviews_rating').T"
   ]
  },
  {
   "cell_type": "code",
   "execution_count": 187,
   "id": "27e1520f",
   "metadata": {},
   "outputs": [
    {
     "name": "stdout",
     "output_type": "stream",
     "text": [
      "MinMaxScaler(feature_range=(1, 5))\n",
      "[[nan nan nan ... nan nan nan]\n",
      " [nan  1. nan ... nan nan nan]\n",
      " [nan nan nan ... nan nan nan]\n",
      " ...\n",
      " [nan nan nan ... nan nan nan]\n",
      " [nan nan nan ... nan nan nan]\n",
      " [nan nan nan ... nan nan nan]]\n"
     ]
    }
   ],
   "source": [
    "from sklearn.preprocessing import MinMaxScaler\n",
    "from numpy import *\n",
    "\n",
    "X  = common_item_predicted_ratings.copy() \n",
    "X = X[X>0]\n",
    "\n",
    "scaler = MinMaxScaler(feature_range=(1, 5))\n",
    "print(scaler.fit(X))\n",
    "y = (scaler.transform(X))\n",
    "\n",
    "print(y)"
   ]
  },
  {
   "cell_type": "code",
   "execution_count": 188,
   "id": "9e39de50",
   "metadata": {},
   "outputs": [],
   "source": [
    "# Finding total non-NaN value\n",
    "total_non_nan = np.count_nonzero(~np.isnan(y))"
   ]
  },
  {
   "cell_type": "markdown",
   "id": "cbc7cea6",
   "metadata": {},
   "source": [
    "RMSE (Root Mean Square Error) for Item-Item recommendation system"
   ]
  },
  {
   "cell_type": "code",
   "execution_count": 189,
   "id": "d8845742",
   "metadata": {},
   "outputs": [
    {
     "name": "stdout",
     "output_type": "stream",
     "text": [
      "3.5490157385385896\n"
     ]
    }
   ],
   "source": [
    "rmse_item_item = (sum(sum((common_ - y )**2))/total_non_nan)**0.5\n",
    "print(rmse_item_item)"
   ]
  },
  {
   "cell_type": "markdown",
   "id": "38916653",
   "metadata": {},
   "source": [
    "# Best-suited Recommendation model"
   ]
  },
  {
   "cell_type": "markdown",
   "id": "6cf06778",
   "metadata": {},
   "source": [
    "* To get the best recommendation model, we will use RMSE (Root Mean Square Error) scores for both user-user and item-item based recommendation systems and do a comparison of the values.\n",
    "* The recommendation model with the least RMSE will be selected as the best recommendation model."
   ]
  },
  {
   "cell_type": "code",
   "execution_count": 190,
   "id": "21374084",
   "metadata": {},
   "outputs": [
    {
     "name": "stdout",
     "output_type": "stream",
     "text": [
      "Best-fit model is user-user recommendation system\n"
     ]
    }
   ],
   "source": [
    "# Recommended model evaluation\n",
    "if rmse_user_user < rmse_item_item:\n",
    "  print(\"Best-fit model is user-user recommendation system\")\n",
    "else:\n",
    "  print(\"Best-fit model is item-item recommendation system\")"
   ]
  },
  {
   "cell_type": "markdown",
   "id": "c11c3c2d",
   "metadata": {},
   "source": [
    "# Top 20 Product recommendations to the user by the best recommendation model (user-user based recommendation system)"
   ]
  },
  {
   "cell_type": "code",
   "execution_count": 191,
   "id": "f6a60ddd",
   "metadata": {},
   "outputs": [],
   "source": [
    "# Take a sample username as input\n",
    "user_input = 'evrydayhustla420'"
   ]
  },
  {
   "cell_type": "code",
   "execution_count": 192,
   "id": "84aa775c",
   "metadata": {},
   "outputs": [
    {
     "data": {
      "text/html": [
       "<div>\n",
       "<style scoped>\n",
       "    .dataframe tbody tr th:only-of-type {\n",
       "        vertical-align: middle;\n",
       "    }\n",
       "\n",
       "    .dataframe tbody tr th {\n",
       "        vertical-align: top;\n",
       "    }\n",
       "\n",
       "    .dataframe thead th {\n",
       "        text-align: right;\n",
       "    }\n",
       "</style>\n",
       "<table border=\"1\" class=\"dataframe\">\n",
       "  <thead>\n",
       "    <tr style=\"text-align: right;\">\n",
       "      <th></th>\n",
       "      <th>Product Id</th>\n",
       "      <th>cosine_similarity_score</th>\n",
       "    </tr>\n",
       "  </thead>\n",
       "  <tbody>\n",
       "    <tr>\n",
       "      <th>0</th>\n",
       "      <td>AVpfRTh1ilAPnD_xYic2</td>\n",
       "      <td>16.870920</td>\n",
       "    </tr>\n",
       "    <tr>\n",
       "      <th>1</th>\n",
       "      <td>AVpe41TqilAPnD_xQH3d</td>\n",
       "      <td>13.017496</td>\n",
       "    </tr>\n",
       "    <tr>\n",
       "      <th>2</th>\n",
       "      <td>AVpf0eb2LJeJML43EVSt</td>\n",
       "      <td>11.843501</td>\n",
       "    </tr>\n",
       "    <tr>\n",
       "      <th>3</th>\n",
       "      <td>AVpf3VOfilAPnD_xjpun</td>\n",
       "      <td>9.609059</td>\n",
       "    </tr>\n",
       "    <tr>\n",
       "      <th>4</th>\n",
       "      <td>AVpe59io1cnluZ0-ZgDU</td>\n",
       "      <td>7.706569</td>\n",
       "    </tr>\n",
       "    <tr>\n",
       "      <th>5</th>\n",
       "      <td>AVpfJP1C1cnluZ0-e3Xy</td>\n",
       "      <td>5.474655</td>\n",
       "    </tr>\n",
       "    <tr>\n",
       "      <th>6</th>\n",
       "      <td>AVpfOIrkilAPnD_xXgDG</td>\n",
       "      <td>4.809401</td>\n",
       "    </tr>\n",
       "    <tr>\n",
       "      <th>7</th>\n",
       "      <td>AVpfPnrU1cnluZ0-g9rL</td>\n",
       "      <td>4.539020</td>\n",
       "    </tr>\n",
       "    <tr>\n",
       "      <th>8</th>\n",
       "      <td>AVpe31o71cnluZ0-YrSD</td>\n",
       "      <td>4.336229</td>\n",
       "    </tr>\n",
       "    <tr>\n",
       "      <th>9</th>\n",
       "      <td>AVpe8gsILJeJML43y6Ed</td>\n",
       "      <td>4.309060</td>\n",
       "    </tr>\n",
       "    <tr>\n",
       "      <th>10</th>\n",
       "      <td>AVpf5olc1cnluZ0-tPrO</td>\n",
       "      <td>3.909127</td>\n",
       "    </tr>\n",
       "    <tr>\n",
       "      <th>11</th>\n",
       "      <td>AVpe9W4D1cnluZ0-avf0</td>\n",
       "      <td>3.147079</td>\n",
       "    </tr>\n",
       "    <tr>\n",
       "      <th>12</th>\n",
       "      <td>AVpfM_ytilAPnD_xXIJb</td>\n",
       "      <td>3.051318</td>\n",
       "    </tr>\n",
       "    <tr>\n",
       "      <th>13</th>\n",
       "      <td>AVpfN6Z71cnluZ0-gZmO</td>\n",
       "      <td>2.500000</td>\n",
       "    </tr>\n",
       "    <tr>\n",
       "      <th>14</th>\n",
       "      <td>AVpfIOoV1cnluZ0-ehGp</td>\n",
       "      <td>2.500000</td>\n",
       "    </tr>\n",
       "    <tr>\n",
       "      <th>15</th>\n",
       "      <td>AVpfazX31cnluZ0-kbdl</td>\n",
       "      <td>2.269582</td>\n",
       "    </tr>\n",
       "    <tr>\n",
       "      <th>16</th>\n",
       "      <td>AVpfOmKwLJeJML435GM7</td>\n",
       "      <td>2.237478</td>\n",
       "    </tr>\n",
       "    <tr>\n",
       "      <th>17</th>\n",
       "      <td>AVpf385g1cnluZ0-s0_t</td>\n",
       "      <td>2.120199</td>\n",
       "    </tr>\n",
       "    <tr>\n",
       "      <th>18</th>\n",
       "      <td>AVpf0thK1cnluZ0-r8vR</td>\n",
       "      <td>2.120089</td>\n",
       "    </tr>\n",
       "    <tr>\n",
       "      <th>19</th>\n",
       "      <td>AVpfUJu_ilAPnD_xZdDr</td>\n",
       "      <td>2.000000</td>\n",
       "    </tr>\n",
       "  </tbody>\n",
       "</table>\n",
       "</div>"
      ],
      "text/plain": [
       "              Product Id  cosine_similarity_score\n",
       "0   AVpfRTh1ilAPnD_xYic2                16.870920\n",
       "1   AVpe41TqilAPnD_xQH3d                13.017496\n",
       "2   AVpf0eb2LJeJML43EVSt                11.843501\n",
       "3   AVpf3VOfilAPnD_xjpun                 9.609059\n",
       "4   AVpe59io1cnluZ0-ZgDU                 7.706569\n",
       "5   AVpfJP1C1cnluZ0-e3Xy                 5.474655\n",
       "6   AVpfOIrkilAPnD_xXgDG                 4.809401\n",
       "7   AVpfPnrU1cnluZ0-g9rL                 4.539020\n",
       "8   AVpe31o71cnluZ0-YrSD                 4.336229\n",
       "9   AVpe8gsILJeJML43y6Ed                 4.309060\n",
       "10  AVpf5olc1cnluZ0-tPrO                 3.909127\n",
       "11  AVpe9W4D1cnluZ0-avf0                 3.147079\n",
       "12  AVpfM_ytilAPnD_xXIJb                 3.051318\n",
       "13  AVpfN6Z71cnluZ0-gZmO                 2.500000\n",
       "14  AVpfIOoV1cnluZ0-ehGp                 2.500000\n",
       "15  AVpfazX31cnluZ0-kbdl                 2.269582\n",
       "16  AVpfOmKwLJeJML435GM7                 2.237478\n",
       "17  AVpf385g1cnluZ0-s0_t                 2.120199\n",
       "18  AVpf0thK1cnluZ0-r8vR                 2.120089\n",
       "19  AVpfUJu_ilAPnD_xZdDr                 2.000000"
      ]
     },
     "execution_count": 192,
     "metadata": {},
     "output_type": "execute_result"
    }
   ],
   "source": [
    "top20_recommendations = user_final_rating.loc[user_input].sort_values(ascending=False)[0:20]\n",
    "df_top20_recommendations = pd.DataFrame({'Product Id': top20_recommendations.index, 'cosine_similarity_score' : top20_recommendations})\n",
    "df_top20_recommendations.reset_index(drop=True, inplace=True)\n",
    "df_top20_recommendations"
   ]
  },
  {
   "cell_type": "code",
   "execution_count": 193,
   "id": "b0cf7bf2",
   "metadata": {},
   "outputs": [
    {
     "data": {
      "text/html": [
       "<div>\n",
       "<style scoped>\n",
       "    .dataframe tbody tr th:only-of-type {\n",
       "        vertical-align: middle;\n",
       "    }\n",
       "\n",
       "    .dataframe tbody tr th {\n",
       "        vertical-align: top;\n",
       "    }\n",
       "\n",
       "    .dataframe thead th {\n",
       "        text-align: right;\n",
       "    }\n",
       "</style>\n",
       "<table border=\"1\" class=\"dataframe\">\n",
       "  <thead>\n",
       "    <tr style=\"text-align: right;\">\n",
       "      <th></th>\n",
       "      <th>Product Id</th>\n",
       "      <th>name</th>\n",
       "      <th>cosine_similarity_score</th>\n",
       "    </tr>\n",
       "  </thead>\n",
       "  <tbody>\n",
       "    <tr>\n",
       "      <th>18</th>\n",
       "      <td>AVpfRTh1ilAPnD_xYic2</td>\n",
       "      <td>Planes: Fire Rescue (2 Discs) (includes Digita...</td>\n",
       "      <td>16.870920</td>\n",
       "    </tr>\n",
       "    <tr>\n",
       "      <th>1</th>\n",
       "      <td>AVpe41TqilAPnD_xQH3d</td>\n",
       "      <td>Mike Dave Need Wedding Dates (dvd + Digital)</td>\n",
       "      <td>13.017496</td>\n",
       "    </tr>\n",
       "    <tr>\n",
       "      <th>5</th>\n",
       "      <td>AVpf0eb2LJeJML43EVSt</td>\n",
       "      <td>The Resident Evil Collection 5 Discs (blu-Ray)</td>\n",
       "      <td>11.843501</td>\n",
       "    </tr>\n",
       "    <tr>\n",
       "      <th>8</th>\n",
       "      <td>AVpf3VOfilAPnD_xjpun</td>\n",
       "      <td>Clorox Disinfecting Wipes Value Pack Scented 1...</td>\n",
       "      <td>9.609059</td>\n",
       "    </tr>\n",
       "    <tr>\n",
       "      <th>2</th>\n",
       "      <td>AVpe59io1cnluZ0-ZgDU</td>\n",
       "      <td>My Big Fat Greek Wedding 2 (blu-Ray + Dvd + Di...</td>\n",
       "      <td>7.706569</td>\n",
       "    </tr>\n",
       "    <tr>\n",
       "      <th>12</th>\n",
       "      <td>AVpfJP1C1cnluZ0-e3Xy</td>\n",
       "      <td>Clorox Disinfecting Bathroom Cleaner</td>\n",
       "      <td>5.474655</td>\n",
       "    </tr>\n",
       "    <tr>\n",
       "      <th>15</th>\n",
       "      <td>AVpfOIrkilAPnD_xXgDG</td>\n",
       "      <td>Alex Cross (dvdvideo)</td>\n",
       "      <td>4.809401</td>\n",
       "    </tr>\n",
       "    <tr>\n",
       "      <th>17</th>\n",
       "      <td>AVpfPnrU1cnluZ0-g9rL</td>\n",
       "      <td>Stargate (ws) (ultimate Edition) (director's C...</td>\n",
       "      <td>4.539020</td>\n",
       "    </tr>\n",
       "    <tr>\n",
       "      <th>0</th>\n",
       "      <td>AVpe31o71cnluZ0-YrSD</td>\n",
       "      <td>Dark Shadows (includes Digital Copy) (ultravio...</td>\n",
       "      <td>4.336229</td>\n",
       "    </tr>\n",
       "    <tr>\n",
       "      <th>3</th>\n",
       "      <td>AVpe8gsILJeJML43y6Ed</td>\n",
       "      <td>Pendaflex174 Divide It Up File Folder, Multi S...</td>\n",
       "      <td>4.309060</td>\n",
       "    </tr>\n",
       "    <tr>\n",
       "      <th>9</th>\n",
       "      <td>AVpf5olc1cnluZ0-tPrO</td>\n",
       "      <td>Chester's Cheese Flavored Puffcorn Snacks</td>\n",
       "      <td>3.909127</td>\n",
       "    </tr>\n",
       "    <tr>\n",
       "      <th>4</th>\n",
       "      <td>AVpe9W4D1cnluZ0-avf0</td>\n",
       "      <td>Hoover174 Platinum Collection153 Lightweight B...</td>\n",
       "      <td>3.147079</td>\n",
       "    </tr>\n",
       "    <tr>\n",
       "      <th>13</th>\n",
       "      <td>AVpfM_ytilAPnD_xXIJb</td>\n",
       "      <td>Tostitos Bite Size Tortilla Chips</td>\n",
       "      <td>3.051318</td>\n",
       "    </tr>\n",
       "    <tr>\n",
       "      <th>11</th>\n",
       "      <td>AVpfIOoV1cnluZ0-ehGp</td>\n",
       "      <td>Reebok Classic Leather Running Shoes - White (...</td>\n",
       "      <td>2.500000</td>\n",
       "    </tr>\n",
       "    <tr>\n",
       "      <th>14</th>\n",
       "      <td>AVpfN6Z71cnluZ0-gZmO</td>\n",
       "      <td>Caress Moisturizing Body Bar Natural Silk, 4.75oz</td>\n",
       "      <td>2.500000</td>\n",
       "    </tr>\n",
       "    <tr>\n",
       "      <th>10</th>\n",
       "      <td>AVpfazX31cnluZ0-kbdl</td>\n",
       "      <td>Just For Men Touch Of Gray Gray Hair Treatment...</td>\n",
       "      <td>2.269582</td>\n",
       "    </tr>\n",
       "    <tr>\n",
       "      <th>16</th>\n",
       "      <td>AVpfOmKwLJeJML435GM7</td>\n",
       "      <td>Clear Scalp &amp; Hair Therapy Total Care Nourishi...</td>\n",
       "      <td>2.237478</td>\n",
       "    </tr>\n",
       "    <tr>\n",
       "      <th>7</th>\n",
       "      <td>AVpf385g1cnluZ0-s0_t</td>\n",
       "      <td>Hormel Chili, No Beans</td>\n",
       "      <td>2.120199</td>\n",
       "    </tr>\n",
       "    <tr>\n",
       "      <th>6</th>\n",
       "      <td>AVpf0thK1cnluZ0-r8vR</td>\n",
       "      <td>100:Complete First Season (blu-Ray)</td>\n",
       "      <td>2.120089</td>\n",
       "    </tr>\n",
       "    <tr>\n",
       "      <th>19</th>\n",
       "      <td>AVpfUJu_ilAPnD_xZdDr</td>\n",
       "      <td>Chobani174 Strawberry On The Bottom Non-Fat Gr...</td>\n",
       "      <td>2.000000</td>\n",
       "    </tr>\n",
       "  </tbody>\n",
       "</table>\n",
       "</div>"
      ],
      "text/plain": [
       "              Product Id                                               name  \\\n",
       "18  AVpfRTh1ilAPnD_xYic2  Planes: Fire Rescue (2 Discs) (includes Digita...   \n",
       "1   AVpe41TqilAPnD_xQH3d       Mike Dave Need Wedding Dates (dvd + Digital)   \n",
       "5   AVpf0eb2LJeJML43EVSt     The Resident Evil Collection 5 Discs (blu-Ray)   \n",
       "8   AVpf3VOfilAPnD_xjpun  Clorox Disinfecting Wipes Value Pack Scented 1...   \n",
       "2   AVpe59io1cnluZ0-ZgDU  My Big Fat Greek Wedding 2 (blu-Ray + Dvd + Di...   \n",
       "12  AVpfJP1C1cnluZ0-e3Xy               Clorox Disinfecting Bathroom Cleaner   \n",
       "15  AVpfOIrkilAPnD_xXgDG                              Alex Cross (dvdvideo)   \n",
       "17  AVpfPnrU1cnluZ0-g9rL  Stargate (ws) (ultimate Edition) (director's C...   \n",
       "0   AVpe31o71cnluZ0-YrSD  Dark Shadows (includes Digital Copy) (ultravio...   \n",
       "3   AVpe8gsILJeJML43y6Ed  Pendaflex174 Divide It Up File Folder, Multi S...   \n",
       "9   AVpf5olc1cnluZ0-tPrO          Chester's Cheese Flavored Puffcorn Snacks   \n",
       "4   AVpe9W4D1cnluZ0-avf0  Hoover174 Platinum Collection153 Lightweight B...   \n",
       "13  AVpfM_ytilAPnD_xXIJb                  Tostitos Bite Size Tortilla Chips   \n",
       "11  AVpfIOoV1cnluZ0-ehGp  Reebok Classic Leather Running Shoes - White (...   \n",
       "14  AVpfN6Z71cnluZ0-gZmO  Caress Moisturizing Body Bar Natural Silk, 4.75oz   \n",
       "10  AVpfazX31cnluZ0-kbdl  Just For Men Touch Of Gray Gray Hair Treatment...   \n",
       "16  AVpfOmKwLJeJML435GM7  Clear Scalp & Hair Therapy Total Care Nourishi...   \n",
       "7   AVpf385g1cnluZ0-s0_t                             Hormel Chili, No Beans   \n",
       "6   AVpf0thK1cnluZ0-r8vR                100:Complete First Season (blu-Ray)   \n",
       "19  AVpfUJu_ilAPnD_xZdDr  Chobani174 Strawberry On The Bottom Non-Fat Gr...   \n",
       "\n",
       "    cosine_similarity_score  \n",
       "18                16.870920  \n",
       "1                 13.017496  \n",
       "5                 11.843501  \n",
       "8                  9.609059  \n",
       "2                  7.706569  \n",
       "12                 5.474655  \n",
       "15                 4.809401  \n",
       "17                 4.539020  \n",
       "0                  4.336229  \n",
       "3                  4.309060  \n",
       "9                  3.909127  \n",
       "4                  3.147079  \n",
       "13                 3.051318  \n",
       "11                 2.500000  \n",
       "14                 2.500000  \n",
       "10                 2.269582  \n",
       "16                 2.237478  \n",
       "7                  2.120199  \n",
       "6                  2.120089  \n",
       "19                 2.000000  "
      ]
     },
     "execution_count": 193,
     "metadata": {},
     "output_type": "execute_result"
    }
   ],
   "source": [
    "top20_rec = pd.merge(df_recom, df_top20_recommendations,left_on='id',right_on='Product Id', how = 'inner')[['Product Id', 'name', 'cosine_similarity_score']].drop_duplicates()\n",
    "top20_rec.reset_index(drop=True, inplace=True)\n",
    "top20_rec.sort_values(by='cosine_similarity_score', ascending=False)"
   ]
  },
  {
   "cell_type": "code",
   "execution_count": 194,
   "id": "9066dd96",
   "metadata": {},
   "outputs": [
    {
     "data": {
      "text/plain": [
       "(18275, 256)"
      ]
     },
     "execution_count": 194,
     "metadata": {},
     "output_type": "execute_result"
    }
   ],
   "source": [
    "user_final_rating.shape"
   ]
  },
  {
   "cell_type": "code",
   "execution_count": 195,
   "id": "7ea7996e",
   "metadata": {},
   "outputs": [
    {
     "data": {
      "text/html": [
       "<div>\n",
       "<style scoped>\n",
       "    .dataframe tbody tr th:only-of-type {\n",
       "        vertical-align: middle;\n",
       "    }\n",
       "\n",
       "    .dataframe tbody tr th {\n",
       "        vertical-align: top;\n",
       "    }\n",
       "\n",
       "    .dataframe thead th {\n",
       "        text-align: right;\n",
       "    }\n",
       "</style>\n",
       "<table border=\"1\" class=\"dataframe\">\n",
       "  <thead>\n",
       "    <tr style=\"text-align: right;\">\n",
       "      <th>id</th>\n",
       "      <th>AV13O1A8GV-KLJ3akUyj</th>\n",
       "      <th>AV14LG0R-jtxr-f38QfS</th>\n",
       "      <th>AV16khLE-jtxr-f38VFn</th>\n",
       "      <th>AV1YGDqsGV-KLJ3adc-O</th>\n",
       "      <th>AV1YIch7GV-KLJ3addeG</th>\n",
       "      <th>AV1YlENIglJLPUi8IHsX</th>\n",
       "      <th>AV1YmBrdGV-KLJ3adewb</th>\n",
       "      <th>AV1YmDL9vKc47QAVgr7_</th>\n",
       "      <th>AV1Ymf_rglJLPUi8II2v</th>\n",
       "      <th>AV1Yn94nvKc47QAVgtst</th>\n",
       "      <th>...</th>\n",
       "      <th>AVpfrFDZLJeJML43Bmv0</th>\n",
       "      <th>AVpfrTyiLJeJML43BrSI</th>\n",
       "      <th>AVpfrfHF1cnluZ0-pRai</th>\n",
       "      <th>AVpfrgjFLJeJML43BvCc</th>\n",
       "      <th>AVpfsQoeilAPnD_xgfx5</th>\n",
       "      <th>AVpfshNsLJeJML43CB8q</th>\n",
       "      <th>AVpfthSailAPnD_xg3ON</th>\n",
       "      <th>AVpftikC1cnluZ0-p31V</th>\n",
       "      <th>AVpfv4TlilAPnD_xhjNS</th>\n",
       "      <th>AVpfvieo1cnluZ0-qdnu</th>\n",
       "    </tr>\n",
       "    <tr>\n",
       "      <th>reviews_username</th>\n",
       "      <th></th>\n",
       "      <th></th>\n",
       "      <th></th>\n",
       "      <th></th>\n",
       "      <th></th>\n",
       "      <th></th>\n",
       "      <th></th>\n",
       "      <th></th>\n",
       "      <th></th>\n",
       "      <th></th>\n",
       "      <th></th>\n",
       "      <th></th>\n",
       "      <th></th>\n",
       "      <th></th>\n",
       "      <th></th>\n",
       "      <th></th>\n",
       "      <th></th>\n",
       "      <th></th>\n",
       "      <th></th>\n",
       "      <th></th>\n",
       "      <th></th>\n",
       "    </tr>\n",
       "  </thead>\n",
       "  <tbody>\n",
       "    <tr>\n",
       "      <th>00sab00</th>\n",
       "      <td>0.0</td>\n",
       "      <td>0.0</td>\n",
       "      <td>2.5</td>\n",
       "      <td>3.596262</td>\n",
       "      <td>0.0</td>\n",
       "      <td>0.0</td>\n",
       "      <td>0.0</td>\n",
       "      <td>0.0</td>\n",
       "      <td>2.581989</td>\n",
       "      <td>1.018079</td>\n",
       "      <td>...</td>\n",
       "      <td>1.666667</td>\n",
       "      <td>0.188982</td>\n",
       "      <td>0.0</td>\n",
       "      <td>0.0</td>\n",
       "      <td>0.0</td>\n",
       "      <td>0.0</td>\n",
       "      <td>0.0</td>\n",
       "      <td>1.465257</td>\n",
       "      <td>1.889822</td>\n",
       "      <td>0.204124</td>\n",
       "    </tr>\n",
       "    <tr>\n",
       "      <th>01impala</th>\n",
       "      <td>0.0</td>\n",
       "      <td>0.0</td>\n",
       "      <td>0.0</td>\n",
       "      <td>0.000000</td>\n",
       "      <td>0.0</td>\n",
       "      <td>0.0</td>\n",
       "      <td>0.0</td>\n",
       "      <td>0.0</td>\n",
       "      <td>0.000000</td>\n",
       "      <td>0.000000</td>\n",
       "      <td>...</td>\n",
       "      <td>0.000000</td>\n",
       "      <td>0.000000</td>\n",
       "      <td>0.0</td>\n",
       "      <td>0.0</td>\n",
       "      <td>0.0</td>\n",
       "      <td>0.0</td>\n",
       "      <td>0.0</td>\n",
       "      <td>0.000000</td>\n",
       "      <td>0.000000</td>\n",
       "      <td>0.000000</td>\n",
       "    </tr>\n",
       "  </tbody>\n",
       "</table>\n",
       "<p>2 rows × 256 columns</p>\n",
       "</div>"
      ],
      "text/plain": [
       "id                AV13O1A8GV-KLJ3akUyj  AV14LG0R-jtxr-f38QfS  \\\n",
       "reviews_username                                               \n",
       "00sab00                            0.0                   0.0   \n",
       "01impala                           0.0                   0.0   \n",
       "\n",
       "id                AV16khLE-jtxr-f38VFn  AV1YGDqsGV-KLJ3adc-O  \\\n",
       "reviews_username                                               \n",
       "00sab00                            2.5              3.596262   \n",
       "01impala                           0.0              0.000000   \n",
       "\n",
       "id                AV1YIch7GV-KLJ3addeG  AV1YlENIglJLPUi8IHsX  \\\n",
       "reviews_username                                               \n",
       "00sab00                            0.0                   0.0   \n",
       "01impala                           0.0                   0.0   \n",
       "\n",
       "id                AV1YmBrdGV-KLJ3adewb  AV1YmDL9vKc47QAVgr7_  \\\n",
       "reviews_username                                               \n",
       "00sab00                            0.0                   0.0   \n",
       "01impala                           0.0                   0.0   \n",
       "\n",
       "id                AV1Ymf_rglJLPUi8II2v  AV1Yn94nvKc47QAVgtst  ...  \\\n",
       "reviews_username                                              ...   \n",
       "00sab00                       2.581989              1.018079  ...   \n",
       "01impala                      0.000000              0.000000  ...   \n",
       "\n",
       "id                AVpfrFDZLJeJML43Bmv0  AVpfrTyiLJeJML43BrSI  \\\n",
       "reviews_username                                               \n",
       "00sab00                       1.666667              0.188982   \n",
       "01impala                      0.000000              0.000000   \n",
       "\n",
       "id                AVpfrfHF1cnluZ0-pRai  AVpfrgjFLJeJML43BvCc  \\\n",
       "reviews_username                                               \n",
       "00sab00                            0.0                   0.0   \n",
       "01impala                           0.0                   0.0   \n",
       "\n",
       "id                AVpfsQoeilAPnD_xgfx5  AVpfshNsLJeJML43CB8q  \\\n",
       "reviews_username                                               \n",
       "00sab00                            0.0                   0.0   \n",
       "01impala                           0.0                   0.0   \n",
       "\n",
       "id                AVpfthSailAPnD_xg3ON  AVpftikC1cnluZ0-p31V  \\\n",
       "reviews_username                                               \n",
       "00sab00                            0.0              1.465257   \n",
       "01impala                           0.0              0.000000   \n",
       "\n",
       "id                AVpfv4TlilAPnD_xhjNS  AVpfvieo1cnluZ0-qdnu  \n",
       "reviews_username                                              \n",
       "00sab00                       1.889822              0.204124  \n",
       "01impala                      0.000000              0.000000  \n",
       "\n",
       "[2 rows x 256 columns]"
      ]
     },
     "execution_count": 195,
     "metadata": {},
     "output_type": "execute_result"
    }
   ],
   "source": [
    "user_final_rating.head(2)"
   ]
  },
  {
   "cell_type": "markdown",
   "id": "0df84d26",
   "metadata": {},
   "source": [
    "#### creating a joblib file for best recommendation model"
   ]
  },
  {
   "cell_type": "code",
   "execution_count": 197,
   "id": "18279acb",
   "metadata": {},
   "outputs": [],
   "source": [
    "best_recommendation_model = joblib.dump(user_final_rating.astype('float32'), open('models/best_recommendation_model.pkl', 'wb'))"
   ]
  },
  {
   "cell_type": "markdown",
   "id": "71fb3e03",
   "metadata": {},
   "source": [
    "# Fine-Tuning the Recommendation System and Recommendation of Top 5 Products"
   ]
  },
  {
   "cell_type": "code",
   "execution_count": 198,
   "id": "7037e33e",
   "metadata": {},
   "outputs": [],
   "source": [
    "def product_recommendations_user(user_name):\n",
    "    if user_name not in user_final_rating.index:\n",
    "        print(f\"The User {user_name} does not exist. Please provide a valid user name\")\n",
    "    else:\n",
    "        # Get top 20 recommended products from the best recommendation model\n",
    "        top20_recommended_products = list(user_final_rating.loc[user_name].sort_values(ascending=False)[:20].index)\n",
    "        \n",
    "        # Get only the recommended products from the prepared dataframe \"df_sent\"\n",
    "        df_top20_products = df_sent[df_sent.id.isin(top20_recommended_products)]\n",
    "        \n",
    "        # For these 20 products, get their user reviews and pass them through TF-IDF vectorizer to convert the data into suitable format for modeling\n",
    "        X = tfidf.transform(df_top20_products[\"reviews_lemmatized\"].values.astype(str))\n",
    "        \n",
    "        # Use the best sentiment model to predict the sentiment for these user reviews\n",
    "        df_top20_products['predicted_sentiment'] = logreg.predict(X)\n",
    "        \n",
    "        # Create a new column to map Positive sentiment to 1 and Negative sentiment to 0. This will allow us to easily summarize the data\n",
    "        df_top20_products['positive_sentiment'] = df_top20_products['predicted_sentiment'].apply(lambda x: 1 if x==\"Positive\" else 0)\n",
    "        \n",
    "        # Create a new dataframe \"pred_df\" to store the count of positive user sentiments\n",
    "        pred_df = df_top20_products.groupby(by='name').agg({'positive_sentiment': 'sum', 'predicted_sentiment': 'count'})\n",
    "        \n",
    "        # Rename columns\n",
    "        pred_df.columns = ['pos_sent_count', 'total_sent_count']\n",
    "        \n",
    "        # Create a column that measures the % of positive user sentiment for each product review\n",
    "        pred_df['post_sent_percentage'] = np.round(pred_df['pos_sent_count'] / pred_df['total_sent_count'] * 100, 2)\n",
    "        \n",
    "        # Return top 5 recommended products to the user\n",
    "        result = pred_df.sort_values(by='post_sent_percentage', ascending=False).head(5)\n",
    "        return result\n",
    "\n",
    "\n"
   ]
  },
  {
   "cell_type": "code",
   "execution_count": 199,
   "id": "4c76d7c2",
   "metadata": {},
   "outputs": [
    {
     "name": "stdout",
     "output_type": "stream",
     "text": [
      "Printing the top 5 recommended products for the user: charlie along with each product's positive sentiment count, overall review count and positive sentiment %\n",
      "\n",
      "\n",
      "                                                    pos_sent_count  \\\n",
      "name                                                                 \n",
      "Reebok Classic Leather Running Shoes - White (Men)               5   \n",
      "Eagle Fat Free Sweetened Condensed Milk                         14   \n",
      "Stargate (ws) (ultimate Edition) (director's Cu...             172   \n",
      "Hoover174 Platinum Collection153 Lightweight Ba...             314   \n",
      "100:Complete First Season (blu-Ray)                            124   \n",
      "\n",
      "                                                    total_sent_count  \\\n",
      "name                                                                   \n",
      "Reebok Classic Leather Running Shoes - White (Men)                 5   \n",
      "Eagle Fat Free Sweetened Condensed Milk                           15   \n",
      "Stargate (ws) (ultimate Edition) (director's Cu...               186   \n",
      "Hoover174 Platinum Collection153 Lightweight Ba...               349   \n",
      "100:Complete First Season (blu-Ray)                              139   \n",
      "\n",
      "                                                    post_sent_percentage  \n",
      "name                                                                      \n",
      "Reebok Classic Leather Running Shoes - White (Men)                100.00  \n",
      "Eagle Fat Free Sweetened Condensed Milk                            93.33  \n",
      "Stargate (ws) (ultimate Edition) (director's Cu...                 92.47  \n",
      "Hoover174 Platinum Collection153 Lightweight Ba...                 89.97  \n",
      "100:Complete First Season (blu-Ray)                                89.21  \n"
     ]
    }
   ],
   "source": [
    "# Take a sample username as input\n",
    "user_input = 'charlie'\n",
    "print(f\"Printing the top 5 recommended products for the user: {user_input} along with each product's positive sentiment count, overall review count and positive sentiment %\")\n",
    "print(\"\\n\")\n",
    "top5_reco_sent_reco_user = product_recommendations_user(user_input)\n",
    "print(top5_reco_sent_reco_user)"
   ]
  },
  {
   "cell_type": "code",
   "execution_count": 200,
   "id": "3f073f25",
   "metadata": {},
   "outputs": [
    {
     "data": {
      "text/html": [
       "<div>\n",
       "<style scoped>\n",
       "    .dataframe tbody tr th:only-of-type {\n",
       "        vertical-align: middle;\n",
       "    }\n",
       "\n",
       "    .dataframe tbody tr th {\n",
       "        vertical-align: top;\n",
       "    }\n",
       "\n",
       "    .dataframe thead th {\n",
       "        text-align: right;\n",
       "    }\n",
       "</style>\n",
       "<table border=\"1\" class=\"dataframe\">\n",
       "  <thead>\n",
       "    <tr style=\"text-align: right;\">\n",
       "      <th></th>\n",
       "      <th>pos_sent_count</th>\n",
       "      <th>total_sent_count</th>\n",
       "      <th>post_sent_percentage</th>\n",
       "    </tr>\n",
       "    <tr>\n",
       "      <th>name</th>\n",
       "      <th></th>\n",
       "      <th></th>\n",
       "      <th></th>\n",
       "    </tr>\n",
       "  </thead>\n",
       "  <tbody>\n",
       "    <tr>\n",
       "      <th>Reebok Classic Leather Running Shoes - White (Men)</th>\n",
       "      <td>5</td>\n",
       "      <td>5</td>\n",
       "      <td>100.00</td>\n",
       "    </tr>\n",
       "    <tr>\n",
       "      <th>Eagle Fat Free Sweetened Condensed Milk</th>\n",
       "      <td>14</td>\n",
       "      <td>15</td>\n",
       "      <td>93.33</td>\n",
       "    </tr>\n",
       "    <tr>\n",
       "      <th>Stargate (ws) (ultimate Edition) (director's Cut) (dvdvideo)</th>\n",
       "      <td>172</td>\n",
       "      <td>186</td>\n",
       "      <td>92.47</td>\n",
       "    </tr>\n",
       "    <tr>\n",
       "      <th>Hoover174 Platinum Collection153 Lightweight Bagged Upright Vacuum With Canister - Uh30010com</th>\n",
       "      <td>314</td>\n",
       "      <td>349</td>\n",
       "      <td>89.97</td>\n",
       "    </tr>\n",
       "    <tr>\n",
       "      <th>100:Complete First Season (blu-Ray)</th>\n",
       "      <td>124</td>\n",
       "      <td>139</td>\n",
       "      <td>89.21</td>\n",
       "    </tr>\n",
       "  </tbody>\n",
       "</table>\n",
       "</div>"
      ],
      "text/plain": [
       "                                                    pos_sent_count  \\\n",
       "name                                                                 \n",
       "Reebok Classic Leather Running Shoes - White (Men)               5   \n",
       "Eagle Fat Free Sweetened Condensed Milk                         14   \n",
       "Stargate (ws) (ultimate Edition) (director's Cu...             172   \n",
       "Hoover174 Platinum Collection153 Lightweight Ba...             314   \n",
       "100:Complete First Season (blu-Ray)                            124   \n",
       "\n",
       "                                                    total_sent_count  \\\n",
       "name                                                                   \n",
       "Reebok Classic Leather Running Shoes - White (Men)                 5   \n",
       "Eagle Fat Free Sweetened Condensed Milk                           15   \n",
       "Stargate (ws) (ultimate Edition) (director's Cu...               186   \n",
       "Hoover174 Platinum Collection153 Lightweight Ba...               349   \n",
       "100:Complete First Season (blu-Ray)                              139   \n",
       "\n",
       "                                                    post_sent_percentage  \n",
       "name                                                                      \n",
       "Reebok Classic Leather Running Shoes - White (Men)                100.00  \n",
       "Eagle Fat Free Sweetened Condensed Milk                            93.33  \n",
       "Stargate (ws) (ultimate Edition) (director's Cu...                 92.47  \n",
       "Hoover174 Platinum Collection153 Lightweight Ba...                 89.97  \n",
       "100:Complete First Season (blu-Ray)                                89.21  "
      ]
     },
     "execution_count": 200,
     "metadata": {},
     "output_type": "execute_result"
    }
   ],
   "source": [
    "top5_reco_sent_reco_user"
   ]
  },
  {
   "cell_type": "code",
   "execution_count": 201,
   "id": "5b5b53d6",
   "metadata": {},
   "outputs": [
    {
     "name": "stdout",
     "output_type": "stream",
     "text": [
      "Printing the top 5 recommended products list for the user: charlie\n",
      "['Reebok Classic Leather Running Shoes - White (Men)', 'Eagle Fat Free Sweetened Condensed Milk', \"Stargate (ws) (ultimate Edition) (director's Cut) (dvdvideo)\", 'Hoover174 Platinum Collection153 Lightweight Bagged Upright Vacuum With Canister - Uh30010com', '100:Complete First Season (blu-Ray)']\n"
     ]
    }
   ],
   "source": [
    "# Showing only the top 5 Product Names for the user\n",
    "print(f\"Printing the top 5 recommended products list for the user: {user_input}\")\n",
    "print(list(top5_reco_sent_reco_user.index))"
   ]
  },
  {
   "cell_type": "code",
   "execution_count": 203,
   "id": "ee932a2d",
   "metadata": {},
   "outputs": [],
   "source": [
    "top_5_recommendation = joblib.dump(top5_reco_sent_reco_user, open('models/top_5_recomendations.pkl', 'wb'))"
   ]
  },
  {
   "cell_type": "code",
   "execution_count": null,
   "id": "12307ceb",
   "metadata": {},
   "outputs": [],
   "source": []
  },
  {
   "cell_type": "code",
   "execution_count": null,
   "id": "4f104402",
   "metadata": {},
   "outputs": [],
   "source": []
  }
 ],
 "metadata": {
  "kernelspec": {
   "display_name": "Python 3 (ipykernel)",
   "language": "python",
   "name": "python3"
  },
  "language_info": {
   "codemirror_mode": {
    "name": "ipython",
    "version": 3
   },
   "file_extension": ".py",
   "mimetype": "text/x-python",
   "name": "python",
   "nbconvert_exporter": "python",
   "pygments_lexer": "ipython3",
   "version": "3.11.7"
  }
 },
 "nbformat": 4,
 "nbformat_minor": 5
}
